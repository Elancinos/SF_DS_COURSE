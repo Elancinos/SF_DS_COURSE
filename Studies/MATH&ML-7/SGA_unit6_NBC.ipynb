{
  "cells": [
    {
      "cell_type": "markdown",
      "id": "00009cca",
      "metadata": {
        "id": "00009cca"
      },
      "source": [
        "# Классификация текстов с использованием Наивного Байесовского Классификатора"
      ]
    },
    {
      "cell_type": "code",
      "execution_count": 458,
      "id": "54879075",
      "metadata": {},
      "outputs": [],
      "source": [
        "import pandas as pd\n",
        "import numpy as np\n",
        "import matplotlib.pyplot as plt\n",
        "\n",
        "from sklearn.model_selection import train_test_split\n",
        "from sklearn.naive_bayes import ComplementNB\n",
        "from sklearn.naive_bayes import MultinomialNB\n",
        "from sklearn import metrics\n",
        "from sklearn import model_selection"
      ]
    },
    {
      "cell_type": "markdown",
      "id": "a52414b8",
      "metadata": {
        "id": "a52414b8"
      },
      "source": [
        "## Задание 1 (1 балл)"
      ]
    },
    {
      "cell_type": "markdown",
      "id": "f5f27b43",
      "metadata": {
        "id": "f5f27b43"
      },
      "source": [
        "Откройте данные. Узнайте, сколько в них спам- и не спам-писем. Визуализируйте полученные соотношение подходящим образом."
      ]
    },
    {
      "cell_type": "code",
      "execution_count": 459,
      "id": "ac369274",
      "metadata": {
        "id": "ac369274"
      },
      "outputs": [
        {
          "data": {
            "text/html": [
              "<div>\n",
              "<style scoped>\n",
              "    .dataframe tbody tr th:only-of-type {\n",
              "        vertical-align: middle;\n",
              "    }\n",
              "\n",
              "    .dataframe tbody tr th {\n",
              "        vertical-align: top;\n",
              "    }\n",
              "\n",
              "    .dataframe thead th {\n",
              "        text-align: right;\n",
              "    }\n",
              "</style>\n",
              "<table border=\"1\" class=\"dataframe\">\n",
              "  <thead>\n",
              "    <tr style=\"text-align: right;\">\n",
              "      <th></th>\n",
              "      <th>email</th>\n",
              "      <th>label</th>\n",
              "    </tr>\n",
              "  </thead>\n",
              "  <tbody>\n",
              "    <tr>\n",
              "      <th>0</th>\n",
              "      <td>date wed NUMBER aug NUMBER NUMBER NUMBER NUMB...</td>\n",
              "      <td>0</td>\n",
              "    </tr>\n",
              "    <tr>\n",
              "      <th>1</th>\n",
              "      <td>martin a posted tassos papadopoulos the greek ...</td>\n",
              "      <td>0</td>\n",
              "    </tr>\n",
              "    <tr>\n",
              "      <th>2</th>\n",
              "      <td>man threatens explosion in moscow thursday aug...</td>\n",
              "      <td>0</td>\n",
              "    </tr>\n",
              "    <tr>\n",
              "      <th>3</th>\n",
              "      <td>klez the virus that won t die already the most...</td>\n",
              "      <td>0</td>\n",
              "    </tr>\n",
              "    <tr>\n",
              "      <th>4</th>\n",
              "      <td>in adding cream to spaghetti carbonara which ...</td>\n",
              "      <td>0</td>\n",
              "    </tr>\n",
              "    <tr>\n",
              "      <th>...</th>\n",
              "      <td>...</td>\n",
              "      <td>...</td>\n",
              "    </tr>\n",
              "    <tr>\n",
              "      <th>2995</th>\n",
              "      <td>abc s good morning america ranks it the NUMBE...</td>\n",
              "      <td>1</td>\n",
              "    </tr>\n",
              "    <tr>\n",
              "      <th>2996</th>\n",
              "      <td>hyperlink hyperlink hyperlink let mortgage le...</td>\n",
              "      <td>1</td>\n",
              "    </tr>\n",
              "    <tr>\n",
              "      <th>2997</th>\n",
              "      <td>thank you for shopping with us gifts for all ...</td>\n",
              "      <td>1</td>\n",
              "    </tr>\n",
              "    <tr>\n",
              "      <th>2998</th>\n",
              "      <td>the famous ebay marketing e course learn to s...</td>\n",
              "      <td>1</td>\n",
              "    </tr>\n",
              "    <tr>\n",
              "      <th>2999</th>\n",
              "      <td>hello this is chinese traditional 子 件 NUMBER世...</td>\n",
              "      <td>1</td>\n",
              "    </tr>\n",
              "  </tbody>\n",
              "</table>\n",
              "<p>3000 rows × 2 columns</p>\n",
              "</div>"
            ],
            "text/plain": [
              "                                                  email  label\n",
              "0      date wed NUMBER aug NUMBER NUMBER NUMBER NUMB...      0\n",
              "1     martin a posted tassos papadopoulos the greek ...      0\n",
              "2     man threatens explosion in moscow thursday aug...      0\n",
              "3     klez the virus that won t die already the most...      0\n",
              "4      in adding cream to spaghetti carbonara which ...      0\n",
              "...                                                 ...    ...\n",
              "2995   abc s good morning america ranks it the NUMBE...      1\n",
              "2996   hyperlink hyperlink hyperlink let mortgage le...      1\n",
              "2997   thank you for shopping with us gifts for all ...      1\n",
              "2998   the famous ebay marketing e course learn to s...      1\n",
              "2999   hello this is chinese traditional 子 件 NUMBER世...      1\n",
              "\n",
              "[3000 rows x 2 columns]"
            ]
          },
          "execution_count": 459,
          "metadata": {},
          "output_type": "execute_result"
        }
      ],
      "source": [
        "# откройте данные: ваш код здесь\n",
        "data = pd.read_csv('data/spam_or_not_spam.zip')\n",
        "data"
      ]
    },
    {
      "cell_type": "markdown",
      "id": "471eacf1",
      "metadata": {},
      "source": [
        "P.S. Похоже, что сообщения отсортированы по типу. То есть, спам-сообщения в конце."
      ]
    },
    {
      "cell_type": "code",
      "execution_count": 460,
      "id": "f4231781",
      "metadata": {
        "id": "f4231781"
      },
      "outputs": [
        {
          "data": {
            "text/plain": [
              "label\n",
              "0    2500\n",
              "1     500\n",
              "Name: count, dtype: int64"
            ]
          },
          "execution_count": 460,
          "metadata": {},
          "output_type": "execute_result"
        }
      ],
      "source": [
        "# рассчитайте частоты для классов : ваш код здесь\n",
        "data['label'].value_counts()"
      ]
    },
    {
      "cell_type": "code",
      "execution_count": 461,
      "id": "9b871636",
      "metadata": {
        "id": "9b871636"
      },
      "outputs": [
        {
          "data": {
            "image/png": "[encoded data removed]",
            "text/plain": [
              "<Figure size 700x700 with 1 Axes>"
            ]
          },
          "metadata": {},
          "output_type": "display_data"
        }
      ],
      "source": [
        "# визуализируйте результат: ваш код здесь\n",
        "fig = plt.figure(figsize=(7,7))\n",
        "plt.pie(data['label'].value_counts()/data.shape[0] * 100, labels=['ham', 'spam'], autopct='%.2f%%')\n",
        "plt.title('Отношение сообщений спам-не спам в данных')\n",
        "plt.show()"
      ]
    },
    {
      "cell_type": "markdown",
      "id": "c4fb7264",
      "metadata": {},
      "source": [
        "Категории не равнозначные. Спам-сообщений сильно меньше."
      ]
    },
    {
      "cell_type": "markdown",
      "id": "b161614b",
      "metadata": {
        "id": "b161614b"
      },
      "source": [
        "## Задание 2 (2 балла)"
      ]
    },
    {
      "cell_type": "markdown",
      "id": "dd29763b",
      "metadata": {
        "id": "dd29763b"
      },
      "source": [
        "Вам необходимо предобработать ваши данные и перевести их в векторный вид. Подгрузим необходимый модуль:"
      ]
    },
    {
      "cell_type": "code",
      "execution_count": 462,
      "id": "382eac9c",
      "metadata": {
        "id": "382eac9c"
      },
      "outputs": [],
      "source": [
        "from sklearn.feature_extraction.text import CountVectorizer"
      ]
    },
    {
      "cell_type": "markdown",
      "id": "89546b95",
      "metadata": {
        "id": "89546b95"
      },
      "source": [
        "Замените в данных все пустые строки и строки, состоящие из пробелов, на пропуски (NaN). После этого удалите из данных все строки, в которых наблюдаются пропущенные значения."
      ]
    },
    {
      "cell_type": "code",
      "execution_count": 463,
      "id": "955d7a98",
      "metadata": {},
      "outputs": [
        {
          "data": {
            "text/plain": [
              "email  label\n",
              "False  False    2999\n",
              "True   False       1\n",
              "Name: count, dtype: int64"
            ]
          },
          "execution_count": 463,
          "metadata": {},
          "output_type": "execute_result"
        }
      ],
      "source": [
        "#Для начала гляну, есть ли стандартные пропуски\n",
        "data.isna().value_counts()"
      ]
    },
    {
      "cell_type": "code",
      "execution_count": 464,
      "id": "45180f82",
      "metadata": {
        "id": "45180f82"
      },
      "outputs": [
        {
          "data": {
            "text/plain": [
              "email\n",
              "False    2997\n",
              "True        3\n",
              "Name: count, dtype: int64"
            ]
          },
          "metadata": {},
          "output_type": "display_data"
        },
        {
          "data": {
            "text/plain": [
              "(2997, 2)"
            ]
          },
          "execution_count": 464,
          "metadata": {},
          "output_type": "execute_result"
        }
      ],
      "source": [
        "#ваш код здесь\n",
        "empty_rows = data['email'].isna() | data['email'].astype('str').str.strip().eq('') \n",
        "display(empty_rows.value_counts())\n",
        "data['email'] = data['email'].apply(lambda x: np.nan if str(x).strip() == '' else x)\n",
        "data = data.dropna(axis=0, how='any')\n",
        "data.shape"
      ]
    },
    {
      "cell_type": "markdown",
      "id": "33b0e3e2",
      "metadata": {},
      "source": [
        "Итого: 1 пропуск был изначально, и ещё 2 сообщения состояли из пробелов, всего 3 пустых сообщения."
      ]
    },
    {
      "cell_type": "markdown",
      "id": "2ca2fe88",
      "metadata": {
        "id": "2ca2fe88"
      },
      "source": [
        "Переводим данные в векторный вид:"
      ]
    },
    {
      "cell_type": "code",
      "execution_count": 465,
      "id": "29e9a37b",
      "metadata": {
        "id": "29e9a37b"
      },
      "outputs": [],
      "source": [
        "vectorizer = CountVectorizer()\n",
        "X = vectorizer.fit_transform(data[\"email\"])"
      ]
    },
    {
      "cell_type": "markdown",
      "id": "88c8b726",
      "metadata": {
        "id": "88c8b726"
      },
      "source": [
        "Определите, сколько теперь признаков в нашем наборе данных:"
      ]
    },
    {
      "cell_type": "code",
      "execution_count": 466,
      "id": "f19c2a02",
      "metadata": {
        "id": "f19c2a02"
      },
      "outputs": [
        {
          "name": "stdout",
          "output_type": "stream",
          "text": [
            "Признаков после векторизации: 34116\n"
          ]
        }
      ],
      "source": [
        "#ваш код здесь\n",
        "print('Признаков после векторизации:', X.shape[1])"
      ]
    },
    {
      "cell_type": "markdown",
      "id": "d98d0d2b",
      "metadata": {},
      "source": [
        "Признаков теперь более чем в 10 раз больше, чем самих сообщений. "
      ]
    },
    {
      "cell_type": "markdown",
      "id": "1803f282",
      "metadata": {
        "id": "1803f282"
      },
      "source": [
        "## Задание 3 (2 балла)"
      ]
    },
    {
      "cell_type": "markdown",
      "id": "39f400b7",
      "metadata": {
        "id": "39f400b7"
      },
      "source": [
        "Определите целевую переменную и признаки:"
      ]
    },
    {
      "cell_type": "code",
      "execution_count": 467,
      "id": "31f1acb6",
      "metadata": {
        "id": "31f1acb6"
      },
      "outputs": [],
      "source": [
        "#ваш код здесь\n",
        "y = data['label']\n",
        "\n",
        "# X используем преобразованный CountVectorizer'ом"
      ]
    },
    {
      "cell_type": "markdown",
      "id": "b20f273e",
      "metadata": {
        "id": "b20f273e"
      },
      "source": [
        "Разделите выборку на обучающую и тестовую, используя стратифицированное разбиение (параметр `stratify` установите в значение вектора ответов y) размер тестовой выборки (`test_size`) возьмите как 0.25, параметр `random_state` определите со значением 42:"
      ]
    },
    {
      "cell_type": "code",
      "execution_count": 468,
      "id": "96538fb6",
      "metadata": {
        "id": "96538fb6"
      },
      "outputs": [],
      "source": [
        "#ваш код здесь\n",
        "X_train, X_test, y_train, y_test = train_test_split(X, y, test_size=0.25, stratify=y, random_state=42)"
      ]
    },
    {
      "cell_type": "markdown",
      "id": "139dac3d",
      "metadata": {
        "id": "139dac3d"
      },
      "source": [
        "Рассчитайте среднее значение целевой переменной по тестовой выборке:"
      ]
    },
    {
      "cell_type": "code",
      "execution_count": 469,
      "id": "e9baf72d",
      "metadata": {
        "id": "e9baf72d"
      },
      "outputs": [
        {
          "data": {
            "text/plain": [
              "0.165"
            ]
          },
          "execution_count": 469,
          "metadata": {},
          "output_type": "execute_result"
        }
      ],
      "source": [
        "#ваш код здесь\n",
        "round(y_test.mean(), 3)"
      ]
    },
    {
      "cell_type": "markdown",
      "id": "710e0e94",
      "metadata": {
        "id": "710e0e94"
      },
      "source": [
        "## Задание 4 (3 балла)"
      ]
    },
    {
      "cell_type": "markdown",
      "id": "26cf6885",
      "metadata": {
        "id": "26cf6885"
      },
      "source": [
        "Определите и обучите подходящий алгоритм с параметром alpha = 0.01"
      ]
    },
    {
      "cell_type": "code",
      "execution_count": 470,
      "id": "4865dd78",
      "metadata": {
        "id": "4865dd78"
      },
      "outputs": [],
      "source": [
        "#ваш код здесь\n",
        "NBmodel = ComplementNB(alpha=0.01)\n",
        "NBmodel.fit(X_train, y_train)\n",
        "\n",
        "y_train_pred = NBmodel.predict(X_train)\n",
        "y_test_pred = NBmodel.predict(X_test)"
      ]
    },
    {
      "cell_type": "markdown",
      "id": "d803fbe3",
      "metadata": {
        "id": "d803fbe3"
      },
      "source": [
        "Оцените результат с точки зрения всех известных вам метрик (не менее трёх):"
      ]
    },
    {
      "cell_type": "code",
      "execution_count": 471,
      "id": "b0bbc4d2",
      "metadata": {
        "id": "b0bbc4d2"
      },
      "outputs": [
        {
          "name": "stdout",
          "output_type": "stream",
          "text": [
            "Accuracy train: 0.9996\n",
            "Accuracy test: 0.988\n",
            "--------------------\n",
            "Recall train: 0.9973\n",
            "Recall test: 0.9274\n",
            "--------------------\n",
            "Precision train: 1.0\n",
            "Precision test: 1.0\n",
            "--------------------\n",
            "f1 train: 0.9987\n",
            "f1 test: 0.9623\n",
            "--------------------\n"
          ]
        }
      ],
      "source": [
        "#ваш код здесь\n",
        "print('Accuracy train:', round(metrics.accuracy_score(y_pred=y_train_pred, y_true=y_train), 4))\n",
        "print('Accuracy test:', round(metrics.accuracy_score(y_pred=y_test_pred, y_true=y_test), 4))\n",
        "print('-'*20)\n",
        "\n",
        "print('Recall train:', round(metrics.recall_score(y_pred=y_train_pred, y_true=y_train), 4))\n",
        "print('Recall test:', round(metrics.recall_score(y_pred=y_test_pred, y_true=y_test), 4))\n",
        "print('-'*20)\n",
        "\n",
        "print('Precision train:', round(metrics.precision_score(y_pred=y_train_pred, y_true=y_train), 5))\n",
        "print('Precision test:', round(metrics.precision_score(y_pred=y_test_pred, y_true=y_test), 4))\n",
        "print('-'*20)\n",
        "\n",
        "print('f1 train:', round(metrics.f1_score(y_pred=y_train_pred, y_true=y_train), 4))\n",
        "print('f1 test:', round(metrics.f1_score(y_pred=y_test_pred, y_true=y_test), 4))\n",
        "print('-'*20)"
      ]
    },
    {
      "cell_type": "markdown",
      "id": "c85976d1",
      "metadata": {
        "id": "c85976d1"
      },
      "source": [
        "Нарисуйте ROC-кривую:"
      ]
    },
    {
      "cell_type": "code",
      "execution_count": 472,
      "id": "c684fe14",
      "metadata": {},
      "outputs": [
        {
          "data": {
            "text/plain": [
              "<sklearn.metrics._plot.roc_curve.RocCurveDisplay at 0x1db07bfaea0>"
            ]
          },
          "execution_count": 472,
          "metadata": {},
          "output_type": "execute_result"
        },
        {
          "data": {
            "image/png": "[encoded data removed]",
            "text/plain": [
              "<Figure size 640x480 with 1 Axes>"
            ]
          },
          "metadata": {},
          "output_type": "display_data"
        }
      ],
      "source": [
        "#ваш код здесь\n",
        "#Для тренировочных данных\n",
        "metrics.RocCurveDisplay.from_estimator(NBmodel, X_train, y_train)"
      ]
    },
    {
      "cell_type": "code",
      "execution_count": 473,
      "id": "b4195126",
      "metadata": {
        "id": "b4195126"
      },
      "outputs": [
        {
          "data": {
            "text/plain": [
              "<sklearn.metrics._plot.roc_curve.RocCurveDisplay at 0x1db0ac27e30>"
            ]
          },
          "execution_count": 473,
          "metadata": {},
          "output_type": "execute_result"
        },
        {
          "data": {
            "image/png": "[encoded data removed]",
            "text/plain": [
              "<Figure size 640x480 with 1 Axes>"
            ]
          },
          "metadata": {},
          "output_type": "display_data"
        }
      ],
      "source": [
        "#Для тестовых данных\n",
        "metrics.RocCurveDisplay.from_estimator(NBmodel, X_test, y_test)"
      ]
    },
    {
      "cell_type": "markdown",
      "id": "cf0bb49b",
      "metadata": {
        "id": "cf0bb49b"
      },
      "source": [
        "## Задание 5 (3 балла)"
      ]
    },
    {
      "cell_type": "markdown",
      "id": "30b7a0ae",
      "metadata": {
        "id": "30b7a0ae"
      },
      "source": [
        "Переберите несколько значений alpha с помощью кросс-валидации. Оцените, зависит ли от этого параметра качество классификации."
      ]
    },
    {
      "cell_type": "code",
      "execution_count": 474,
      "id": "3513d907",
      "metadata": {
        "id": "3513d907"
      },
      "outputs": [
        {
          "name": "stdout",
          "output_type": "stream",
          "text": [
            "CPU times: total: 234 ms\n",
            "Wall time: 1.82 s\n",
            "accuracy на тестовом наборе: 1.00\n",
            "Наилучшие значения гиперпараметров: {'alpha': 0.34}\n",
            "Accuracy train: 0.9987\n",
            "Accuracy test: 0.9947\n",
            "--------------------\n",
            "Recall train: 0.9946\n",
            "Recall test: 0.9758\n",
            "--------------------\n",
            "Precision train: 0.9973\n",
            "Precision test: 0.9918\n",
            "--------------------\n",
            "f1 train: 0.996\n",
            "f1 test: 0.9837\n",
            "--------------------\n"
          ]
        }
      ],
      "source": [
        "#ваш код здесь\n",
        "\n",
        "param_grid_lr = [\n",
        "              {'alpha': np.arange(0.01, 1, 0.01)}\n",
        "]\n",
        "\n",
        "# Параметры модели\n",
        "grid_search_model = model_selection.GridSearchCV(\n",
        "    estimator=ComplementNB(), \n",
        "    param_grid=param_grid_lr, \n",
        "    cv=5, \n",
        "    n_jobs = -1\n",
        ")  \n",
        "\n",
        "# Инициализация поиска\n",
        "%time grid_search_model.fit(X_train, y_train)\n",
        "print(\"accuracy на тестовом наборе: {:.2f}\".format(grid_search_model.score(X_train, y_train)))\n",
        "y_train_pred = grid_search_model.predict(X_train)\n",
        "y_test_pred = grid_search_model.predict(X_test)\n",
        "\n",
        "print(\"Наилучшие значения гиперпараметров: {}\".format(grid_search_model.best_params_))\n",
        "\n",
        "print('Accuracy train:', round(metrics.accuracy_score(y_pred=y_train_pred, y_true=y_train), 4))\n",
        "print('Accuracy test:', round(metrics.accuracy_score(y_pred=y_test_pred, y_true=y_test), 4))\n",
        "print('-'*20)\n",
        "\n",
        "print('Recall train:', round(metrics.recall_score(y_pred=y_train_pred, y_true=y_train), 4))\n",
        "print('Recall test:', round(metrics.recall_score(y_pred=y_test_pred, y_true=y_test), 4))\n",
        "print('-'*20)\n",
        "\n",
        "print('Precision train:', round(metrics.precision_score(y_pred=y_train_pred, y_true=y_train), 4))\n",
        "print('Precision test:', round(metrics.precision_score(y_pred=y_test_pred, y_true=y_test), 4))\n",
        "print('-'*20)\n",
        "\n",
        "print('f1 train:', round(metrics.f1_score(y_pred=y_train_pred, y_true=y_train), 4))\n",
        "print('f1 test:', round(metrics.f1_score(y_pred=y_test_pred, y_true=y_test), 4))\n",
        "print('-'*20)"
      ]
    },
    {
      "cell_type": "markdown",
      "id": "fe871701",
      "metadata": {},
      "source": [
        "Да, alpha влияет на качество классификации. Все метрики, кроме precision, стали чуть лучше при предсказании тестовых данных."
      ]
    },
    {
      "cell_type": "markdown",
      "id": "465cdbed",
      "metadata": {},
      "source": [
        "# ДОПОЛНИТЕЛЬНО (для себя)\n",
        "\n",
        "Смотрю разницу методов MultinomialNB и ComplementNB"
      ]
    },
    {
      "cell_type": "code",
      "execution_count": 475,
      "id": "14d75dd2",
      "metadata": {},
      "outputs": [
        {
          "name": "stdout",
          "output_type": "stream",
          "text": [
            "Accuracy train: 0.9991\n",
            "Accuracy test: 0.9867\n",
            "--------------------\n",
            "Recall train: 0.9946\n",
            "Recall test: 0.9194\n",
            "--------------------\n",
            "Precision train: 1.0\n",
            "Precision test: 1.0\n",
            "--------------------\n",
            "f1 train: 0.9973\n",
            "f1 test: 0.958\n",
            "--------------------\n"
          ]
        }
      ],
      "source": [
        "NBmodel = MultinomialNB(alpha=0.01)\n",
        "NBmodel.fit(X_train, y_train)\n",
        "\n",
        "y_train_pred = NBmodel.predict(X_train)\n",
        "y_test_pred = NBmodel.predict(X_test)\n",
        "\n",
        "print('Accuracy train:', round(metrics.accuracy_score(y_pred=y_train_pred, y_true=y_train), 4))\n",
        "print('Accuracy test:', round(metrics.accuracy_score(y_pred=y_test_pred, y_true=y_test), 4))\n",
        "print('-'*20)\n",
        "\n",
        "print('Recall train:', round(metrics.recall_score(y_pred=y_train_pred, y_true=y_train), 4))\n",
        "print('Recall test:', round(metrics.recall_score(y_pred=y_test_pred, y_true=y_test), 4))\n",
        "print('-'*20)\n",
        "\n",
        "print('Precision train:', round(metrics.precision_score(y_pred=y_train_pred, y_true=y_train), 5))\n",
        "print('Precision test:', round(metrics.precision_score(y_pred=y_test_pred, y_true=y_test), 4))\n",
        "print('-'*20)\n",
        "\n",
        "print('f1 train:', round(metrics.f1_score(y_pred=y_train_pred, y_true=y_train), 4))\n",
        "print('f1 test:', round(metrics.f1_score(y_pred=y_test_pred, y_true=y_test), 4))\n",
        "print('-'*20)"
      ]
    }
  ],
  "metadata": {
    "colab": {
      "name": "SGA_unit6_NBC.ipynb",
      "provenance": []
    },
    "kernelspec": {
      "display_name": "Python 3",
      "language": "python",
      "name": "python3"
    },
    "language_info": {
      "codemirror_mode": {
        "name": "ipython",
        "version": 3
      },
      "file_extension": ".py",
      "mimetype": "text/x-python",
      "name": "python",
      "nbconvert_exporter": "python",
      "pygments_lexer": "ipython3",
      "version": "3.12.3"
    }
  },
  "nbformat": 4,
  "nbformat_minor": 5
}
