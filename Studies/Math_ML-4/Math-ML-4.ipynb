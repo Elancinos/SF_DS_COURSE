{
 "cells": [
  {
   "cell_type": "markdown",
   "id": "9bc02590",
   "metadata": {},
   "source": [
    "# <center> MATH&ML-4. Математический анализ в контексте задачи оптимизации. Часть I"
   ]
  },
  {
   "cell_type": "markdown",
   "id": "20079c00",
   "metadata": {},
   "source": [
    "### Юнит 2. Множества. Операции над множествами"
   ]
  },
  {
   "cell_type": "code",
   "execution_count": 65,
   "id": "49f2a74e",
   "metadata": {},
   "outputs": [],
   "source": [
    "#Импорты\n",
    "\n",
    "import sympy"
   ]
  },
  {
   "cell_type": "code",
   "execution_count": 66,
   "id": "5a02a3fc",
   "metadata": {},
   "outputs": [
    {
     "name": "stdout",
     "output_type": "stream",
     "text": [
      "Объединение множеств:\n",
      "{'ID312', 'ID453', 'ID7', 'ID124', 'ID91', 'ID501', 'ID27', 'ID3', 'ID41', 'ID36', 'ID920', 'ID500'}\n",
      "----------------------------------------\n",
      "Пересечение множеств:\n",
      "{'ID27', 'ID41', 'ID36'}\n",
      "----------------------------------------\n",
      "Разность множеств:\n",
      "{'ID312', 'ID453', 'ID3', 'ID920', 'ID500'}\n",
      "{'ID124', 'ID91', 'ID501', 'ID7'}\n",
      "----------------------------------------\n",
      "Симметричная разность:\n",
      "{'ID312', 'ID453', 'ID920', 'ID3', 'ID500', 'ID7', 'ID124', 'ID91', 'ID501'}\n"
     ]
    }
   ],
   "source": [
    "#Пользователи мобильного интернета\n",
    "A = {'ID453', 'ID312', 'ID41', 'ID3', 'ID500', 'ID920', 'ID36', 'ID27'}\n",
    "#Пользователи домашнего интернета\n",
    "B = {'ID41', 'ID36', 'ID27', 'ID124', 'ID7', 'ID501', 'ID91' }\n",
    "\n",
    "#Объединение множеств\n",
    "union_AB = A.union(B)  #A|B то же самое\n",
    "print('Объединение множеств:')\n",
    "print(union_AB)\n",
    "print('-'*40)\n",
    "\n",
    "#Пересечение множеств\n",
    "inter_AB = A.intersection(B)  #A&B то же самое\n",
    "print('Пересечение множеств:')\n",
    "print(inter_AB)\n",
    "print('-'*40)\n",
    "\n",
    "#Разность множеств\n",
    "diff_AB = A.difference(B)  #A-B то же самое\n",
    "print('Разность множеств:')\n",
    "print(diff_AB)\n",
    "diff_BA = B - A\n",
    "print(diff_BA)\n",
    "print('-'*40)\n",
    "\n",
    "#Симметричная разность\n",
    "symm_AB = A.symmetric_difference(B)  #A^B то же самое\n",
    "print('Симметричная разность:')\n",
    "print(symm_AB)"
   ]
  },
  {
   "cell_type": "code",
   "execution_count": 67,
   "id": "09a56d79",
   "metadata": {},
   "outputs": [
    {
     "name": "stdout",
     "output_type": "stream",
     "text": [
      "{1, 3, 7, 9, 10}\n",
      "----------------------------------------\n"
     ]
    },
    {
     "data": {
      "text/latex": [
       "$\\displaystyle \\left\\{x\\; \\middle|\\; x \\in \\left[2, 9\\right] \\wedge x^{2} - 5 x = 0 \\right\\}$"
      ],
      "text/plain": [
       "ConditionSet(x, Eq(x**2 - 5*x, 0), Interval(2, 9))"
      ]
     },
     "execution_count": 67,
     "metadata": {},
     "output_type": "execute_result"
    }
   ],
   "source": [
    "#Пример работы с SimPy\n",
    "from sympy import FiniteSet, Union\n",
    "l1 = [1, 3, 7, 10] \n",
    "l2 = [9, 7, 1] \n",
    "a = FiniteSet(*l1) \n",
    "b = FiniteSet(*l2) \n",
    "print(Union(a, b))\n",
    "\n",
    "print('-'*40)\n",
    "from sympy import ConditionSet, Eq, Symbol, Interval\n",
    "x=Symbol('x')\n",
    "s=ConditionSet(x, Eq(x**2-5*x,0), Interval(2,9))\n",
    "s"
   ]
  },
  {
   "cell_type": "code",
   "execution_count": 68,
   "id": "7cbee1f1",
   "metadata": {},
   "outputs": [
    {
     "name": "stdout",
     "output_type": "stream",
     "text": [
      "3\n",
      "10\n",
      "7\n"
     ]
    }
   ],
   "source": [
    "programming = {'bennet@xyz.com', 'darcy@abc.com', 'margaret@xyz.com', 'pa@hhh.com', 'marimari@xyz.com', 'mallika@yahoo.com', 'abc@xyz.com', '0071235@gmail.ru'}\n",
    "ml = {'marimari@xyz.com', 'darcy@abc.com', '0071235@gmail.ru', 'darcy@abc.com', 'petr44@xyz.com', 'katrin@ya.com'}\n",
    "\n",
    "#Задание 2.6\n",
    "print(len(programming&ml))\n",
    "#Задание 2.7\n",
    "print(len(programming|ml))\n",
    "#Задание 2.8\n",
    "print(len(programming^ml))"
   ]
  },
  {
   "cell_type": "markdown",
   "id": "85add843",
   "metadata": {},
   "source": [
    "### Юнит 4. Исследование функции"
   ]
  },
  {
   "cell_type": "code",
   "execution_count": 69,
   "id": "99c3d809",
   "metadata": {},
   "outputs": [
    {
     "data": {
      "text/latex": [
       "$\\displaystyle \\left(-\\infty, 0\\right) \\cup \\left(0, \\infty\\right)$"
      ],
      "text/plain": [
       "Union(Interval.open(-oo, 0), Interval.open(0, oo))"
      ]
     },
     "execution_count": 69,
     "metadata": {},
     "output_type": "execute_result"
    }
   ],
   "source": [
    "from sympy import Symbol, S #импортируем нужные функции для обозначения переменных\n",
    "from sympy.calculus.util import function_range #импортируем функцию для поиска области значения\n",
    "from sympy.calculus.util import continuous_domain #импортируем функцию для поиска области определения\n",
    "x = Symbol(\"x\") #определяем нашу переменную\n",
    "f = 1/x #определяем нашу функцию\n",
    "continuous_domain(f, x, S.Reals) #вычисляем область определения"
   ]
  },
  {
   "cell_type": "code",
   "execution_count": 70,
   "id": "0e65c41a",
   "metadata": {},
   "outputs": [
    {
     "data": {
      "text/latex": [
       "$\\displaystyle \\left(0, \\infty\\right)$"
      ],
      "text/plain": [
       "Interval.open(0, oo)"
      ]
     },
     "execution_count": 70,
     "metadata": {},
     "output_type": "execute_result"
    }
   ],
   "source": [
    "from sympy import log\n",
    "x = Symbol(\"x\")\n",
    "f = log(x)/x\n",
    "continuous_domain(f, x, S.Reals)"
   ]
  },
  {
   "cell_type": "code",
   "execution_count": 71,
   "id": "10563b18",
   "metadata": {},
   "outputs": [
    {
     "data": {
      "text/latex": [
       "$\\displaystyle \\left[-1, 1\\right]$"
      ],
      "text/plain": [
       "Interval(-1, 1)"
      ]
     },
     "execution_count": 71,
     "metadata": {},
     "output_type": "execute_result"
    }
   ],
   "source": [
    "from sympy import Symbol, S, sin #импортируем нужные функции для обозначения переменных\n",
    "from sympy.calculus.util import function_range #импортируем функцию для поиска области значений\n",
    "x = Symbol(\"x\")\n",
    "f = sin(x)\n",
    "function_range(f, x, S.Reals)"
   ]
  },
  {
   "cell_type": "code",
   "execution_count": 72,
   "id": "82d446dc",
   "metadata": {},
   "outputs": [
    {
     "data": {
      "text/latex": [
       "$\\displaystyle \\left[- 2 e, \\infty\\right)$"
      ],
      "text/plain": [
       "Interval(-2*E, oo)"
      ]
     },
     "execution_count": 72,
     "metadata": {},
     "output_type": "execute_result"
    }
   ],
   "source": [
    "from sympy import Symbol, symbols, S #импортируем нужные функции для обозначения переменных\n",
    "from sympy.calculus.util import function_range #импортируем функцию для поиска области значений\n",
    "from sympy import exp #добавляем функцию для вычисления экспоненциальной функции\n",
    "x = Symbol(\"x\")\n",
    "f = (x*x-3)/(exp(x))\n",
    "function_range(f, x, S.Reals)"
   ]
  },
  {
   "cell_type": "code",
   "execution_count": 73,
   "id": "dd140f9e",
   "metadata": {},
   "outputs": [
    {
     "data": {
      "text/latex": [
       "$\\displaystyle 4$"
      ],
      "text/plain": [
       "4"
      ]
     },
     "execution_count": 73,
     "metadata": {},
     "output_type": "execute_result"
    }
   ],
   "source": [
    "# Точка пересечения с осью ординат\n",
    "x = Symbol(\"x\")\n",
    "f = x*x+5*x+4\n",
    "f.subs(x, 0)"
   ]
  },
  {
   "cell_type": "code",
   "execution_count": 74,
   "id": "aedf74b6",
   "metadata": {},
   "outputs": [
    {
     "data": {
      "text/latex": [
       "$\\displaystyle \\left\\{-4, -1\\right\\}$"
      ],
      "text/plain": [
       "{-4, -1}"
      ]
     },
     "execution_count": 74,
     "metadata": {},
     "output_type": "execute_result"
    }
   ],
   "source": [
    "# Точка пересечения с осью абсцисс\n",
    "from sympy import solveset, Eq\n",
    "solveset(Eq(x*x+5*x+4, 0), x)"
   ]
  },
  {
   "cell_type": "code",
   "execution_count": 75,
   "id": "fd4be2dd",
   "metadata": {},
   "outputs": [
    {
     "data": {
      "text/latex": [
       "$\\displaystyle \\left\\{-4, 2\\right\\}$"
      ],
      "text/plain": [
       "{-4, 2}"
      ]
     },
     "execution_count": 75,
     "metadata": {},
     "output_type": "execute_result"
    }
   ],
   "source": [
    "# Задание 4.6\n",
    "x, y = symbols('x y')\n",
    "f = x*x+2*x-8\n",
    "# Для х:\n",
    "solveset(Eq(f, 0), x, S.Reals)"
   ]
  },
  {
   "cell_type": "code",
   "execution_count": 76,
   "id": "ad8cc29c",
   "metadata": {},
   "outputs": [
    {
     "data": {
      "text/latex": [
       "$\\displaystyle \\left(-\\infty, - \\frac{3}{10}\\right] \\cup \\left(0, \\infty\\right)$"
      ],
      "text/plain": [
       "Union(Interval(-oo, -3/10), Interval.open(0, oo))"
      ]
     },
     "execution_count": 76,
     "metadata": {},
     "output_type": "execute_result"
    }
   ],
   "source": [
    "# Задание 4.7\n",
    "f = 3/(x*x-10)\n",
    "function_range(f, x, S.Reals)"
   ]
  },
  {
   "cell_type": "markdown",
   "id": "ec4620c9",
   "metadata": {},
   "source": [
    "### Юнит 6. Вычисление производных"
   ]
  },
  {
   "cell_type": "code",
   "execution_count": 77,
   "id": "d15c9499",
   "metadata": {},
   "outputs": [
    {
     "data": {
      "text/latex": [
       "$\\displaystyle 4 x^{3} + 9 x^{2} + 8 x$"
      ],
      "text/plain": [
       "4*x**3 + 9*x**2 + 8*x"
      ]
     },
     "execution_count": 77,
     "metadata": {},
     "output_type": "execute_result"
    }
   ],
   "source": [
    "x = sympy.symbols('x')\n",
    "expression = x**4 + 3*x**3 + 4*x**2 + 8\n",
    "expression.diff(x)"
   ]
  },
  {
   "cell_type": "code",
   "execution_count": 78,
   "id": "9dc74ddc",
   "metadata": {},
   "outputs": [
    {
     "data": {
      "text/latex": [
       "$\\displaystyle \\frac{2 x + 5}{x^{2} + 5 x} + e^{\\sin{\\left(x \\right)}} \\cos{\\left(x \\right)}$"
      ],
      "text/plain": [
       "(2*x + 5)/(x**2 + 5*x) + exp(sin(x))*cos(x)"
      ]
     },
     "execution_count": 78,
     "metadata": {},
     "output_type": "execute_result"
    }
   ],
   "source": [
    "from sympy import diff, sin, exp, log, Symbol, sqrt\n",
    "x = sympy.symbols('x')\n",
    "expression = log(x**2 + 5*x) + exp(sin(x))\n",
    "expression.diff(x)"
   ]
  },
  {
   "cell_type": "code",
   "execution_count": 79,
   "id": "81312007",
   "metadata": {},
   "outputs": [
    {
     "data": {
      "text/latex": [
       "$\\displaystyle \\left(3 + \\frac{1}{x}\\right) e^{x} \\cos{\\left(3 x + \\log{\\left(x \\right)} \\right)} + e^{x} \\sin{\\left(3 x + \\log{\\left(x \\right)} \\right)}$"
      ],
      "text/plain": [
       "(3 + 1/x)*exp(x)*cos(3*x + log(x)) + exp(x)*sin(3*x + log(x))"
      ]
     },
     "execution_count": 79,
     "metadata": {},
     "output_type": "execute_result"
    }
   ],
   "source": [
    "# Задание 6.5\n",
    "x, y = symbols('x y')\n",
    "expression = sin(x*3 + log(x)) * exp((x))\n",
    "expression.diff(x)"
   ]
  },
  {
   "cell_type": "code",
   "execution_count": 80,
   "id": "ed7c4a6d",
   "metadata": {},
   "outputs": [
    {
     "data": {
      "text/latex": [
       "$\\displaystyle - e^{\\sin{\\left(x \\right)}} \\sin{\\left(x \\right)} + e^{\\sin{\\left(x \\right)}} \\cos^{2}{\\left(x \\right)} + \\frac{2}{x \\left(x + 5\\right)} - \\frac{\\left(2 x + 5\\right)^{2}}{x^{2} \\left(x + 5\\right)^{2}}$"
      ],
      "text/plain": [
       "-exp(sin(x))*sin(x) + exp(sin(x))*cos(x)**2 + 2/(x*(x + 5)) - (2*x + 5)**2/(x**2*(x + 5)**2)"
      ]
     },
     "execution_count": 80,
     "metadata": {},
     "output_type": "execute_result"
    }
   ],
   "source": [
    "# Производные второго порядка\n",
    "\n",
    "x = symbols('x')\n",
    "expression = log(x**2 + 5*x) + exp(sin(x))\n",
    "expression.diff(x, 2)"
   ]
  },
  {
   "cell_type": "code",
   "execution_count": 81,
   "id": "6ba952db",
   "metadata": {},
   "outputs": [
    {
     "data": {
      "text/latex": [
       "$\\displaystyle 6 \\sin{\\left(3 x \\right)} \\cos{\\left(3 x \\right)}$"
      ],
      "text/plain": [
       "6*sin(3*x)*cos(3*x)"
      ]
     },
     "execution_count": 81,
     "metadata": {},
     "output_type": "execute_result"
    }
   ],
   "source": [
    "# Задание 6.9\n",
    "x = symbols('x')\n",
    "expression = sin(3*x)**2\n",
    "expression.diff(x)"
   ]
  },
  {
   "cell_type": "code",
   "execution_count": 82,
   "id": "0a82fd7e",
   "metadata": {},
   "outputs": [
    {
     "data": {
      "text/latex": [
       "$\\displaystyle \\frac{x}{\\sqrt{x^{2} + 1}}$"
      ],
      "text/plain": [
       "x/sqrt(x**2 + 1)"
      ]
     },
     "execution_count": 82,
     "metadata": {},
     "output_type": "execute_result"
    }
   ],
   "source": [
    "# Задание 6.13\n",
    "x = symbols('x')\n",
    "expression = sqrt(1+x**2)\n",
    "expression.diff(x)"
   ]
  },
  {
   "cell_type": "markdown",
   "id": "153c306a",
   "metadata": {},
   "source": [
    "### Юнит 7. Исследование функции с помощью производной"
   ]
  },
  {
   "cell_type": "markdown",
   "id": "fad45e1e",
   "metadata": {},
   "source": [
    "Большая часть вычислений и заданий была на бумажке"
   ]
  },
  {
   "cell_type": "code",
   "execution_count": 83,
   "id": "6718c72b",
   "metadata": {},
   "outputs": [
    {
     "data": {
      "text/latex": [
       "$\\displaystyle \\left\\{- \\sqrt{2}, \\sqrt{2}\\right\\}$"
      ],
      "text/plain": [
       "{-sqrt(2), sqrt(2)}"
      ]
     },
     "execution_count": 83,
     "metadata": {},
     "output_type": "execute_result"
    }
   ],
   "source": [
    "#Задание 7.5\n",
    "x = symbols('x')\n",
    "expression = x**3 - 6*x\n",
    "solveset(Eq(expression.diff(x), 0), x)"
   ]
  },
  {
   "cell_type": "markdown",
   "id": "01bc7eb3",
   "metadata": {},
   "source": [
    "По практическим примерам из курса см. Ассет v1"
   ]
  },
  {
   "cell_type": "markdown",
   "id": "acff274f",
   "metadata": {},
   "source": [
    "### Юнит 8. Практика"
   ]
  },
  {
   "cell_type": "code",
   "execution_count": 84,
   "id": "f1b0a67a",
   "metadata": {},
   "outputs": [],
   "source": [
    "# Исследуемая функция\n",
    "expression = x**3/(2*(x+5)**2)"
   ]
  },
  {
   "cell_type": "code",
   "execution_count": 85,
   "id": "f31eb3e9",
   "metadata": {},
   "outputs": [
    {
     "data": {
      "text/latex": [
       "$\\displaystyle \\left(-\\infty, -5\\right) \\cup \\left(-5, \\infty\\right)$"
      ],
      "text/plain": [
       "Union(Interval.open(-oo, -5), Interval.open(-5, oo))"
      ]
     },
     "execution_count": 85,
     "metadata": {},
     "output_type": "execute_result"
    }
   ],
   "source": [
    "# Задание 8.1\n",
    "# Область определений:\n",
    "x = symbols('x')\n",
    "continuous_domain(expression, x, S.Reals)"
   ]
  },
  {
   "cell_type": "code",
   "execution_count": 86,
   "id": "628a324e",
   "metadata": {},
   "outputs": [
    {
     "data": {
      "text/latex": [
       "$\\displaystyle \\left(-\\infty, \\infty\\right)$"
      ],
      "text/plain": [
       "Interval(-oo, oo)"
      ]
     },
     "execution_count": 86,
     "metadata": {},
     "output_type": "execute_result"
    }
   ],
   "source": [
    "# Задание 8.2\n",
    "# Область значений:\n",
    "x = symbols('x')\n",
    "function_range(expression, x, S.Reals)"
   ]
  },
  {
   "cell_type": "code",
   "execution_count": 87,
   "id": "b69d3b5e",
   "metadata": {},
   "outputs": [
    {
     "data": {
      "text/latex": [
       "$\\displaystyle \\left\\{0\\right\\}$"
      ],
      "text/plain": [
       "{0}"
      ]
     },
     "execution_count": 87,
     "metadata": {},
     "output_type": "execute_result"
    }
   ],
   "source": [
    "# Задание 8.4\n",
    "# Точка пересечения оси абсцисс (х):\n",
    "x = symbols('x')\n",
    "solveset(Eq(expression, 0), x)"
   ]
  },
  {
   "cell_type": "code",
   "execution_count": 88,
   "id": "e5129adf",
   "metadata": {},
   "outputs": [
    {
     "data": {
      "text/latex": [
       "$\\displaystyle 0$"
      ],
      "text/plain": [
       "0"
      ]
     },
     "execution_count": 88,
     "metadata": {},
     "output_type": "execute_result"
    }
   ],
   "source": [
    "# Задание 8.5\n",
    "# Точка пересечения оси ординат (y):\n",
    "x = symbols('x')\n",
    "expression.subs(x, 0)"
   ]
  },
  {
   "cell_type": "code",
   "execution_count": 89,
   "id": "941c85f0",
   "metadata": {},
   "outputs": [
    {
     "data": {
      "text/latex": [
       "$\\displaystyle - \\frac{x^{3}}{\\left(x + 5\\right)^{3}} + \\frac{3 x^{2}}{2 \\left(x + 5\\right)^{2}}$"
      ],
      "text/plain": [
       "-x**3/(x + 5)**3 + 3*x**2/(2*(x + 5)**2)"
      ]
     },
     "execution_count": 89,
     "metadata": {},
     "output_type": "execute_result"
    }
   ],
   "source": [
    "# Задание 8.6\n",
    "# Первая производная\n",
    "expression.diff(x)"
   ]
  },
  {
   "cell_type": "code",
   "execution_count": 90,
   "id": "6cfe0b62",
   "metadata": {},
   "outputs": [
    {
     "data": {
      "text/latex": [
       "$\\displaystyle \\left\\{-15, 0\\right\\}$"
      ],
      "text/plain": [
       "{-15, 0}"
      ]
     },
     "execution_count": 90,
     "metadata": {},
     "output_type": "execute_result"
    }
   ],
   "source": [
    "# Задание 8.7\n",
    "# Экстремумы\n",
    "solveset(Eq(expression.diff(x), 0), x)"
   ]
  },
  {
   "cell_type": "code",
   "execution_count": 91,
   "id": "bce9619d",
   "metadata": {},
   "outputs": [
    {
     "data": {
      "text/latex": [
       "$\\displaystyle \\frac{3 x \\left(\\frac{x^{2}}{\\left(x + 5\\right)^{2}} - \\frac{2 x}{x + 5} + 1\\right)}{\\left(x + 5\\right)^{2}}$"
      ],
      "text/plain": [
       "3*x*(x**2/(x + 5)**2 - 2*x/(x + 5) + 1)/(x + 5)**2"
      ]
     },
     "execution_count": 91,
     "metadata": {},
     "output_type": "execute_result"
    }
   ],
   "source": [
    "# Задание 8.10\n",
    "# Вторая производная\n",
    "expression.diff(x, 2)"
   ]
  },
  {
   "cell_type": "code",
   "execution_count": 92,
   "id": "ca875028",
   "metadata": {},
   "outputs": [
    {
     "data": {
      "text/latex": [
       "$\\displaystyle \\left\\{0\\right\\}$"
      ],
      "text/plain": [
       "{0}"
      ]
     },
     "execution_count": 92,
     "metadata": {},
     "output_type": "execute_result"
    }
   ],
   "source": [
    "# Задание 8.11\n",
    "# Нахождение выпуклостей\n",
    "solveset(Eq(expression.diff(x, 2), 0), x)"
   ]
  },
  {
   "cell_type": "code",
   "execution_count": 93,
   "id": "723ad81e",
   "metadata": {},
   "outputs": [
    {
     "data": {
      "text/latex": [
       "$\\displaystyle \\left\\{0, 2\\right\\}$"
      ],
      "text/plain": [
       "{0, 2}"
      ]
     },
     "execution_count": 93,
     "metadata": {},
     "output_type": "execute_result"
    }
   ],
   "source": [
    "# Задание 9.3\n",
    "x = symbols('x')\n",
    "expression = -x**3 + 3*x**2 + 9\n",
    "solveset(Eq(expression.diff(x), 0), x)"
   ]
  },
  {
   "cell_type": "code",
   "execution_count": 94,
   "id": "b062f5b2",
   "metadata": {},
   "outputs": [
    {
     "data": {
      "text/latex": [
       "$\\displaystyle - 3 x^{2} + 6 x$"
      ],
      "text/plain": [
       "-3*x**2 + 6*x"
      ]
     },
     "execution_count": 94,
     "metadata": {},
     "output_type": "execute_result"
    }
   ],
   "source": [
    "expression.diff(x)"
   ]
  },
  {
   "cell_type": "code",
   "execution_count": 95,
   "id": "89501439",
   "metadata": {},
   "outputs": [
    {
     "data": {
      "text/latex": [
       "$\\displaystyle -2 + \\frac{x^{2} + 1}{x^{2}}$"
      ],
      "text/plain": [
       "-2 + (x**2 + 1)/x**2"
      ]
     },
     "execution_count": 95,
     "metadata": {},
     "output_type": "execute_result"
    }
   ],
   "source": [
    "#Задание 9.5\n",
    "expression = -((x**2 + 1)/x)\n",
    "expression.diff(x)"
   ]
  },
  {
   "cell_type": "code",
   "execution_count": 96,
   "id": "88284749",
   "metadata": {},
   "outputs": [
    {
     "data": {
      "text/latex": [
       "$\\displaystyle \\left\\{-1, 1\\right\\}$"
      ],
      "text/plain": [
       "{-1, 1}"
      ]
     },
     "execution_count": 96,
     "metadata": {},
     "output_type": "execute_result"
    }
   ],
   "source": [
    "solveset(Eq(expression.diff(x), 0), x)"
   ]
  },
  {
   "cell_type": "code",
   "execution_count": 97,
   "id": "6e58a839",
   "metadata": {},
   "outputs": [
    {
     "data": {
      "text/latex": [
       "$\\displaystyle \\left[-1, 1\\right]$"
      ],
      "text/plain": [
       "Interval(-1, 1)"
      ]
     },
     "execution_count": 97,
     "metadata": {},
     "output_type": "execute_result"
    }
   ],
   "source": [
    "#Задание 9.6\n",
    "function_range(sin(x), x, S.Reals)"
   ]
  }
 ],
 "metadata": {
  "kernelspec": {
   "display_name": "Python 3",
   "language": "python",
   "name": "python3"
  },
  "language_info": {
   "codemirror_mode": {
    "name": "ipython",
    "version": 3
   },
   "file_extension": ".py",
   "mimetype": "text/x-python",
   "name": "python",
   "nbconvert_exporter": "python",
   "pygments_lexer": "ipython3",
   "version": "3.12.3"
  }
 },
 "nbformat": 4,
 "nbformat_minor": 5
}
