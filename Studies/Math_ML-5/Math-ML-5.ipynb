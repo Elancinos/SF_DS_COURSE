{
 "cells": [
  {
   "cell_type": "markdown",
   "id": "9bc02590",
   "metadata": {},
   "source": [
    "# <center> MATH&ML-5. Математический анализ в контексте задачи оптимизации. Часть II"
   ]
  },
  {
   "cell_type": "markdown",
   "id": "1e778640",
   "metadata": {},
   "source": [
    "### Юнит 1. Введение. Функции нескольких переменных"
   ]
  },
  {
   "cell_type": "code",
   "execution_count": 9,
   "id": "3055cbe8",
   "metadata": {},
   "outputs": [],
   "source": [
    "#Импорты\n",
    "\n",
    "import sympy\n",
    "from sympy import Eq, solveset, Symbol, symbols, Interval, S, log, sin, cos, exp, diff\n",
    "from sympy.calculus.util import function_range, continuous_domain"
   ]
  },
  {
   "cell_type": "code",
   "execution_count": 10,
   "id": "aec0034b",
   "metadata": {},
   "outputs": [
    {
     "data": {
      "text/latex": [
       "$\\displaystyle \\left\\{\\frac{5}{2}\\right\\}$"
      ],
      "text/plain": [
       "{5/2}"
      ]
     },
     "execution_count": 10,
     "metadata": {},
     "output_type": "execute_result"
    }
   ],
   "source": [
    "# Задание 1.3\n",
    "\n",
    "x = symbols('x')\n",
    "expr = x**2 - 5*x + 4\n",
    "solveset(Eq(expr.diff(x), 0), x)"
   ]
  },
  {
   "cell_type": "code",
   "execution_count": 11,
   "id": "95225f7b",
   "metadata": {},
   "outputs": [
    {
     "data": {
      "text/latex": [
       "$\\displaystyle \\left\\{0, 4\\right\\}$"
      ],
      "text/plain": [
       "{0, 4}"
      ]
     },
     "execution_count": 11,
     "metadata": {},
     "output_type": "execute_result"
    }
   ],
   "source": [
    "# Задание 1.4\n",
    "\n",
    "x = symbols('x')\n",
    "expr = x**3 - 6*x**2 + 2\n",
    "solveset(Eq(expr.diff(x), 0), x)"
   ]
  },
  {
   "cell_type": "code",
   "execution_count": 12,
   "id": "7ebce2f3",
   "metadata": {},
   "outputs": [
    {
     "data": {
      "text/latex": [
       "$\\displaystyle 3 x^{2} - 12 x$"
      ],
      "text/plain": [
       "3*x**2 - 12*x"
      ]
     },
     "execution_count": 12,
     "metadata": {},
     "output_type": "execute_result"
    }
   ],
   "source": [
    "expr.diff(x)"
   ]
  },
  {
   "cell_type": "code",
   "execution_count": 21,
   "id": "a786d9cd",
   "metadata": {},
   "outputs": [
    {
     "name": "stdout",
     "output_type": "stream",
     "text": [
      "0.98\n",
      "0.88\n"
     ]
    }
   ],
   "source": [
    "print(round(1/(1 + exp(-2*2)), 2))\n",
    "print(round(1/(1 + exp(-2*1)), 2))"
   ]
  }
 ],
 "metadata": {
  "kernelspec": {
   "display_name": "Python 3",
   "language": "python",
   "name": "python3"
  },
  "language_info": {
   "codemirror_mode": {
    "name": "ipython",
    "version": 3
   },
   "file_extension": ".py",
   "mimetype": "text/x-python",
   "name": "python",
   "nbconvert_exporter": "python",
   "pygments_lexer": "ipython3",
   "version": "3.12.3"
  }
 },
 "nbformat": 4,
 "nbformat_minor": 5
}
