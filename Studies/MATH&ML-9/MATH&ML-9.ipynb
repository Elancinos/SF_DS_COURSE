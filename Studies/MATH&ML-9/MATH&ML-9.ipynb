{
 "cells": [
  {
   "cell_type": "markdown",
   "id": "11332911",
   "metadata": {},
   "source": [
    "# <center> MATH&ML-9. Математика ансамблевых методов"
   ]
  },
  {
   "cell_type": "code",
   "execution_count": null,
   "id": "63835e26",
   "metadata": {},
   "outputs": [],
   "source": [
    "# Импорты\n",
    "import sympy\n",
    "from sympy import Eq, solveset, Symbol, symbols, Interval, S, log, sin, cos, exp, diff, solve, N\n",
    "from sympy.calculus.util import function_range #импортируем функцию для поиска области значений\n",
    "import numpy as np"
   ]
  },
  {
   "cell_type": "code",
   "execution_count": null,
   "id": "bf351ab1",
   "metadata": {},
   "outputs": [
    {
     "data": {
      "text/latex": [
       "$\\displaystyle 2 x + y = 0$"
      ],
      "text/plain": [
       "Eq(2*x + y, 0)"
      ]
     },
     "metadata": {},
     "output_type": "display_data"
    },
    {
     "data": {
      "text/latex": [
       "$\\displaystyle x + 3 y^{2} - 1 = 0$"
      ],
      "text/plain": [
       "Eq(x + 3*y**2 - 1, 0)"
      ]
     },
     "metadata": {},
     "output_type": "display_data"
    },
    {
     "data": {
      "text/plain": [
       "[{x: -1/3, y: 2/3}, {x: 1/4, y: -1/2}]"
      ]
     },
     "metadata": {},
     "output_type": "display_data"
    },
    {
     "name": "stdout",
     "output_type": "stream",
     "text": [
      "-0.481481481481482\n",
      "0.312500000000000\n"
     ]
    }
   ],
   "source": [
    "# Для стартового тестирования\n",
    "x, y = symbols('x y')\n",
    "func = x**2 + x*y - y + y**3\n",
    "exprx = Eq(func.diff(x), 0)\n",
    "expry = Eq(func.diff(y), 0)\n",
    "\n",
    "display(exprx)\n",
    "display(expry)\n",
    "display(solve([exprx, expry]))\n",
    "\n",
    "print(func.subs([(x, -1/3), (y, 2/3)]))\n",
    "print(func.subs([(x, 1/4), (y, -1/2)]))"
   ]
  }
 ],
 "metadata": {
  "kernelspec": {
   "display_name": "Python 3",
   "language": "python",
   "name": "python3"
  },
  "language_info": {
   "codemirror_mode": {
    "name": "ipython",
    "version": 3
   },
   "file_extension": ".py",
   "mimetype": "text/x-python",
   "name": "python",
   "nbconvert_exporter": "python",
   "pygments_lexer": "ipython3",
   "version": "3.12.3"
  }
 },
 "nbformat": 4,
 "nbformat_minor": 5
}
