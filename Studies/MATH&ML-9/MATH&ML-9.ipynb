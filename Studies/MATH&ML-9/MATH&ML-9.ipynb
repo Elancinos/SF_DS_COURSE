{
 "cells": [
  {
   "cell_type": "markdown",
   "id": "11332911",
   "metadata": {},
   "source": [
    "# <center> MATH&ML-9. Математика ансамблевых методов. Часть 1"
   ]
  },
  {
   "cell_type": "code",
   "execution_count": 227,
   "id": "63835e26",
   "metadata": {},
   "outputs": [],
   "source": [
    "# Импорты\n",
    "import sympy\n",
    "from sympy import Eq, solveset, Symbol, symbols, Interval, S, log, sin, cos, exp, diff, solve, N\n",
    "from sympy.calculus.util import function_range #импортируем функцию для поиска области значений\n",
    "import numpy as np\n",
    "import pandas as pd\n",
    "from sklearn import model_selection\n",
    "from sklearn import metrics\n",
    "from sklearn import linear_model\n",
    "from sklearn import tree\n",
    "from sklearn import ensemble\n",
    "import matplotlib.pyplot as plt"
   ]
  },
  {
   "cell_type": "code",
   "execution_count": 228,
   "id": "bf351ab1",
   "metadata": {},
   "outputs": [
    {
     "data": {
      "text/latex": [
       "$\\displaystyle 2 x + y = 0$"
      ],
      "text/plain": [
       "Eq(2*x + y, 0)"
      ]
     },
     "metadata": {},
     "output_type": "display_data"
    },
    {
     "data": {
      "text/latex": [
       "$\\displaystyle x + 3 y^{2} - 1 = 0$"
      ],
      "text/plain": [
       "Eq(x + 3*y**2 - 1, 0)"
      ]
     },
     "metadata": {},
     "output_type": "display_data"
    },
    {
     "data": {
      "text/plain": [
       "[{x: -1/3, y: 2/3}, {x: 1/4, y: -1/2}]"
      ]
     },
     "metadata": {},
     "output_type": "display_data"
    },
    {
     "name": "stdout",
     "output_type": "stream",
     "text": [
      "-0.481481481481482\n",
      "0.312500000000000\n"
     ]
    }
   ],
   "source": [
    "# Для стартового тестирования\n",
    "x, y = symbols('x y')\n",
    "func = x**2 + x*y - y + y**3\n",
    "exprx = Eq(func.diff(x), 0)\n",
    "expry = Eq(func.diff(y), 0)\n",
    "\n",
    "display(exprx)\n",
    "display(expry)\n",
    "display(solve([exprx, expry]))\n",
    "\n",
    "print(func.subs([(x, -1/3), (y, 2/3)]))\n",
    "print(func.subs([(x, 1/4), (y, -1/2)]))"
   ]
  },
  {
   "cell_type": "markdown",
   "id": "f60973a4",
   "metadata": {},
   "source": [
    "### Юнит 2. Ансамбли моделей. Бутстреппинг. Бэггинг"
   ]
  },
  {
   "cell_type": "code",
   "execution_count": 229,
   "id": "24027585",
   "metadata": {},
   "outputs": [
    {
     "name": "stdout",
     "output_type": "stream",
     "text": [
      "0.317\n"
     ]
    },
    {
     "data": {
      "text/plain": [
       "0.31673469387755115"
      ]
     },
     "execution_count": 229,
     "metadata": {},
     "output_type": "execute_result"
    }
   ],
   "source": [
    "#Задание 2.2\n",
    "print(round((4.4**2*1/7 + 3.8**2*1/7 + 4.8**2*1/7 + 4**2*1/7 + 3.4**2*1/7 + 4.2**2*1/7 + 5.2**2*1/7) - ((4.4*1/7 + 3.8*1/7 + 4.8*1/7 + 4*1/7 + 3.4*1/7 + 4.2*1/7 + 5.2*1/7)**2), 3))\n",
    "\n",
    "# Эталон\n",
    "a = np.array([4.4, 3.8, 4.8, 4.0, 3.4, 4.2, 5.2])\n",
    "b = a.mean()\n",
    "np.sum((a - b)**2)/7"
   ]
  },
  {
   "cell_type": "code",
   "execution_count": 230,
   "id": "31626935",
   "metadata": {},
   "outputs": [
    {
     "data": {
      "text/html": [
       "<div>\n",
       "<style scoped>\n",
       "    .dataframe tbody tr th:only-of-type {\n",
       "        vertical-align: middle;\n",
       "    }\n",
       "\n",
       "    .dataframe tbody tr th {\n",
       "        vertical-align: top;\n",
       "    }\n",
       "\n",
       "    .dataframe thead th {\n",
       "        text-align: right;\n",
       "    }\n",
       "</style>\n",
       "<table border=\"1\" class=\"dataframe\">\n",
       "  <thead>\n",
       "    <tr style=\"text-align: right;\">\n",
       "      <th></th>\n",
       "      <th>fixed.acidity</th>\n",
       "      <th>volatile.acidity</th>\n",
       "      <th>citric.acid</th>\n",
       "      <th>residual.sugar</th>\n",
       "      <th>chlorides</th>\n",
       "      <th>free.sulfur.dioxide</th>\n",
       "      <th>total.sulfur.dioxide</th>\n",
       "      <th>density</th>\n",
       "      <th>pH</th>\n",
       "      <th>sulphates</th>\n",
       "      <th>alcohol</th>\n",
       "      <th>quality</th>\n",
       "    </tr>\n",
       "  </thead>\n",
       "  <tbody>\n",
       "    <tr>\n",
       "      <th>1</th>\n",
       "      <td>7.4</td>\n",
       "      <td>0.700</td>\n",
       "      <td>0.00</td>\n",
       "      <td>1.9</td>\n",
       "      <td>0.076</td>\n",
       "      <td>11.0</td>\n",
       "      <td>34.0</td>\n",
       "      <td>0.99780</td>\n",
       "      <td>3.51</td>\n",
       "      <td>0.56</td>\n",
       "      <td>9.4</td>\n",
       "      <td>5</td>\n",
       "    </tr>\n",
       "    <tr>\n",
       "      <th>2</th>\n",
       "      <td>7.8</td>\n",
       "      <td>0.880</td>\n",
       "      <td>0.00</td>\n",
       "      <td>2.6</td>\n",
       "      <td>0.098</td>\n",
       "      <td>25.0</td>\n",
       "      <td>67.0</td>\n",
       "      <td>0.99680</td>\n",
       "      <td>3.20</td>\n",
       "      <td>0.68</td>\n",
       "      <td>9.8</td>\n",
       "      <td>5</td>\n",
       "    </tr>\n",
       "    <tr>\n",
       "      <th>3</th>\n",
       "      <td>7.8</td>\n",
       "      <td>0.760</td>\n",
       "      <td>0.04</td>\n",
       "      <td>2.3</td>\n",
       "      <td>0.092</td>\n",
       "      <td>15.0</td>\n",
       "      <td>54.0</td>\n",
       "      <td>0.99700</td>\n",
       "      <td>3.26</td>\n",
       "      <td>0.65</td>\n",
       "      <td>9.8</td>\n",
       "      <td>5</td>\n",
       "    </tr>\n",
       "    <tr>\n",
       "      <th>4</th>\n",
       "      <td>11.2</td>\n",
       "      <td>0.280</td>\n",
       "      <td>0.56</td>\n",
       "      <td>1.9</td>\n",
       "      <td>0.075</td>\n",
       "      <td>17.0</td>\n",
       "      <td>60.0</td>\n",
       "      <td>0.99800</td>\n",
       "      <td>3.16</td>\n",
       "      <td>0.58</td>\n",
       "      <td>9.8</td>\n",
       "      <td>6</td>\n",
       "    </tr>\n",
       "    <tr>\n",
       "      <th>5</th>\n",
       "      <td>7.4</td>\n",
       "      <td>0.700</td>\n",
       "      <td>0.00</td>\n",
       "      <td>1.9</td>\n",
       "      <td>0.076</td>\n",
       "      <td>11.0</td>\n",
       "      <td>34.0</td>\n",
       "      <td>0.99780</td>\n",
       "      <td>3.51</td>\n",
       "      <td>0.56</td>\n",
       "      <td>9.4</td>\n",
       "      <td>5</td>\n",
       "    </tr>\n",
       "    <tr>\n",
       "      <th>...</th>\n",
       "      <td>...</td>\n",
       "      <td>...</td>\n",
       "      <td>...</td>\n",
       "      <td>...</td>\n",
       "      <td>...</td>\n",
       "      <td>...</td>\n",
       "      <td>...</td>\n",
       "      <td>...</td>\n",
       "      <td>...</td>\n",
       "      <td>...</td>\n",
       "      <td>...</td>\n",
       "      <td>...</td>\n",
       "    </tr>\n",
       "    <tr>\n",
       "      <th>1595</th>\n",
       "      <td>6.2</td>\n",
       "      <td>0.600</td>\n",
       "      <td>0.08</td>\n",
       "      <td>2.0</td>\n",
       "      <td>0.090</td>\n",
       "      <td>32.0</td>\n",
       "      <td>44.0</td>\n",
       "      <td>0.99490</td>\n",
       "      <td>3.45</td>\n",
       "      <td>0.58</td>\n",
       "      <td>10.5</td>\n",
       "      <td>5</td>\n",
       "    </tr>\n",
       "    <tr>\n",
       "      <th>1596</th>\n",
       "      <td>5.9</td>\n",
       "      <td>0.550</td>\n",
       "      <td>0.10</td>\n",
       "      <td>2.2</td>\n",
       "      <td>0.062</td>\n",
       "      <td>39.0</td>\n",
       "      <td>51.0</td>\n",
       "      <td>0.99512</td>\n",
       "      <td>3.52</td>\n",
       "      <td>0.76</td>\n",
       "      <td>11.2</td>\n",
       "      <td>6</td>\n",
       "    </tr>\n",
       "    <tr>\n",
       "      <th>1597</th>\n",
       "      <td>6.3</td>\n",
       "      <td>0.510</td>\n",
       "      <td>0.13</td>\n",
       "      <td>2.3</td>\n",
       "      <td>0.076</td>\n",
       "      <td>29.0</td>\n",
       "      <td>40.0</td>\n",
       "      <td>0.99574</td>\n",
       "      <td>3.42</td>\n",
       "      <td>0.75</td>\n",
       "      <td>11.0</td>\n",
       "      <td>6</td>\n",
       "    </tr>\n",
       "    <tr>\n",
       "      <th>1598</th>\n",
       "      <td>5.9</td>\n",
       "      <td>0.645</td>\n",
       "      <td>0.12</td>\n",
       "      <td>2.0</td>\n",
       "      <td>0.075</td>\n",
       "      <td>32.0</td>\n",
       "      <td>44.0</td>\n",
       "      <td>0.99547</td>\n",
       "      <td>3.57</td>\n",
       "      <td>0.71</td>\n",
       "      <td>10.2</td>\n",
       "      <td>5</td>\n",
       "    </tr>\n",
       "    <tr>\n",
       "      <th>1599</th>\n",
       "      <td>6.0</td>\n",
       "      <td>0.310</td>\n",
       "      <td>0.47</td>\n",
       "      <td>3.6</td>\n",
       "      <td>0.067</td>\n",
       "      <td>18.0</td>\n",
       "      <td>42.0</td>\n",
       "      <td>0.99549</td>\n",
       "      <td>3.39</td>\n",
       "      <td>0.66</td>\n",
       "      <td>11.0</td>\n",
       "      <td>6</td>\n",
       "    </tr>\n",
       "  </tbody>\n",
       "</table>\n",
       "<p>1599 rows × 12 columns</p>\n",
       "</div>"
      ],
      "text/plain": [
       "      fixed.acidity  volatile.acidity  citric.acid  residual.sugar  chlorides  \\\n",
       "1               7.4             0.700         0.00             1.9      0.076   \n",
       "2               7.8             0.880         0.00             2.6      0.098   \n",
       "3               7.8             0.760         0.04             2.3      0.092   \n",
       "4              11.2             0.280         0.56             1.9      0.075   \n",
       "5               7.4             0.700         0.00             1.9      0.076   \n",
       "...             ...               ...          ...             ...        ...   \n",
       "1595            6.2             0.600         0.08             2.0      0.090   \n",
       "1596            5.9             0.550         0.10             2.2      0.062   \n",
       "1597            6.3             0.510         0.13             2.3      0.076   \n",
       "1598            5.9             0.645         0.12             2.0      0.075   \n",
       "1599            6.0             0.310         0.47             3.6      0.067   \n",
       "\n",
       "      free.sulfur.dioxide  total.sulfur.dioxide  density    pH  sulphates  \\\n",
       "1                    11.0                  34.0  0.99780  3.51       0.56   \n",
       "2                    25.0                  67.0  0.99680  3.20       0.68   \n",
       "3                    15.0                  54.0  0.99700  3.26       0.65   \n",
       "4                    17.0                  60.0  0.99800  3.16       0.58   \n",
       "5                    11.0                  34.0  0.99780  3.51       0.56   \n",
       "...                   ...                   ...      ...   ...        ...   \n",
       "1595                 32.0                  44.0  0.99490  3.45       0.58   \n",
       "1596                 39.0                  51.0  0.99512  3.52       0.76   \n",
       "1597                 29.0                  40.0  0.99574  3.42       0.75   \n",
       "1598                 32.0                  44.0  0.99547  3.57       0.71   \n",
       "1599                 18.0                  42.0  0.99549  3.39       0.66   \n",
       "\n",
       "      alcohol  quality  \n",
       "1         9.4        5  \n",
       "2         9.8        5  \n",
       "3         9.8        5  \n",
       "4         9.8        6  \n",
       "5         9.4        5  \n",
       "...       ...      ...  \n",
       "1595     10.5        5  \n",
       "1596     11.2        6  \n",
       "1597     11.0        6  \n",
       "1598     10.2        5  \n",
       "1599     11.0        6  \n",
       "\n",
       "[1599 rows x 12 columns]"
      ]
     },
     "execution_count": 230,
     "metadata": {},
     "output_type": "execute_result"
    }
   ],
   "source": [
    "# Задание 2.7\n",
    "\n",
    "data = pd.read_csv('data/wineQualityReds.zip', index_col=[0])\n",
    "data"
   ]
  },
  {
   "cell_type": "code",
   "execution_count": 231,
   "id": "729e7219",
   "metadata": {},
   "outputs": [
    {
     "name": "stdout",
     "output_type": "stream",
     "text": [
      "f1 на обучающей выборке (логистическая регрессия): 0.764\n",
      "f1 на тестовой выборке (логистическая регрессия): 0.751\n",
      "--------------------\n",
      "f1 на обучающей выборке (дерево решений): 0.943\n",
      "f1 на тестовой выборке (дерево решений): 0.793\n"
     ]
    },
    {
     "name": "stderr",
     "output_type": "stream",
     "text": [
      "c:\\Users\\telis\\AppData\\Local\\Programs\\Python\\Python312\\Lib\\site-packages\\sklearn\\linear_model\\_logistic.py:469: ConvergenceWarning: lbfgs failed to converge (status=1):\n",
      "STOP: TOTAL NO. of ITERATIONS REACHED LIMIT.\n",
      "\n",
      "Increase the number of iterations (max_iter) or scale the data as shown in:\n",
      "    https://scikit-learn.org/stable/modules/preprocessing.html\n",
      "Please also refer to the documentation for alternative solver options:\n",
      "    https://scikit-learn.org/stable/modules/linear_model.html#logistic-regression\n",
      "  n_iter_i = _check_optimize_result(\n"
     ]
    }
   ],
   "source": [
    "data['quality'] = data['quality'].apply(lambda x: 0 if x < 6 else 1)\n",
    "\n",
    "X = data.drop('quality', axis=1)\n",
    "y = data['quality']\n",
    "\n",
    "X_train, X_test, y_train, y_test = model_selection.train_test_split(X, y, test_size=0.3, random_state=42)\n",
    "\n",
    "lr_model = linear_model.LogisticRegression()\n",
    "lr_model.fit(X_train, y_train)\n",
    "\n",
    "y_pred_train_lr = lr_model.predict(X_train)\n",
    "y_pred_test_lr = lr_model.predict(X_test)\n",
    "print('f1 на обучающей выборке (логистическая регрессия):', round(metrics.f1_score(y_true=y_train, y_pred=y_pred_train_lr), 3))\n",
    "print('f1 на тестовой выборке (логистическая регрессия):', round(metrics.f1_score(y_true=y_test, y_pred=y_pred_test_lr), 3))\n",
    "print('-'*20)\n",
    "\n",
    "dt_model = tree.DecisionTreeClassifier(random_state=42, max_depth=10)\n",
    "dt_model.fit(X_train, y_train)\n",
    "\n",
    "y_pred_train_dt = dt_model.predict(X_train)\n",
    "y_pred_test_dt = dt_model.predict(X_test)\n",
    "print('f1 на обучающей выборке (дерево решений):', round(metrics.f1_score(y_true=y_train, y_pred=y_pred_train_dt), 3))\n",
    "print('f1 на тестовой выборке (дерево решений):', round(metrics.f1_score(y_true=y_test, y_pred=y_pred_test_dt), 3))"
   ]
  },
  {
   "cell_type": "code",
   "execution_count": 232,
   "id": "90ea17a0",
   "metadata": {},
   "outputs": [
    {
     "name": "stdout",
     "output_type": "stream",
     "text": [
      "f1 на обучающей выборке (бэггинг): 0.99\n",
      "f1 на тестовой выборке (бэггинг): 0.818\n"
     ]
    }
   ],
   "source": [
    "#Задание 2.8\n",
    "\n",
    "bagging_model = ensemble.BaggingClassifier(\n",
    "    estimator=tree.DecisionTreeClassifier(random_state=42, max_depth=10), \n",
    "    n_estimators=1500, \n",
    "    random_state=42\n",
    "    )\n",
    "\n",
    "bagging_model.fit(X_train, y_train)\n",
    "\n",
    "y_pred_train_bc = bagging_model.predict(X_train)\n",
    "y_pred_test_bc = bagging_model.predict(X_test)\n",
    "print('f1 на обучающей выборке (бэггинг):', round(metrics.f1_score(y_true=y_train, y_pred=y_pred_train_bc), 3))\n",
    "print('f1 на тестовой выборке (бэггинг):', round(metrics.f1_score(y_true=y_test, y_pred=y_pred_test_bc), 3))"
   ]
  },
  {
   "cell_type": "code",
   "execution_count": 233,
   "id": "df114680",
   "metadata": {},
   "outputs": [],
   "source": [
    "# from catboost import CatBoostClassifier\n",
    "\n",
    "# catboost_model = CatBoostClassifier(\n",
    "#     iterations=500,\n",
    "#     task_type='GPU',\n",
    "#     devices='0'\n",
    "# )\n",
    "# catboost_model.fit(X_train, y_train)\n",
    "# y_pred_train_cbc = catboost_model.predict(X_train)\n",
    "# y_pred_test_cbc = catboost_model.predict(X_test)\n",
    "# print('f1 на обучающей выборке (бэггинг):', round(metrics.f1_score(y_true=y_train, y_pred=y_pred_train_cbc), 3))\n",
    "# print('f1 на тестовой выборке (бэггинг):', round(metrics.f1_score(y_true=y_test, y_pred=y_pred_test_cbc), 3))"
   ]
  },
  {
   "cell_type": "code",
   "execution_count": 234,
   "id": "f41b2388",
   "metadata": {},
   "outputs": [],
   "source": [
    "# Прочитаем данные для практики.\n",
    "# Дата-сет обрезан\n",
    "boston_data = pd.read_csv('data/boston__1_.zip')\n",
    "boston_data\n",
    "\n",
    "#Дополнительная конвертация признаков во избежание косяков с моделями\n",
    "columns_to_change = ['crim_rate', 'business', 'zn', 'nit_oxiden', 'rooms', 'age', 'dist', 'pup_per_teaс', 'lower', 'target']\n",
    "for column in columns_to_change:\n",
    "    boston_data[column] = boston_data[column].str.replace(',', '.').astype(float)"
   ]
  },
  {
   "cell_type": "markdown",
   "id": "77809302",
   "metadata": {},
   "source": [
    "crim_rate — уровень преступности в районе;\n",
    "\n",
    "zn — доля участков площадью более 25 000 кв. футов;\n",
    "\n",
    "business — уровень развитости бизнеса в районе;\n",
    "\n",
    "river — наличие реки в районе;\n",
    "\n",
    "nit_oxiden — концентрация оксидов азота в воздухе;\n",
    "\n",
    "rooms — среднее число комнат в домах района;\n",
    "\n",
    "age — процент домов, построенных до 1940 года;\n",
    "\n",
    "dist — расстояние до центров занятости;\n",
    "\n",
    "highways_index — индекс доступности крупных дорог;\n",
    "\n",
    "tax — средняя ставка налога на имущество;\n",
    "\n",
    "pup_per_teac — среднее число учеников на одного учителя;\n",
    "\n",
    "lower — процент малообеспеченного населения в районе;\n",
    "\n",
    "target — медианная стоимость домов в районе (целевая переменная)."
   ]
  },
  {
   "cell_type": "code",
   "execution_count": 235,
   "id": "f2c9a087",
   "metadata": {},
   "outputs": [
    {
     "name": "stdout",
     "output_type": "stream",
     "text": [
      "<class 'pandas.core.frame.DataFrame'>\n",
      "RangeIndex: 506 entries, 0 to 505\n",
      "Data columns (total 13 columns):\n",
      " #   Column          Non-Null Count  Dtype  \n",
      "---  ------          --------------  -----  \n",
      " 0   crim_rate       506 non-null    float64\n",
      " 1   zn              506 non-null    float64\n",
      " 2   business        506 non-null    float64\n",
      " 3   river           506 non-null    int64  \n",
      " 4   nit_oxiden      506 non-null    float64\n",
      " 5   rooms           506 non-null    float64\n",
      " 6   age             506 non-null    float64\n",
      " 7   dist            506 non-null    float64\n",
      " 8   highways_index  506 non-null    int64  \n",
      " 9   tax             506 non-null    int64  \n",
      " 10  pup_per_teaс    506 non-null    float64\n",
      " 11  lower           506 non-null    float64\n",
      " 12  target          506 non-null    float64\n",
      "dtypes: float64(10), int64(3)\n",
      "memory usage: 51.5 KB\n"
     ]
    }
   ],
   "source": [
    "boston_data.info()"
   ]
  },
  {
   "cell_type": "code",
   "execution_count": null,
   "id": "a549b660",
   "metadata": {},
   "outputs": [],
   "source": []
  },
  {
   "cell_type": "code",
   "execution_count": 236,
   "id": "7dc7ee28",
   "metadata": {},
   "outputs": [
    {
     "name": "stdout",
     "output_type": "stream",
     "text": [
      "Средняя медианных цен: 22.77\n",
      "MAE на обучающей выборке (линейная регрессия): 3.32\n",
      "MAE на тестовой выборке (линейная регрессия): 3.72\n",
      "--------------------\n",
      "MAE на обучающей выборке (Дерево решений): 0.0\n",
      "MAE на тестовой выборке (Дерево решений): 2.84\n"
     ]
    }
   ],
   "source": [
    "# Задание 3.4\n",
    "X = boston_data.drop('target', axis=1)\n",
    "y = boston_data['target']\n",
    "\n",
    "X_train, X_test, y_train, y_test = model_selection.train_test_split(X, y, test_size=0.3, random_state=13)\n",
    "print('Средняя медианных цен:', round(np.mean(y_train), 2))\n",
    "\n",
    "lr_model = linear_model.LinearRegression()\n",
    "lr_model.fit(X_train, y_train)\n",
    "\n",
    "y_pred_train = lr_model.predict(X_train)\n",
    "y_pred_test = lr_model.predict(X_test)\n",
    "print('MAE на обучающей выборке (линейная регрессия):', round(metrics.mean_absolute_error(y_true=y_train, y_pred=y_pred_train), 2))\n",
    "print('MAE на тестовой выборке (линейная регрессия):', round(metrics.mean_absolute_error(y_true=y_test, y_pred=y_pred_test), 2))\n",
    "print('-'*20)\n",
    "\n",
    "dt_model = tree.DecisionTreeRegressor(random_state=13)\n",
    "dt_model.fit(X_train, y_train)\n",
    "\n",
    "y_pred_train = dt_model.predict(X_train)\n",
    "y_pred_test = dt_model.predict(X_test)\n",
    "print('MAE на обучающей выборке (Дерево решений):', round(metrics.mean_absolute_error(y_true=y_train, y_pred=y_pred_train), 2))\n",
    "print('MAE на тестовой выборке (Дерево решений):', round(metrics.mean_absolute_error(y_true=y_test, y_pred=y_pred_test), 2))"
   ]
  },
  {
   "cell_type": "code",
   "execution_count": 237,
   "id": "b807cf2b",
   "metadata": {},
   "outputs": [
    {
     "name": "stdout",
     "output_type": "stream",
     "text": [
      "MAE на обучающей выборке (Случайный лес 1): 1.02\n",
      "MAE на тестовой выборке (Случайный лес 1): 2.93\n",
      "--------------------\n",
      "MAE на обучающей выборке (Случайный лес 2): 0.98\n",
      "MAE на тестовой выборке (Случайный лес 2): 2.47\n",
      "--------------------\n",
      "MAE на обучающей выборке (Случайный лес 3): 0.89\n",
      "MAE на тестовой выборке (Случайный лес 3): 2.25\n",
      "--------------------\n",
      "MAE на обучающей выборке (Случайный лес 4): 0.87\n",
      "MAE на тестовой выборке (Случайный лес 4): 2.26\n",
      "--------------------\n"
     ]
    }
   ],
   "source": [
    "# Всё ещё 3.4\n",
    "\n",
    "rf1 = ensemble.RandomForestRegressor(random_state=13, n_estimators=3)\n",
    "rf1.fit(X_train, y_train)\n",
    "\n",
    "y_pred_train = rf1.predict(X_train)\n",
    "y_pred_test = rf1.predict(X_test)\n",
    "print('MAE на обучающей выборке (Случайный лес 1):', round(metrics.mean_absolute_error(y_true=y_train, y_pred=y_pred_train), 2))\n",
    "print('MAE на тестовой выборке (Случайный лес 1):', round(metrics.mean_absolute_error(y_true=y_test, y_pred=y_pred_test), 2))\n",
    "print('-'*20)\n",
    "\n",
    "rf2 = ensemble.RandomForestRegressor(random_state=13, n_estimators=10)\n",
    "rf2.fit(X_train, y_train)\n",
    "\n",
    "y_pred_train = rf2.predict(X_train)\n",
    "y_pred_test = rf2.predict(X_test)\n",
    "print('MAE на обучающей выборке (Случайный лес 2):', round(metrics.mean_absolute_error(y_true=y_train, y_pred=y_pred_train), 2))\n",
    "print('MAE на тестовой выборке (Случайный лес 2):', round(metrics.mean_absolute_error(y_true=y_test, y_pred=y_pred_test), 2))\n",
    "print('-'*20)\n",
    "\n",
    "rf3 = ensemble.RandomForestRegressor(random_state=13, n_estimators=50)\n",
    "rf3.fit(X_train, y_train)\n",
    "\n",
    "y_pred_train = rf3.predict(X_train)\n",
    "y_pred_test = rf3.predict(X_test)\n",
    "print('MAE на обучающей выборке (Случайный лес 3):', round(metrics.mean_absolute_error(y_true=y_train, y_pred=y_pred_train), 2))\n",
    "print('MAE на тестовой выборке (Случайный лес 3):', round(metrics.mean_absolute_error(y_true=y_test, y_pred=y_pred_test), 2))\n",
    "print('-'*20)\n",
    "\n",
    "rf4 = ensemble.RandomForestRegressor(random_state=13, n_estimators=100)\n",
    "rf4.fit(X_train, y_train)\n",
    "\n",
    "y_pred_train = rf4.predict(X_train)\n",
    "y_pred_test = rf4.predict(X_test)\n",
    "print('MAE на обучающей выборке (Случайный лес 4):', round(metrics.mean_absolute_error(y_true=y_train, y_pred=y_pred_train), 2))\n",
    "print('MAE на тестовой выборке (Случайный лес 4):', round(metrics.mean_absolute_error(y_true=y_test, y_pred=y_pred_test), 2))\n",
    "print('-'*20)"
   ]
  },
  {
   "cell_type": "markdown",
   "id": "427cd86d",
   "metadata": {},
   "source": [
    "### Юнит 4. Случайный лес. Практика"
   ]
  },
  {
   "cell_type": "code",
   "execution_count": 238,
   "id": "a731bae3",
   "metadata": {},
   "outputs": [
    {
     "data": {
      "text/html": [
       "<div>\n",
       "<style scoped>\n",
       "    .dataframe tbody tr th:only-of-type {\n",
       "        vertical-align: middle;\n",
       "    }\n",
       "\n",
       "    .dataframe tbody tr th {\n",
       "        vertical-align: top;\n",
       "    }\n",
       "\n",
       "    .dataframe thead th {\n",
       "        text-align: right;\n",
       "    }\n",
       "</style>\n",
       "<table border=\"1\" class=\"dataframe\">\n",
       "  <thead>\n",
       "    <tr style=\"text-align: right;\">\n",
       "      <th></th>\n",
       "      <th>Date</th>\n",
       "      <th>Location</th>\n",
       "      <th>MinTemp</th>\n",
       "      <th>MaxTemp</th>\n",
       "      <th>Rainfall</th>\n",
       "      <th>Evaporation</th>\n",
       "      <th>Sunshine</th>\n",
       "      <th>WindGustDir</th>\n",
       "      <th>WindGustSpeed</th>\n",
       "      <th>WindDir9am</th>\n",
       "      <th>...</th>\n",
       "      <th>Humidity9am</th>\n",
       "      <th>Humidity3pm</th>\n",
       "      <th>Pressure9am</th>\n",
       "      <th>Pressure3pm</th>\n",
       "      <th>Cloud9am</th>\n",
       "      <th>Cloud3pm</th>\n",
       "      <th>Temp9am</th>\n",
       "      <th>Temp3pm</th>\n",
       "      <th>RainToday</th>\n",
       "      <th>RainTomorrow</th>\n",
       "    </tr>\n",
       "  </thead>\n",
       "  <tbody>\n",
       "    <tr>\n",
       "      <th>0</th>\n",
       "      <td>2008-12-01</td>\n",
       "      <td>Albury</td>\n",
       "      <td>13.4</td>\n",
       "      <td>22.9</td>\n",
       "      <td>0.6</td>\n",
       "      <td>NaN</td>\n",
       "      <td>NaN</td>\n",
       "      <td>W</td>\n",
       "      <td>44.0</td>\n",
       "      <td>W</td>\n",
       "      <td>...</td>\n",
       "      <td>71.0</td>\n",
       "      <td>22.0</td>\n",
       "      <td>1007.7</td>\n",
       "      <td>1007.1</td>\n",
       "      <td>8.0</td>\n",
       "      <td>NaN</td>\n",
       "      <td>16.9</td>\n",
       "      <td>21.8</td>\n",
       "      <td>No</td>\n",
       "      <td>No</td>\n",
       "    </tr>\n",
       "    <tr>\n",
       "      <th>1</th>\n",
       "      <td>2008-12-02</td>\n",
       "      <td>Albury</td>\n",
       "      <td>7.4</td>\n",
       "      <td>25.1</td>\n",
       "      <td>0.0</td>\n",
       "      <td>NaN</td>\n",
       "      <td>NaN</td>\n",
       "      <td>WNW</td>\n",
       "      <td>44.0</td>\n",
       "      <td>NNW</td>\n",
       "      <td>...</td>\n",
       "      <td>44.0</td>\n",
       "      <td>25.0</td>\n",
       "      <td>1010.6</td>\n",
       "      <td>1007.8</td>\n",
       "      <td>NaN</td>\n",
       "      <td>NaN</td>\n",
       "      <td>17.2</td>\n",
       "      <td>24.3</td>\n",
       "      <td>No</td>\n",
       "      <td>No</td>\n",
       "    </tr>\n",
       "    <tr>\n",
       "      <th>2</th>\n",
       "      <td>2008-12-03</td>\n",
       "      <td>Albury</td>\n",
       "      <td>12.9</td>\n",
       "      <td>25.7</td>\n",
       "      <td>0.0</td>\n",
       "      <td>NaN</td>\n",
       "      <td>NaN</td>\n",
       "      <td>WSW</td>\n",
       "      <td>46.0</td>\n",
       "      <td>W</td>\n",
       "      <td>...</td>\n",
       "      <td>38.0</td>\n",
       "      <td>30.0</td>\n",
       "      <td>1007.6</td>\n",
       "      <td>1008.7</td>\n",
       "      <td>NaN</td>\n",
       "      <td>2.0</td>\n",
       "      <td>21.0</td>\n",
       "      <td>23.2</td>\n",
       "      <td>No</td>\n",
       "      <td>No</td>\n",
       "    </tr>\n",
       "    <tr>\n",
       "      <th>3</th>\n",
       "      <td>2008-12-04</td>\n",
       "      <td>Albury</td>\n",
       "      <td>9.2</td>\n",
       "      <td>28.0</td>\n",
       "      <td>0.0</td>\n",
       "      <td>NaN</td>\n",
       "      <td>NaN</td>\n",
       "      <td>NE</td>\n",
       "      <td>24.0</td>\n",
       "      <td>SE</td>\n",
       "      <td>...</td>\n",
       "      <td>45.0</td>\n",
       "      <td>16.0</td>\n",
       "      <td>1017.6</td>\n",
       "      <td>1012.8</td>\n",
       "      <td>NaN</td>\n",
       "      <td>NaN</td>\n",
       "      <td>18.1</td>\n",
       "      <td>26.5</td>\n",
       "      <td>No</td>\n",
       "      <td>No</td>\n",
       "    </tr>\n",
       "    <tr>\n",
       "      <th>4</th>\n",
       "      <td>2008-12-05</td>\n",
       "      <td>Albury</td>\n",
       "      <td>17.5</td>\n",
       "      <td>32.3</td>\n",
       "      <td>1.0</td>\n",
       "      <td>NaN</td>\n",
       "      <td>NaN</td>\n",
       "      <td>W</td>\n",
       "      <td>41.0</td>\n",
       "      <td>ENE</td>\n",
       "      <td>...</td>\n",
       "      <td>82.0</td>\n",
       "      <td>33.0</td>\n",
       "      <td>1010.8</td>\n",
       "      <td>1006.0</td>\n",
       "      <td>7.0</td>\n",
       "      <td>8.0</td>\n",
       "      <td>17.8</td>\n",
       "      <td>29.7</td>\n",
       "      <td>No</td>\n",
       "      <td>No</td>\n",
       "    </tr>\n",
       "  </tbody>\n",
       "</table>\n",
       "<p>5 rows × 23 columns</p>\n",
       "</div>"
      ],
      "text/plain": [
       "         Date Location  MinTemp  MaxTemp  Rainfall  Evaporation  Sunshine  \\\n",
       "0  2008-12-01   Albury     13.4     22.9       0.6          NaN       NaN   \n",
       "1  2008-12-02   Albury      7.4     25.1       0.0          NaN       NaN   \n",
       "2  2008-12-03   Albury     12.9     25.7       0.0          NaN       NaN   \n",
       "3  2008-12-04   Albury      9.2     28.0       0.0          NaN       NaN   \n",
       "4  2008-12-05   Albury     17.5     32.3       1.0          NaN       NaN   \n",
       "\n",
       "  WindGustDir  WindGustSpeed WindDir9am  ... Humidity9am  Humidity3pm  \\\n",
       "0           W           44.0          W  ...        71.0         22.0   \n",
       "1         WNW           44.0        NNW  ...        44.0         25.0   \n",
       "2         WSW           46.0          W  ...        38.0         30.0   \n",
       "3          NE           24.0         SE  ...        45.0         16.0   \n",
       "4           W           41.0        ENE  ...        82.0         33.0   \n",
       "\n",
       "   Pressure9am  Pressure3pm  Cloud9am  Cloud3pm  Temp9am  Temp3pm  RainToday  \\\n",
       "0       1007.7       1007.1       8.0       NaN     16.9     21.8         No   \n",
       "1       1010.6       1007.8       NaN       NaN     17.2     24.3         No   \n",
       "2       1007.6       1008.7       NaN       2.0     21.0     23.2         No   \n",
       "3       1017.6       1012.8       NaN       NaN     18.1     26.5         No   \n",
       "4       1010.8       1006.0       7.0       8.0     17.8     29.7         No   \n",
       "\n",
       "   RainTomorrow  \n",
       "0            No  \n",
       "1            No  \n",
       "2            No  \n",
       "3            No  \n",
       "4            No  \n",
       "\n",
       "[5 rows x 23 columns]"
      ]
     },
     "execution_count": 238,
     "metadata": {},
     "output_type": "execute_result"
    }
   ],
   "source": [
    "weather_data = pd.read_csv('data/weatherAUS.csv')\n",
    "weather_data.head()"
   ]
  },
  {
   "cell_type": "code",
   "execution_count": 239,
   "id": "1fb48a3a",
   "metadata": {},
   "outputs": [
    {
     "name": "stdout",
     "output_type": "stream",
     "text": [
      "<class 'pandas.core.frame.DataFrame'>\n",
      "RangeIndex: 145460 entries, 0 to 145459\n",
      "Data columns (total 23 columns):\n",
      " #   Column         Non-Null Count   Dtype  \n",
      "---  ------         --------------   -----  \n",
      " 0   Date           145460 non-null  object \n",
      " 1   Location       145460 non-null  object \n",
      " 2   MinTemp        143975 non-null  float64\n",
      " 3   MaxTemp        144199 non-null  float64\n",
      " 4   Rainfall       142199 non-null  float64\n",
      " 5   Evaporation    82670 non-null   float64\n",
      " 6   Sunshine       75625 non-null   float64\n",
      " 7   WindGustDir    135134 non-null  object \n",
      " 8   WindGustSpeed  135197 non-null  float64\n",
      " 9   WindDir9am     134894 non-null  object \n",
      " 10  WindDir3pm     141232 non-null  object \n",
      " 11  WindSpeed9am   143693 non-null  float64\n",
      " 12  WindSpeed3pm   142398 non-null  float64\n",
      " 13  Humidity9am    142806 non-null  float64\n",
      " 14  Humidity3pm    140953 non-null  float64\n",
      " 15  Pressure9am    130395 non-null  float64\n",
      " 16  Pressure3pm    130432 non-null  float64\n",
      " 17  Cloud9am       89572 non-null   float64\n",
      " 18  Cloud3pm       86102 non-null   float64\n",
      " 19  Temp9am        143693 non-null  float64\n",
      " 20  Temp3pm        141851 non-null  float64\n",
      " 21  RainToday      142199 non-null  object \n",
      " 22  RainTomorrow   142193 non-null  object \n",
      "dtypes: float64(16), object(7)\n",
      "memory usage: 25.5+ MB\n"
     ]
    },
    {
     "data": {
      "text/plain": [
       "None"
      ]
     },
     "metadata": {},
     "output_type": "display_data"
    },
    {
     "data": {
      "text/plain": [
       "(145460, 23)"
      ]
     },
     "metadata": {},
     "output_type": "display_data"
    }
   ],
   "source": [
    "display(weather_data.info())\n",
    "display(weather_data.shape)"
   ]
  },
  {
   "cell_type": "markdown",
   "id": "e9abee0c",
   "metadata": {},
   "source": [
    "Date — дата, в которую зафиксировано наблюдение;\n",
    "\n",
    "Location — местонахождение метеорологической станции;\n",
    "\n",
    "MinTemp — минимальная температура (℃);\n",
    "\n",
    "MaxTemp — максимальная температура (℃);\n",
    "\n",
    "Rainfall — количество осадков (дождь) за сутки (мм);\n",
    "\n",
    "Evaporation — количество испарений до 9 утра (мм);\n",
    "\n",
    "Sunshine — количество часов в сутках, когда светило солнце;\n",
    "\n",
    "WindGustDir — направление самого сильного порыва ветра за последние 24 часа;\n",
    "\n",
    "WindGustSpeed — скорость самого сильного порыва ветра за последние 24 часа;\n",
    "\n",
    "WindDir9am — направление ветра в 9 утра;\n",
    "\n",
    "WindDir3pm — направление ветра в 3 часа дня;\n",
    "\n",
    "WindSpeed9am — скорость ветра в 9 часов утра;\n",
    "\n",
    "WindSpeed3pm — скорость ветра в 3 часа дня;\n",
    "\n",
    "Humidity9am — влажность в 9 утра;\n",
    "\n",
    "Humidity3pm — влажность в 3 часа дня;\n",
    "\n",
    "Pressure9am — атмосферное давление в 9 утра;\n",
    "\n",
    "Pressure3pm — атмосферное давление в 3 часа дня;\n",
    "\n",
    "Cloud9am — часть неба, закрытая облаками, в 9 утра;\n",
    "\n",
    "Cloud3pm — часть неба, закрытая облаками, в 3 часа дня;\n",
    "\n",
    "Temp9am — температура в 9 утра;\n",
    "\n",
    "Temp3pm — температура в 3 часа дня;\n",
    "\n",
    "RainToday — наличие дождя в этот день;\n",
    "\n",
    "RainTomorrow — наличие дождя на следующий день."
   ]
  },
  {
   "cell_type": "code",
   "execution_count": 240,
   "id": "045a90af",
   "metadata": {},
   "outputs": [
    {
     "name": "stdout",
     "output_type": "stream",
     "text": [
      "В данных всего 343248 пропусков.\n"
     ]
    }
   ],
   "source": [
    "#Задание 4.1\n",
    "print(f'В данных всего {weather_data.isna().sum().sum()} пропусков.')"
   ]
  },
  {
   "cell_type": "code",
   "execution_count": 241,
   "id": "fc5ec189",
   "metadata": {},
   "outputs": [
    {
     "data": {
      "text/plain": [
       "Date              0.000000\n",
       "Location          0.000000\n",
       "MinTemp           1.020899\n",
       "MaxTemp           0.866905\n",
       "Rainfall          2.241853\n",
       "Evaporation      43.166506\n",
       "Sunshine         48.009762\n",
       "WindGustDir       7.098859\n",
       "WindGustSpeed     7.055548\n",
       "WindDir9am        7.263853\n",
       "WindDir3pm        2.906641\n",
       "WindSpeed9am      1.214767\n",
       "WindSpeed3pm      2.105046\n",
       "Humidity9am       1.824557\n",
       "Humidity3pm       3.098446\n",
       "Pressure9am      10.356799\n",
       "Pressure3pm      10.331363\n",
       "Cloud9am         38.421559\n",
       "Cloud3pm         40.807095\n",
       "Temp9am           1.214767\n",
       "Temp3pm           2.481094\n",
       "RainToday         2.241853\n",
       "RainTomorrow      2.245978\n",
       "dtype: float64"
      ]
     },
     "metadata": {},
     "output_type": "display_data"
    },
    {
     "data": {
      "text/plain": [
       "(145460, 20)"
      ]
     },
     "execution_count": 241,
     "metadata": {},
     "output_type": "execute_result"
    }
   ],
   "source": [
    "#Задание 4.2\n",
    "display(weather_data.isna().mean()*100)\n",
    "#Удаляем все признаки, в которых более 40% пропусков\n",
    "weather_data = weather_data.drop(['Evaporation', 'Sunshine', 'Cloud3pm'], axis=1)\n",
    "weather_data.shape"
   ]
  },
  {
   "cell_type": "code",
   "execution_count": 242,
   "id": "e3d18621",
   "metadata": {},
   "outputs": [
    {
     "data": {
      "text/plain": [
       "0.22"
      ]
     },
     "execution_count": 242,
     "metadata": {},
     "output_type": "execute_result"
    }
   ],
   "source": [
    "# Задание 4.3\n",
    "weather_data['RainToday'] = weather_data['RainToday'].apply(lambda x: 1 if x=='Yes' else (0 if x=='No' else x))\n",
    "weather_data['RainTomorrow'] = weather_data['RainTomorrow'].apply(lambda x: 1 if x=='Yes' else (0 if x=='No' else x))\n",
    "\n",
    "round(weather_data['RainToday'].mean(), 2)"
   ]
  },
  {
   "cell_type": "code",
   "execution_count": 243,
   "id": "9ffd98ea",
   "metadata": {},
   "outputs": [
    {
     "data": {
      "text/plain": [
       "'Дождливых дней по месяцам:'"
      ]
     },
     "metadata": {},
     "output_type": "display_data"
    },
    {
     "data": {
      "text/html": [
       "<div>\n",
       "<style scoped>\n",
       "    .dataframe tbody tr th:only-of-type {\n",
       "        vertical-align: middle;\n",
       "    }\n",
       "\n",
       "    .dataframe tbody tr th {\n",
       "        vertical-align: top;\n",
       "    }\n",
       "\n",
       "    .dataframe thead th {\n",
       "        text-align: right;\n",
       "    }\n",
       "</style>\n",
       "<table border=\"1\" class=\"dataframe\">\n",
       "  <thead>\n",
       "    <tr style=\"text-align: right;\">\n",
       "      <th></th>\n",
       "      <th>RainToday</th>\n",
       "    </tr>\n",
       "    <tr>\n",
       "      <th>Month</th>\n",
       "      <th></th>\n",
       "    </tr>\n",
       "  </thead>\n",
       "  <tbody>\n",
       "    <tr>\n",
       "      <th>1</th>\n",
       "      <td>2447.0</td>\n",
       "    </tr>\n",
       "    <tr>\n",
       "      <th>2</th>\n",
       "      <td>2176.0</td>\n",
       "    </tr>\n",
       "    <tr>\n",
       "      <th>3</th>\n",
       "      <td>2831.0</td>\n",
       "    </tr>\n",
       "    <tr>\n",
       "      <th>4</th>\n",
       "      <td>2451.0</td>\n",
       "    </tr>\n",
       "    <tr>\n",
       "      <th>5</th>\n",
       "      <td>2901.0</td>\n",
       "    </tr>\n",
       "    <tr>\n",
       "      <th>6</th>\n",
       "      <td>3267.0</td>\n",
       "    </tr>\n",
       "    <tr>\n",
       "      <th>7</th>\n",
       "      <td>3189.0</td>\n",
       "    </tr>\n",
       "    <tr>\n",
       "      <th>8</th>\n",
       "      <td>2978.0</td>\n",
       "    </tr>\n",
       "    <tr>\n",
       "      <th>9</th>\n",
       "      <td>2600.0</td>\n",
       "    </tr>\n",
       "    <tr>\n",
       "      <th>10</th>\n",
       "      <td>2321.0</td>\n",
       "    </tr>\n",
       "    <tr>\n",
       "      <th>11</th>\n",
       "      <td>2415.0</td>\n",
       "    </tr>\n",
       "    <tr>\n",
       "      <th>12</th>\n",
       "      <td>2304.0</td>\n",
       "    </tr>\n",
       "  </tbody>\n",
       "</table>\n",
       "</div>"
      ],
      "text/plain": [
       "       RainToday\n",
       "Month           \n",
       "1         2447.0\n",
       "2         2176.0\n",
       "3         2831.0\n",
       "4         2451.0\n",
       "5         2901.0\n",
       "6         3267.0\n",
       "7         3189.0\n",
       "8         2978.0\n",
       "9         2600.0\n",
       "10        2321.0\n",
       "11        2415.0\n",
       "12        2304.0"
      ]
     },
     "metadata": {},
     "output_type": "display_data"
    }
   ],
   "source": [
    "# Задание 4.4\n",
    "weather_data['Date'] = pd.to_datetime(weather_data['Date'], format='%Y-%m-%d')\n",
    "weather_data['Month'] = weather_data['Date'].dt.month\n",
    "weather_data = weather_data.drop('Date', axis=1)\n",
    "\n",
    "display('Дождливых дней по месяцам:', pd.pivot_table(weather_data, values='RainToday', index='Month', aggfunc='sum'))"
   ]
  },
  {
   "cell_type": "code",
   "execution_count": 244,
   "id": "ab64a931",
   "metadata": {},
   "outputs": [
    {
     "name": "stdout",
     "output_type": "stream",
     "text": [
      "Размерность: (145460, 124)\n"
     ]
    }
   ],
   "source": [
    "#Задание 4.5\n",
    "categoricals = ['Month', 'Location', 'WindGustDir', 'WindDir9am', 'WindDir3pm']\n",
    "\n",
    "weather_data = pd.get_dummies(weather_data, columns=categoricals)\n",
    "print('Размерность:', weather_data.shape)"
   ]
  },
  {
   "cell_type": "code",
   "execution_count": 245,
   "id": "dfe3787c",
   "metadata": {},
   "outputs": [
    {
     "name": "stdout",
     "output_type": "stream",
     "text": [
      "Пропусков осталось: 0\n",
      "Среднее значение целевой переменной теперь: 0.23\n"
     ]
    }
   ],
   "source": [
    "#Задание 4.6\n",
    "weather_data = weather_data.dropna(ignore_index=True)\n",
    "\n",
    "X = weather_data.drop('RainTomorrow', axis=1)\n",
    "y = weather_data['RainTomorrow']\n",
    "\n",
    "X_train, X_test, y_train, y_test = model_selection.train_test_split(X, y, test_size=0.3, random_state=31)\n",
    "\n",
    "print('Пропусков осталось:', weather_data.isna().sum().sum())\n",
    "print('Среднее значение целевой переменной теперь:', round(weather_data['RainTomorrow'].mean(), 2))"
   ]
  },
  {
   "cell_type": "code",
   "execution_count": 246,
   "id": "10ade017",
   "metadata": {},
   "outputs": [
    {
     "name": "stdout",
     "output_type": "stream",
     "text": [
      "(54779, 123)\n",
      "Ответ: 0.03\n"
     ]
    }
   ],
   "source": [
    "print(X_train.shape)\n",
    "\n",
    "#Задание 4.7\n",
    "def get_index_values(data, samples_number):\n",
    "    # Функция для получения рандомной строки для выборки\n",
    "    index = np.random.randint(0, len(data), (samples_number, len(data)))\n",
    "    values = data[index]\n",
    "    return values\n",
    "\n",
    "target_column = X_train['MinTemp'].values\n",
    "np.random.seed(31)\n",
    "mean_values = [np.mean(x) for x in get_index_values(target_column, 1000)] #получаем все средние значения\n",
    "mean_std = np.std(mean_values) #находим для них стандартное отклонение\n",
    "\n",
    "print('Ответ:', round(mean_std, 2))"
   ]
  },
  {
   "cell_type": "code",
   "execution_count": 247,
   "id": "13e40b85",
   "metadata": {},
   "outputs": [
    {
     "name": "stdout",
     "output_type": "stream",
     "text": [
      "roc_auc на обучающей выборке (Логистическая регрессия): 0.73\n",
      "roc_auc на тестовой выборке (Логистическая регрессия): 0.73\n"
     ]
    },
    {
     "name": "stderr",
     "output_type": "stream",
     "text": [
      "c:\\Users\\telis\\AppData\\Local\\Programs\\Python\\Python312\\Lib\\site-packages\\sklearn\\linear_model\\_logistic.py:469: ConvergenceWarning: lbfgs failed to converge (status=1):\n",
      "STOP: TOTAL NO. of ITERATIONS REACHED LIMIT.\n",
      "\n",
      "Increase the number of iterations (max_iter) or scale the data as shown in:\n",
      "    https://scikit-learn.org/stable/modules/preprocessing.html\n",
      "Please also refer to the documentation for alternative solver options:\n",
      "    https://scikit-learn.org/stable/modules/linear_model.html#logistic-regression\n",
      "  n_iter_i = _check_optimize_result(\n"
     ]
    }
   ],
   "source": [
    "#Задание 4.8\n",
    "lr_model = linear_model.LogisticRegression()\n",
    "lr_model.fit(X_train, y_train)\n",
    "\n",
    "y_pred_train_lr = lr_model.predict(X_train)\n",
    "y_pred_test_lr = lr_model.predict(X_test)\n",
    "print('roc_auc на обучающей выборке (Логистическая регрессия):', round(metrics.roc_auc_score(y_true=y_train, y_score=y_pred_train_lr), 2))\n",
    "print('roc_auc на тестовой выборке (Логистическая регрессия):', round(metrics.roc_auc_score(y_true=y_test, y_score=y_pred_test_lr), 2))"
   ]
  },
  {
   "cell_type": "code",
   "execution_count": 248,
   "id": "6e92cfa4",
   "metadata": {},
   "outputs": [
    {
     "name": "stdout",
     "output_type": "stream",
     "text": [
      "CPU times: total: 1.98 s\n",
      "Wall time: 3.96 s\n",
      "Наилучшие значения гиперпараметров: {'max_depth': 5, 'max_leaf_nodes': 9, 'min_samples_split': 2}\n",
      "train_roc_auc: 0.7\n",
      "test_roc_auc: 0.7\n"
     ]
    }
   ],
   "source": [
    "#Задание 4.9\n",
    "params = {'max_leaf_nodes': list(range(2, 10)), 'min_samples_split': [2, 3, 4], 'max_depth': [5,7,9,11]}\n",
    "\n",
    "dt_grid_model = model_selection.GridSearchCV(\n",
    "    estimator=tree.DecisionTreeClassifier(random_state=42),\n",
    "    cv=3,\n",
    "    param_grid=params,\n",
    "    n_jobs = -1\n",
    ")\n",
    "\n",
    "# Инициализация поиска\n",
    "%time dt_grid_model.fit(X_train, y_train)\n",
    "y_pred_train = dt_grid_model.predict(X_train)\n",
    "y_pred_test = dt_grid_model.predict(X_test)\n",
    "print(\"Наилучшие значения гиперпараметров: {}\".format(dt_grid_model.best_params_))\n",
    "print('train_roc_auc:', round(metrics.roc_auc_score(y_true=y_train, y_score=y_pred_train), 2))\n",
    "print('test_roc_auc:', round(metrics.roc_auc_score(y_true=y_test, y_score=y_pred_test), 2))"
   ]
  },
  {
   "cell_type": "code",
   "execution_count": 249,
   "id": "39093dc5",
   "metadata": {},
   "outputs": [
    {
     "name": "stdout",
     "output_type": "stream",
     "text": [
      "roc_auc на обучающей выборке (Случайный лес): 1.0\n",
      "roc_auc на тестовой выборке (Случайный лес): 0.73\n"
     ]
    }
   ],
   "source": [
    "#Задание 4.10\n",
    "rf_model = ensemble.RandomForestClassifier(random_state=31, n_estimators=100)\n",
    "rf_model.fit(X_train, y_train)\n",
    "\n",
    "y_pred_train_rf = rf_model.predict(X_train)\n",
    "y_pred_test_rf = rf_model.predict(X_test)\n",
    "print('roc_auc на обучающей выборке (Случайный лес):', round(metrics.roc_auc_score(y_true=y_train, y_score=y_pred_train_rf), 2))\n",
    "print('roc_auc на тестовой выборке (Случайный лес):', round(metrics.roc_auc_score(y_true=y_test, y_score=y_pred_test_rf), 2))"
   ]
  },
  {
   "cell_type": "code",
   "execution_count": 250,
   "id": "0c83734d",
   "metadata": {},
   "outputs": [
    {
     "name": "stdout",
     "output_type": "stream",
     "text": [
      "CPU times: total: 4.38 s\n",
      "Wall time: 25.5 s\n",
      "Наилучшие значения гиперпараметров: {'max_depth': 5, 'max_leaf_nodes': 9, 'min_samples_split': 2}\n",
      "train_roc_auc: 0.75\n",
      "test_roc_auc: 0.7\n"
     ]
    }
   ],
   "source": [
    "#Задание 4.11\n",
    "params = {'max_features': [ 4, 5, 6, 7], 'min_samples_leaf': [3, 5, 7, 9, 11], 'max_depth': [5, 10, 15]}\n",
    "\n",
    "rf_grid_model = model_selection.GridSearchCV(\n",
    "    estimator=ensemble.RandomForestClassifier(random_state=31),\n",
    "    cv=3,\n",
    "    param_grid=params,\n",
    "    n_jobs = -1\n",
    ")\n",
    "\n",
    "# Инициализация поиска\n",
    "%time rf_grid_model.fit(X_train, y_train)\n",
    "y_pred_train_rf = rf_grid_model.predict(X_train)\n",
    "y_pred_test_rf = rf_grid_model.predict(X_test)\n",
    "print(\"Наилучшие значения гиперпараметров: {}\".format(dt_grid_model.best_params_))\n",
    "print('train_roc_auc:', round(metrics.roc_auc_score(y_true=y_train, y_score=y_pred_train_rf), 2))\n",
    "print('test_roc_auc:', round(metrics.roc_auc_score(y_true=y_test, y_score=y_pred_test_rf), 2))"
   ]
  },
  {
   "cell_type": "code",
   "execution_count": 255,
   "id": "a7a38611",
   "metadata": {},
   "outputs": [
    {
     "name": "stdout",
     "output_type": "stream",
     "text": [
      "train_roc_auc: 0.75\n",
      "test_roc_auc: 0.7\n"
     ]
    }
   ],
   "source": [
    "rf_best_model = rf_grid_model.best_estimator_\n",
    "y_pred_train_rf = rf_best_model.predict(X_train)\n",
    "y_pred_test_rf = rf_best_model.predict(X_test)\n",
    "print('train_roc_auc:', round(metrics.roc_auc_score(y_true=y_train, y_score=y_pred_train_rf), 2))\n",
    "print('test_roc_auc:', round(metrics.roc_auc_score(y_true=y_test, y_score=y_pred_test_rf), 2))"
   ]
  },
  {
   "cell_type": "code",
   "execution_count": null,
   "id": "0224abff",
   "metadata": {},
   "outputs": [
    {
     "name": "stdout",
     "output_type": "stream",
     "text": [
      "                Feature  Importance\n",
      "7           Humidity3pm    0.250783\n",
      "2              Rainfall    0.079757\n",
      "6           Humidity9am    0.070403\n",
      "10             Cloud9am    0.067092\n",
      "9           Pressure3pm    0.065272\n",
      "..                  ...         ...\n",
      "50   Location_Newcastle    0.000000\n",
      "62  Location_SalmonGums    0.000000\n",
      "51        Location_Nhil    0.000000\n",
      "52   Location_NorahHead    0.000000\n",
      "40   Location_GoldCoast    0.000000\n",
      "\n",
      "[123 rows x 2 columns]\n"
     ]
    },
    {
     "data": {
      "image/png": "[encoded data removed]",
      "text/plain": [
       "<Figure size 1000x600 with 1 Axes>"
      ]
     },
     "metadata": {},
     "output_type": "display_data"
    }
   ],
   "source": [
    "#Задание 4.12\n",
    "# Важность признаков\n",
    "importances = rf_best_model.feature_importances_\n",
    "feature_importance_df = pd.DataFrame({\n",
    "    'Feature': X_train.columns,\n",
    "    'Importance': importances\n",
    "}).sort_values('Importance', ascending=False)\n",
    "\n",
    "print(feature_importance_df)\n",
    "\n",
    "plt.figure(figsize=(10, 6))\n",
    "plt.barh(feature_importance_df['Feature'][:30], feature_importance_df['Importance'][:30])\n",
    "plt.xlabel('Важность признака')\n",
    "plt.title('Важность признаков в случайном лесе')\n",
    "plt.show()"
   ]
  }
 ],
 "metadata": {
  "kernelspec": {
   "display_name": "Python 3",
   "language": "python",
   "name": "python3"
  },
  "language_info": {
   "codemirror_mode": {
    "name": "ipython",
    "version": 3
   },
   "file_extension": ".py",
   "mimetype": "text/x-python",
   "name": "python",
   "nbconvert_exporter": "python",
   "pygments_lexer": "ipython3",
   "version": "3.12.3"
  }
 },
 "nbformat": 4,
 "nbformat_minor": 5
}
