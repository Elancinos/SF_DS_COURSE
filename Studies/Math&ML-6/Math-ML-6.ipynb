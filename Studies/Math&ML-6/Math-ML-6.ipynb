{
 "cells": [
  {
   "cell_type": "markdown",
   "id": "617eeeab",
   "metadata": {},
   "source": [
    "# <center> MATH&ML-6. Математический анализ в контексте задачи оптимизации. Часть III"
   ]
  },
  {
   "cell_type": "code",
   "execution_count": 1,
   "id": "3d03f5d9",
   "metadata": {},
   "outputs": [],
   "source": [
    "#Импорты\n",
    "import numpy as np\n",
    "import pandas as pd\n",
    "import sympy\n",
    "from sympy import Eq, solveset, Symbol, symbols, Interval, S, log, sin, cos, exp, diff, solve, N\n",
    "# Аккуратный вывод формул\n",
    "from sympy import init_printing\n",
    "\n",
    "from scipy import optimize\n",
    "from scipy.optimize import minimize\n",
    "\n",
    "from sympy.calculus.util import function_range, continuous_domain"
   ]
  },
  {
   "cell_type": "markdown",
   "id": "0698ebd8",
   "metadata": {},
   "source": [
    "### Юнит 1. Введение"
   ]
  },
  {
   "cell_type": "code",
   "execution_count": 9,
   "id": "0e5f6245",
   "metadata": {},
   "outputs": [
    {
     "data": {
      "text/latex": [
       "$\\displaystyle - 4 x^{3} + 18 x^{2} - 8 x$"
      ],
      "text/plain": [
       "-4*x**3 + 18*x**2 - 8*x"
      ]
     },
     "metadata": {},
     "output_type": "display_data"
    },
    {
     "data": {
      "text/plain": [
       "[0, 1/2, 4]"
      ]
     },
     "metadata": {},
     "output_type": "display_data"
    },
    {
     "name": "stdout",
     "output_type": "stream",
     "text": [
      "Ответ: 144\n"
     ]
    }
   ],
   "source": [
    "# Задание 1.1\n",
    "\n",
    "x, w = symbols('x w')\n",
    "func = -x**4 + 6*x**3 - 4*x**2 + 80\n",
    "display(func.diff(x))\n",
    "display(solve(func.diff(x)))\n",
    "\n",
    "print('Ответ:',-4**4 + 6*4**3 - 4*4**2 + 80)"
   ]
  },
  {
   "cell_type": "code",
   "execution_count": 26,
   "id": "a9202741",
   "metadata": {},
   "outputs": [
    {
     "data": {
      "text/plain": [
       "'diff x: w + 2*x'"
      ]
     },
     "metadata": {},
     "output_type": "display_data"
    },
    {
     "data": {
      "text/plain": [
       "'diff y: w + 4*y'"
      ]
     },
     "metadata": {},
     "output_type": "display_data"
    },
    {
     "data": {
      "text/plain": [
       "'diff w: x + y - 20'"
      ]
     },
     "metadata": {},
     "output_type": "display_data"
    },
    {
     "data": {
      "text/plain": [
       "{w: -80/3, x: 40/3, y: 20/3}"
      ]
     },
     "metadata": {},
     "output_type": "display_data"
    },
    {
     "data": {
      "text/plain": [
       "'Ответ: 800'"
      ]
     },
     "metadata": {},
     "output_type": "display_data"
    }
   ],
   "source": [
    "#Задание 1.4\n",
    "x, y, w = symbols('x y w')\n",
    "func = x**2 + 2*y**2\n",
    "g = x + y - 20\n",
    "\n",
    "full_func = func + w*g\n",
    "display(f'diff x: {full_func.diff(x)}')\n",
    "display(f'diff y: {full_func.diff(y)}')\n",
    "display(f'diff w: {full_func.diff(w)}')\n",
    "xyw = solve([full_func.diff(x), full_func.diff(y), full_func.diff(w)], x, y, w)\n",
    "display(xyw)\n",
    "display(f'Ответ: {(xyw[x]**2 + 2*xyw[y]**2)*3}')"
   ]
  }
 ],
 "metadata": {
  "kernelspec": {
   "display_name": "Python 3",
   "language": "python",
   "name": "python3"
  },
  "language_info": {
   "codemirror_mode": {
    "name": "ipython",
    "version": 3
   },
   "file_extension": ".py",
   "mimetype": "text/x-python",
   "name": "python",
   "nbconvert_exporter": "python",
   "pygments_lexer": "ipython3",
   "version": "3.12.3"
  }
 },
 "nbformat": 4,
 "nbformat_minor": 5
}
