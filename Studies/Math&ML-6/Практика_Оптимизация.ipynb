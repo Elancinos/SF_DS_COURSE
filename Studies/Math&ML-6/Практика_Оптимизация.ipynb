{
  "cells": [
    {
      "cell_type": "markdown",
      "metadata": {
        "id": "NyHIGVhfa_Wf"
      },
      "source": [
        "# Стохастический градиентный и координатный спуски"
      ]
    },
    {
      "cell_type": "markdown",
      "metadata": {
        "id": "gn6lluIADUKa"
      },
      "source": [
        "Для каждого задания указано количество баллов (если они оцениваются отдельно) + 1 балл за аккуратное и полное выполнение всего задания"
      ]
    },
    {
      "cell_type": "code",
      "execution_count": 540,
      "metadata": {},
      "outputs": [],
      "source": [
        "#Импорты\n",
        "import pandas as pd\n",
        "import numpy as np\n",
        "import matplotlib.pyplot as plt"
      ]
    },
    {
      "cell_type": "markdown",
      "metadata": {
        "id": "txCccYvha_Wv"
      },
      "source": [
        "## Загрузка и подготовка данных"
      ]
    },
    {
      "cell_type": "markdown",
      "metadata": {
        "id": "NbyOzeZ6a_Wx"
      },
      "source": [
        "**Загрузите уже знакомый вам файл *Advertising.csv* как объект DataFrame.** "
      ]
    },
    {
      "cell_type": "code",
      "execution_count": 541,
      "metadata": {
        "id": "E1L4_xeDa_Wz"
      },
      "outputs": [
        {
          "name": "stdout",
          "output_type": "stream",
          "text": [
            "<class 'pandas.core.frame.DataFrame'>\n",
            "Index: 200 entries, 1 to 200\n",
            "Data columns (total 4 columns):\n",
            " #   Column     Non-Null Count  Dtype  \n",
            "---  ------     --------------  -----  \n",
            " 0   TV         200 non-null    float64\n",
            " 1   radio      200 non-null    float64\n",
            " 2   newspaper  200 non-null    float64\n",
            " 3   sales      200 non-null    float64\n",
            "dtypes: float64(4)\n",
            "memory usage: 7.8 KB\n",
            "None\n"
          ]
        },
        {
          "data": {
            "text/html": [
              "<div>\n",
              "<style scoped>\n",
              "    .dataframe tbody tr th:only-of-type {\n",
              "        vertical-align: middle;\n",
              "    }\n",
              "\n",
              "    .dataframe tbody tr th {\n",
              "        vertical-align: top;\n",
              "    }\n",
              "\n",
              "    .dataframe thead th {\n",
              "        text-align: right;\n",
              "    }\n",
              "</style>\n",
              "<table border=\"1\" class=\"dataframe\">\n",
              "  <thead>\n",
              "    <tr style=\"text-align: right;\">\n",
              "      <th></th>\n",
              "      <th>TV</th>\n",
              "      <th>radio</th>\n",
              "      <th>newspaper</th>\n",
              "      <th>sales</th>\n",
              "    </tr>\n",
              "  </thead>\n",
              "  <tbody>\n",
              "    <tr>\n",
              "      <th>1</th>\n",
              "      <td>230.1</td>\n",
              "      <td>37.8</td>\n",
              "      <td>69.2</td>\n",
              "      <td>22.1</td>\n",
              "    </tr>\n",
              "    <tr>\n",
              "      <th>2</th>\n",
              "      <td>44.5</td>\n",
              "      <td>39.3</td>\n",
              "      <td>45.1</td>\n",
              "      <td>10.4</td>\n",
              "    </tr>\n",
              "    <tr>\n",
              "      <th>3</th>\n",
              "      <td>17.2</td>\n",
              "      <td>45.9</td>\n",
              "      <td>69.3</td>\n",
              "      <td>9.3</td>\n",
              "    </tr>\n",
              "    <tr>\n",
              "      <th>4</th>\n",
              "      <td>151.5</td>\n",
              "      <td>41.3</td>\n",
              "      <td>58.5</td>\n",
              "      <td>18.5</td>\n",
              "    </tr>\n",
              "    <tr>\n",
              "      <th>5</th>\n",
              "      <td>180.8</td>\n",
              "      <td>10.8</td>\n",
              "      <td>58.4</td>\n",
              "      <td>12.9</td>\n",
              "    </tr>\n",
              "    <tr>\n",
              "      <th>...</th>\n",
              "      <td>...</td>\n",
              "      <td>...</td>\n",
              "      <td>...</td>\n",
              "      <td>...</td>\n",
              "    </tr>\n",
              "    <tr>\n",
              "      <th>196</th>\n",
              "      <td>38.2</td>\n",
              "      <td>3.7</td>\n",
              "      <td>13.8</td>\n",
              "      <td>7.6</td>\n",
              "    </tr>\n",
              "    <tr>\n",
              "      <th>197</th>\n",
              "      <td>94.2</td>\n",
              "      <td>4.9</td>\n",
              "      <td>8.1</td>\n",
              "      <td>9.7</td>\n",
              "    </tr>\n",
              "    <tr>\n",
              "      <th>198</th>\n",
              "      <td>177.0</td>\n",
              "      <td>9.3</td>\n",
              "      <td>6.4</td>\n",
              "      <td>12.8</td>\n",
              "    </tr>\n",
              "    <tr>\n",
              "      <th>199</th>\n",
              "      <td>283.6</td>\n",
              "      <td>42.0</td>\n",
              "      <td>66.2</td>\n",
              "      <td>25.5</td>\n",
              "    </tr>\n",
              "    <tr>\n",
              "      <th>200</th>\n",
              "      <td>232.1</td>\n",
              "      <td>8.6</td>\n",
              "      <td>8.7</td>\n",
              "      <td>13.4</td>\n",
              "    </tr>\n",
              "  </tbody>\n",
              "</table>\n",
              "<p>200 rows × 4 columns</p>\n",
              "</div>"
            ],
            "text/plain": [
              "        TV  radio  newspaper  sales\n",
              "1    230.1   37.8       69.2   22.1\n",
              "2     44.5   39.3       45.1   10.4\n",
              "3     17.2   45.9       69.3    9.3\n",
              "4    151.5   41.3       58.5   18.5\n",
              "5    180.8   10.8       58.4   12.9\n",
              "..     ...    ...        ...    ...\n",
              "196   38.2    3.7       13.8    7.6\n",
              "197   94.2    4.9        8.1    9.7\n",
              "198  177.0    9.3        6.4   12.8\n",
              "199  283.6   42.0       66.2   25.5\n",
              "200  232.1    8.6        8.7   13.4\n",
              "\n",
              "[200 rows x 4 columns]"
            ]
          },
          "execution_count": 541,
          "metadata": {},
          "output_type": "execute_result"
        }
      ],
      "source": [
        "#ваш код\n",
        "data = pd.read_csv('data/Advertising.csv', index_col=0)\n",
        "print(data.info())\n",
        "data"
      ]
    },
    {
      "cell_type": "markdown",
      "metadata": {
        "id": "bf4aVFndDUKf"
      },
      "source": [
        "**Проверьте, есть ли в данных пропуски и, если они есть - удалите их**"
      ]
    },
    {
      "cell_type": "code",
      "execution_count": 542,
      "metadata": {
        "id": "tiVeFnR5DUKg"
      },
      "outputs": [
        {
          "name": "stdout",
          "output_type": "stream",
          "text": [
            "Число пропусков:\n",
            "TV           0\n",
            "radio        0\n",
            "newspaper    0\n",
            "sales        0\n",
            "dtype: int64\n"
          ]
        }
      ],
      "source": [
        "#ваш код \n",
        "print('Число пропусков:')\n",
        "print(data.isnull().sum())"
      ]
    },
    {
      "cell_type": "markdown",
      "metadata": {},
      "source": [
        "Пропусков нет, идём дальше."
      ]
    },
    {
      "cell_type": "code",
      "execution_count": 543,
      "metadata": {},
      "outputs": [],
      "source": [
        "#ваш код "
      ]
    },
    {
      "cell_type": "markdown",
      "metadata": {
        "id": "rTkiqPr_DUKh"
      },
      "source": [
        "**Преобразуйте ваши признаки в массивы NumPy и разделите их на переменные X (предикторы) и y(целевая переменная)** "
      ]
    },
    {
      "cell_type": "code",
      "execution_count": 544,
      "metadata": {
        "id": "R9OHIRB3a_Xa"
      },
      "outputs": [
        {
          "name": "stdout",
          "output_type": "stream",
          "text": [
            "[230.1  37.8  69.2]\n",
            "(200, 3) (200, 1)\n"
          ]
        }
      ],
      "source": [
        "#ваш код\n",
        "n = len(data)\n",
        "#Так как эти массивы будут использоваться для разных \n",
        "# преобразований в разных заданиях, поставил для себя пометку _.\n",
        "X_ = np.array(data[['TV', 'radio', 'newspaper']].values)\n",
        "# До этого тут были строки, добавляющие свободный коэффициент\n",
        "# в х и конвертирующие y. \n",
        "# Отредактировал Х, у оставил неизменным, надеюсь, это не \n",
        "# повлияет в дальнейшем.\n",
        "y_ = np.array(data['sales'].values.reshape(n, 1))\n",
        "#Для проверки\n",
        "print(X_[0])\n",
        "print(X_.shape, y_.shape)"
      ]
    },
    {
      "cell_type": "markdown",
      "metadata": {
        "id": "KCvjSoHEDUKo"
      },
      "source": [
        "## Координатный спуск (3 балла)"
      ]
    },
    {
      "cell_type": "markdown",
      "metadata": {
        "id": "yjNm8dATDUKq"
      },
      "source": [
        "**Добавим единичный столбец для того, чтобы у нас был свободный коэффициент в уравнении регрессии:**"
      ]
    },
    {
      "cell_type": "code",
      "execution_count": 545,
      "metadata": {
        "id": "LMgq0fmKDUKr"
      },
      "outputs": [
        {
          "name": "stdout",
          "output_type": "stream",
          "text": [
            "(200, 4) (200, 1)\n"
          ]
        }
      ],
      "source": [
        "import numpy as np\n",
        "\n",
        "X = np.hstack([np.ones(X_.shape[0]).reshape(-1, 1), X_])\n",
        "y = y_.reshape(-1, 1)\n",
        "#Проверка\n",
        "print(X.shape, y.shape)"
      ]
    },
    {
      "cell_type": "markdown",
      "metadata": {
        "id": "R008OQwcDUKt"
      },
      "source": [
        "**Нормализуем данные: обычно это необходимо для корректной работы алгоритма**"
      ]
    },
    {
      "cell_type": "code",
      "execution_count": 546,
      "metadata": {
        "id": "2Sk7Wx-SDUKt"
      },
      "outputs": [
        {
          "data": {
            "text/plain": [
              "array([[0.07071068, 0.09561706, 0.09692057, 0.13052034],\n",
              "       [0.07071068, 0.01849178, 0.10076663, 0.08506456],\n",
              "       [0.07071068, 0.00714739, 0.11768927, 0.13070895],\n",
              "       [0.07071068, 0.06295517, 0.1058947 , 0.11033873],\n",
              "       [0.07071068, 0.07513066, 0.02769159, 0.11015011]])"
            ]
          },
          "execution_count": 546,
          "metadata": {},
          "output_type": "execute_result"
        }
      ],
      "source": [
        "X_norm = X / np.sqrt(np.sum(np.square(X), axis=0))\n",
        "X_norm[:5]"
      ]
    },
    {
      "cell_type": "markdown",
      "metadata": {
        "id": "F_pHHbAdDUKu"
      },
      "source": [
        "**Реализуйте алгоритм координатного спуска:** (3 балла)\n",
        "\n",
        "Ниже приведен алгоритм координатного спуска для случая нормализованных данных:"
      ]
    },
    {
      "cell_type": "markdown",
      "metadata": {},
      "source": [
        "**Задано:**\n",
        "\n",
        "* $X=(x_{ij})$ - матрица наблюдений, размерностью $dim(X)=(m, n)$\n",
        "* $N=1000$ - количество итераций\n",
        "\n",
        "**Примечание:** *1000 итераций здесь указаны для этого задания, на самом деле их может быть намного больше, нет детерменированного значения.*\n",
        "\n",
        "**Алгоритм (математическая запись):**\n",
        "* Создать нулевой вектор параметров $w_0=(0, 0,..., 0)^T$\n",
        "* Для всех $t=1, 2, ..., N$ итераций:\n",
        "    * Для всех $k = 1, 2,..., n$:\n",
        "        * Фиксируем значение всех признаков, кроме $k$-ого и вычисляем прогноз модели линейной регрессии.Для этого исключаем признак $k$-ый из данных и $w_j$ из параметров при построении прогноза.\n",
        "        Математически это можно записать следующим образом:\n",
        "\n",
        "        $$h_i = \\sum_{j=1}^{k-1} x_{ij}w_{j} + \\sum_{j=k+1}^{n} x_{ij}w_j $$\n",
        "\n",
        "        **Примечание:**\n",
        "        \n",
        "        *Обратите, что в данной записи текущий признак под номером $k$ не участвует в сумме.Сравните эту запись с классической записью прогноза линейной регрессии в случае нормированных данных (когда участвуют все признаки):*\n",
        "\n",
        "        $$h_i = \\sum_{j=1}^{n} x_{ij}w_{j}$$ \n",
        "        \n",
        "        * Вычисляем новое значение параметра $k$-ого коэффициента: \n",
        "        $$w_k = \\sum_{i=1}^{m} x_{ik} (y_i - h_i) = x_k^T(y-h) $$\n",
        "\n",
        "    * Вычисляем значение функции потерь и сохраняем в историю изменения функции потерь (В оценке функции потерь участвуют все признаки):\n",
        "        $$\\hat{y_i} = \\sum_{j=1}^{n}x_{ij}w_j$$\n",
        "        $$Loss_t = \\frac{1}{n} \\sum_{i=1}^{m}(y_i-\\hat{y_i})^2$$\n",
        "        \n",
        "        или в векторном виде:\n",
        "        \n",
        "        $$\\hat{y} = Xw$$\n",
        "        $$Loss_t = \\frac{1}{n}(y-\\hat{y})^T(y-\\hat{y})$$\n",
        "    \n",
        "\n"
      ]
    },
    {
      "cell_type": "markdown",
      "metadata": {},
      "source": [
        "**Алгоритм (псевдокод):**\n",
        "```python\n",
        "\n",
        "num_iters = #количество итераций\n",
        "m = # количество строк в матрице X\n",
        "n = # количество столбцов в матрице X\n",
        "w = #вектор размера nx1, состояющий из нулей\n",
        "\n",
        "for i in range(num_iters):\n",
        "    for k in range(n):\n",
        "        # Вычисляем прогноз без k-ого фактора\n",
        "        h = (X[:,0:k] @ w[0:k]) + (X[:,k+1:] @ w[k+1:])\n",
        "        # Обновляем новое значение k-ого коэффициента\n",
        "        w[k] =  (X[:,k].T @ (y - h))\n",
        "        # Вычисляем функцию потерь\n",
        "        cost = sum((X @ w) - y) ** 2)/(len(y))\n",
        "\n",
        "```"
      ]
    },
    {
      "cell_type": "markdown",
      "metadata": {
        "id": "y3IdiHm9DUKv"
      },
      "source": [
        "Вам необходимо реализовать координатный спуск, и вывести веса в модели линейной регрессии."
      ]
    },
    {
      "cell_type": "code",
      "execution_count": 547,
      "metadata": {},
      "outputs": [
        {
          "data": {
            "text/plain": [
              "{'w0': array([41.56217205]),\n",
              " 'w1': array([110.13144155]),\n",
              " 'w2': array([73.52860638]),\n",
              " 'w3': array([-0.55006384])}"
            ]
          },
          "metadata": {},
          "output_type": "display_data"
        },
        {
          "name": "stdout",
          "output_type": "stream",
          "text": [
            "Функция ошибки (MSE) в последней итерации: [2.78412631]\n"
          ]
        }
      ],
      "source": [
        "# ваш код\n",
        "num_iters = 1000 #количество итераций\n",
        "m = X_norm.shape[0] # количество строк в матрице X\n",
        "n = X_norm.shape[1] # количество столбцов в матрице X\n",
        "w = np.zeros((n, 1)) # вектор размера nx1, состояющий из нулей\n",
        "w_dict = {}\n",
        "\n",
        "for i in range(num_iters):\n",
        "    for k in range(n):\n",
        "        # Вычисляем прогноз без k-ого фактора\n",
        "        h = (X_norm[:,0:k] @ w[0:k]) + (X_norm[:,k+1:] @ w[k+1:])\n",
        "        # Обновляем новое значение k-ого коэффициента\n",
        "        w[k] =  (X_norm[:,k].T @ (y - h))\n",
        "        w_dict.update({f'w{k}': w[k]})\n",
        "    # Вычисляем функцию потерь для координатного спуска\n",
        "    y_pred = X_norm @ w\n",
        "    cost_CD = sum((y_pred - y) ** 2)/(len(y))\n",
        "\n",
        "display(w_dict)\n",
        "w_list = list(w_dict.values())\n",
        "print(f'Функция ошибки (MSE) в последней итерации: {cost_CD}')"
      ]
    },
    {
      "cell_type": "code",
      "execution_count": 548,
      "metadata": {},
      "outputs": [
        {
          "data": {
            "text/plain": [
              "[array([41.56217205]),\n",
              " array([110.13144155]),\n",
              " array([73.52860638]),\n",
              " array([-0.55006384])]"
            ]
          },
          "execution_count": 548,
          "metadata": {},
          "output_type": "execute_result"
        }
      ],
      "source": [
        "# Получившиеся коэффициенты\n",
        "w_list"
      ]
    },
    {
      "cell_type": "markdown",
      "metadata": {
        "id": "a3jG-7UADUKx"
      },
      "source": [
        "Сравните результаты с реализацией линейной регрессии из библиотеки sklearn:"
      ]
    },
    {
      "cell_type": "code",
      "execution_count": 549,
      "metadata": {
        "id": "SBl-1Yb5DUKy"
      },
      "outputs": [
        {
          "name": "stdout",
          "output_type": "stream",
          "text": [
            "[[ 41.56217205 110.13144155  73.52860638  -0.55006384]]\n"
          ]
        }
      ],
      "source": [
        "from sklearn.linear_model import LinearRegression\n",
        " \n",
        "model = LinearRegression(fit_intercept=False)\n",
        "model.fit(X_norm, y)\n",
        " \n",
        "print(model.coef_)"
      ]
    },
    {
      "cell_type": "markdown",
      "metadata": {
        "id": "hIl0AGLyDUKy"
      },
      "source": [
        "Если вы все сделали верно, они должны практически совпасть!"
      ]
    },
    {
      "cell_type": "markdown",
      "metadata": {},
      "source": [
        "P.S.\n",
        "Совпадение идеально."
      ]
    },
    {
      "cell_type": "markdown",
      "metadata": {
        "id": "VCGwFnPdDUKz"
      },
      "source": [
        "## Стохастический градиентный спуск (6 баллов)"
      ]
    },
    {
      "cell_type": "markdown",
      "metadata": {
        "id": "5u7Q2YJla_Xk"
      },
      "source": [
        "**Отмасштабируйте столбцы исходной матрицы *X* (которую мы не нормализовали еще!). Для того, чтобы это сделать, надо вычесть из каждого значения среднее и разделить на стандартное отклонение** (0.5 баллов)"
      ]
    },
    {
      "cell_type": "code",
      "execution_count": 550,
      "metadata": {
        "id": "9cEpV_5La_Xo"
      },
      "outputs": [
        {
          "data": {
            "text/plain": [
              "array([[ 0.96985227,  0.98152247,  1.77894547],\n",
              "       [-1.19737623,  1.08280781,  0.66957876],\n",
              "       [-1.51615499,  1.52846331,  1.78354865],\n",
              "       [ 0.05204968,  1.21785493,  1.28640506],\n",
              "       [ 0.3941822 , -0.84161366,  1.28180188]])"
            ]
          },
          "execution_count": 550,
          "metadata": {},
          "output_type": "execute_result"
        }
      ],
      "source": [
        "#ваш код\n",
        "X_scal = (X_ - X_.mean(axis=0)) / X_.std(axis=0)\n",
        "X_scal[:5]"
      ]
    },
    {
      "cell_type": "markdown",
      "metadata": {
        "id": "8WkNYILHDUK1"
      },
      "source": [
        "**Добавим единичный столбец**"
      ]
    },
    {
      "cell_type": "code",
      "execution_count": 551,
      "metadata": {
        "id": "EVl5tEGtDUK1"
      },
      "outputs": [
        {
          "data": {
            "text/plain": [
              "array([1.        , 0.96985227, 0.98152247, 1.77894547])"
            ]
          },
          "metadata": {},
          "output_type": "display_data"
        },
        {
          "data": {
            "text/plain": [
              "(200, 4)"
            ]
          },
          "execution_count": 551,
          "metadata": {},
          "output_type": "execute_result"
        }
      ],
      "source": [
        "X_scal = np.hstack([np.ones(X_scal.shape[0]).reshape(-1, 1), X_scal])\n",
        "display(X_scal[0])\n",
        "X_scal.shape"
      ]
    },
    {
      "cell_type": "markdown",
      "metadata": {
        "id": "m53tZA5fDUK1"
      },
      "source": [
        "**Создайте функцию mse_error для вычисления среднеквадратичной ошибки, принимающую два аргумента: реальные значения и предсказывающие, и возвращающую значение mse** (0.5 балла)"
      ]
    },
    {
      "cell_type": "code",
      "execution_count": 552,
      "metadata": {
        "id": "0cvtC08Aa_YK"
      },
      "outputs": [],
      "source": [
        "#ваш код\n",
        "def mse_error(y, y_pred):\n",
        "    return ((y_pred-y)**2).mean()"
      ]
    },
    {
      "cell_type": "markdown",
      "metadata": {
        "id": "lpOLhdvBDUK2"
      },
      "source": [
        "**Сделайте наивный прогноз: предскажите продажи средним значением. После этого рассчитайте среднеквадратичную ошибку для этого прогноза** (0.5 балла)"
      ]
    },
    {
      "cell_type": "code",
      "execution_count": 553,
      "metadata": {
        "id": "kLV_XljVa_YZ"
      },
      "outputs": [
        {
          "data": {
            "text/plain": [
              "(200, 1)"
            ]
          },
          "metadata": {},
          "output_type": "display_data"
        },
        {
          "name": "stdout",
          "output_type": "stream",
          "text": [
            "Ошибка для проноза: 27.08574375\n"
          ]
        }
      ],
      "source": [
        "#ваш код\n",
        "y_pred_list = []\n",
        "for i in range(y_.shape[0]):\n",
        "    y_pred = y_.mean()\n",
        "    y_pred_list.append(y_pred)\n",
        "y_pred_array = np.array(y_pred_list)\n",
        "# Среднеквадратичная ошибка для наивного прогноза\n",
        "cost_Naive = mse_error(y_, y_pred_array)\n",
        "display(y_pred_array.reshape(-1, 1).shape)\n",
        "print(f'Ошибка для проноза: {cost_Naive}')"
      ]
    },
    {
      "cell_type": "markdown",
      "metadata": {
        "id": "BbybL2ola_ZM"
      },
      "source": [
        "**Создайте функцию *lin_pred*, которая может по матрице предикторов *X* и вектору весов линейной модели *w* получить вектор прогнозов** (0.5 балла)"
      ]
    },
    {
      "cell_type": "code",
      "execution_count": 554,
      "metadata": {
        "id": "1Cyz-Luaa_ZO"
      },
      "outputs": [
        {
          "data": {
            "text/plain": [
              "2.7841263145109365"
            ]
          },
          "execution_count": 554,
          "metadata": {},
          "output_type": "execute_result"
        }
      ],
      "source": [
        "#ваш код\n",
        "def lin_pred(X, w_array):\n",
        "    return X@w_array\n",
        "\n",
        "#Проверю работу на нормализованных данных\n",
        "y_lin_pred = lin_pred(X_norm, w_list)\n",
        "mse_error(y_, y_lin_pred)"
      ]
    },
    {
      "cell_type": "markdown",
      "metadata": {
        "id": "BU4adBrya_Zm"
      },
      "source": [
        "**Создайте функцию *stoch_grad_step* для реализации шага стохастического градиентного спуска. (1.5 балла) \n",
        "Функция должна принимать на вход следующие аргументы:**\n",
        "* матрицу *X*\n",
        "* вектора *y* и *w*\n",
        "* число *train_ind* - индекс объекта обучающей выборки (строки матрицы *X*), по которому считается изменение весов\n",
        "* число *$\\eta$* (eta) - шаг градиентного спуска\n",
        "\n",
        "Результатом будет вектор обновленных весов"
      ]
    },
    {
      "cell_type": "markdown",
      "metadata": {
        "id": "dyLY-P02DUK5"
      },
      "source": [
        "Шаг для стохастического градиентного спуска выглядит следующим образом:"
      ]
    },
    {
      "cell_type": "markdown",
      "metadata": {
        "id": "ORsAyIKNDUK5"
      },
      "source": [
        "$$\\Large w_j \\leftarrow w_j - \\frac{2\\eta}{\\ell} \\sum_{i=1}^\\ell{{x_{ij}((w_0 + w_1x_{i1} + w_2x_{i2} +  w_3x_{i3}) - y_i)}}$$"
      ]
    },
    {
      "cell_type": "markdown",
      "metadata": {
        "id": "CQl2FrpuDUK6"
      },
      "source": [
        "Для того, чтобы написать функцию, нужно сделать следующее:\n",
        "    \n",
        "*  посчитать направление изменения: умножить объект обучающей выборки на 2 и на разницу между предсказанным значением и реальным, а потом поделить на количество элементов в выборке.\n",
        "* вернуть разницу между вектором весов и направлением изменения, умноженным на шаг градиентного спуска"
      ]
    },
    {
      "cell_type": "code",
      "execution_count": 555,
      "metadata": {
        "id": "YUhVQGsja_Zn"
      },
      "outputs": [
        {
          "data": {
            "text/plain": [
              "array([[5.08      ],\n",
              "       [8.46223441],\n",
              "       [6.52972275],\n",
              "       [4.82789394]])"
            ]
          },
          "execution_count": 555,
          "metadata": {},
          "output_type": "execute_result"
        }
      ],
      "source": [
        "#ваш код\n",
        "\n",
        "#Функция реализации шага градиентного спуска\n",
        "def stoch_grad_step(X, y, w, train_ind, temp):\n",
        "    '''\n",
        "    Параметры:\n",
        "    X - матрица признаков\n",
        "    y - вектор ответов\n",
        "    w - вектор весов\n",
        "    train_int - индекс объекта из обучающей выборки, \n",
        "    по которому счиатестя изменение весов\n",
        "    temp - шаг градиентного спуска\n",
        "    '''\n",
        "    X_curr = X[train_ind].reshape(1, -1)\n",
        "    y_curr = y[train_ind]\n",
        "    direction = 2*X_curr.T@(X_curr@w - y_curr)\n",
        "    w_new = w - temp*direction\n",
        "    return w_new\n",
        "\n",
        "stoch_grad_step(X_scal, y_, w=np.zeros((n, 1)), train_ind=98, temp=0.1)"
      ]
    },
    {
      "cell_type": "markdown",
      "metadata": {
        "id": "pXwIFd0Ma_Zx"
      },
      "source": [
        "**Создайте функцию *stochastic_gradient_descent*, для реализации стохастического градиентного спуска (2.5 балла)**\n",
        "\n",
        "**Функция принимает на вход следующие аргументы:**\n",
        "- Матрицу признаков X\n",
        "- Целевую переменнную\n",
        "- Изначальную точку (веса модели)\n",
        "- Параметр, определяющий темп обучения\n",
        "- Максимальное число итераций\n",
        "- Евклидово расстояние между векторами весов на соседних итерациях градиентного спуска,при котором алгоритм прекращает работу \n",
        "\n",
        "**На каждой итерации в вектор (список) должно записываться текущее значение среднеквадратичной ошибки. Функция должна возвращать вектор весов $w$, а также вектор (список) ошибок.**"
      ]
    },
    {
      "cell_type": "markdown",
      "metadata": {
        "id": "ZVeoNF1JDUK7"
      },
      "source": [
        "Алгоритм сследующий:\n",
        "    \n",
        "* Инициализируйте расстояние между векторами весов на соседних итерациях большим числом (можно бесконечностью)\n",
        "* Создайте пустой список для фиксации ошибок\n",
        "* Создайте счетчик итераций\n",
        "* Реализуйте оновной цикл обучения пока расстояние между векторами весов больше того, при котором надо прекратить работу (когда расстояния станут слишком маленькими - значит, мы застряли в одном месте) и количество итераций меньше максимально разрешенного: сгенерируйте случайный индекс, запишите текущую ошибку в вектор ошибок, запишите в переменную текущий шаг стохастического спуска с использованием функции, написанной ранее. Далее рассчитайте текущее расстояние между векторами весов и прибавьте к счетчику итераций 1.\n",
        "* Верните вектор весов и вектор ошибок"
      ]
    },
    {
      "cell_type": "code",
      "execution_count": 556,
      "metadata": {
        "id": "CD_xcFNfa_Zy"
      },
      "outputs": [
        {
          "name": "stdout",
          "output_type": "stream",
          "text": [
            "Ранняя остановка на итерации 824: 0.000005 < 1e-05\"\n",
            "Итоговые коэффициенты: [[13.79346351]\n",
            " [ 3.9280698 ]\n",
            " [ 2.79391393]\n",
            " [ 0.05226868]] \n",
            " MSE: 2.842 \n",
            " Итераций: 824\n"
          ]
        }
      ],
      "source": [
        "# ваш код\n",
        "\n",
        "def stochastic_gradient_descent(X, y, temp, max_iter, w=np.zeros((n, 1)), eu_dist=1e-5, info=None):\n",
        "    \"\"\"\n",
        "    Параметры:\n",
        "    X - матрица признаков (m, n)\n",
        "    y - вектор целевых значений (m, 1)\n",
        "    w - изначальная точка (веса модели) \n",
        "    temp - скорость обучения\n",
        "    max_iter - количество эпох\n",
        "    eu_dist - евклидово расстояние между векторами весов на \n",
        "    соседних итерациях градиентного спуска, при котором алгоритм \n",
        "    прекращает работу\n",
        "    info - Включить, если нужна краткая выкладка по работе функции \n",
        "    (Итоговые коэффициенты и ошибка, количество итераций)\n",
        "    \"\"\"\n",
        "    v_dist = 1e+10\n",
        "    costs = []\n",
        "    iter = 0\n",
        "    v_dist_list = []\n",
        "    for i in range(max_iter):\n",
        "        index = np.random.randint(0, m)\n",
        "        y_pred = lin_pred(X, w_array=w)\n",
        "        costs.append(mse_error(y, y_pred))\n",
        "        w_new = stoch_grad_step(X, y, w, train_ind=index, temp=temp)\n",
        "        v_dist = np.linalg.norm(w_new-w)\n",
        "        v_dist_list.append(v_dist)\n",
        "        w = w_new\n",
        "        iter = 1+i\n",
        "        if v_dist < eu_dist:\n",
        "            print(f'Ранняя остановка на итерации {iter}: {v_dist:.6f} < {eu_dist}\"')\n",
        "            break\n",
        "    if info != None:\n",
        "        print(f'Итоговые коэффициенты: {w} \\n MSE: {costs[-1]:.3f} \\n Итераций: {iter}')\n",
        "    return w, costs, iter, v_dist_list, eu_dist\n",
        "\n",
        "w, costs, iter, v_dist_list, eu_dist = stochastic_gradient_descent(\n",
        "    X_scal, \n",
        "    y_, \n",
        "    temp=0.003, \n",
        "    max_iter=10**5, \n",
        "    info='Да'\n",
        "    )"
      ]
    },
    {
      "cell_type": "markdown",
      "metadata": {
        "id": "0OqHO1Rta_Z7"
      },
      "source": [
        " **Запустите $10^5$ итераций стохастического градиентного спуска. Укажите вектор начальных весов, состоящий из нулей. Можете поэкспериментировать с параметром, отвечающим за темп обучения.**"
      ]
    },
    {
      "cell_type": "markdown",
      "metadata": {
        "id": "N6fHHT6vDUK8"
      },
      "source": [
        "**Постройте график зависимости ошибки от номера итерации**"
      ]
    },
    {
      "cell_type": "code",
      "execution_count": 557,
      "metadata": {
        "id": "zsSfHDzLDUK9"
      },
      "outputs": [
        {
          "data": {
            "image/png": "[encoded data removed]",
            "text/plain": [
              "<Figure size 1200x500 with 2 Axes>"
            ]
          },
          "metadata": {},
          "output_type": "display_data"
        }
      ],
      "source": [
        "# ваш код\n",
        "# График зависимости ошибки от номера итерации\n",
        "plt.figure(figsize=(12, 5))\n",
        "plt.subplot(1, 2, 1)\n",
        "plt.plot(costs)\n",
        "plt.xlabel('Итерация')\n",
        "plt.ylabel('MSE')\n",
        "plt.title('Зависимость ошибки от номера итерации')\n",
        "\n",
        "# Дополнительный график изменения длины вектора весов \n",
        "# в зависимости от заданного порога\n",
        "plt.subplot(1, 2, 2)\n",
        "plt.plot(v_dist_list)\n",
        "plt.xlabel('Итерация')\n",
        "plt.ylabel('Δw')\n",
        "plt.title('Изменение весов')\n",
        "plt.axhline(y=eu_dist, \n",
        "            color='r', \n",
        "            linestyle='--', \n",
        "            label=f'Пороговое значение ({eu_dist})'\n",
        "            )\n",
        "plt.legend()\n",
        "plt.tight_layout()\n",
        "plt.show()"
      ]
    },
    {
      "cell_type": "markdown",
      "metadata": {},
      "source": [
        "Дополнительно прикрепил график изменения расстояния вектора весов."
      ]
    },
    {
      "cell_type": "markdown",
      "metadata": {
        "id": "O-MVOcJ6a_aY"
      },
      "source": [
        "**Выведите вектор весов, к которому сошелся метод.**"
      ]
    },
    {
      "cell_type": "code",
      "execution_count": 558,
      "metadata": {
        "id": "MPjVkXe4DUK9"
      },
      "outputs": [
        {
          "name": "stdout",
          "output_type": "stream",
          "text": [
            "Веса, удовлетворяющие условию сходимости: \n",
            " [[13.79346351]\n",
            " [ 3.9280698 ]\n",
            " [ 2.79391393]\n",
            " [ 0.05226868]]\n"
          ]
        }
      ],
      "source": [
        "# ваш код\n",
        "print(f'Веса, удовлетворяющие условию сходимости: \\n {w}')"
      ]
    },
    {
      "cell_type": "markdown",
      "metadata": {
        "id": "qabzMc3Qa_a5"
      },
      "source": [
        "**Выведите среднеквадратичную ошибку на последней итерации.**"
      ]
    },
    {
      "cell_type": "code",
      "execution_count": 559,
      "metadata": {
        "id": "7tPWleMIa_a7"
      },
      "outputs": [
        {
          "name": "stdout",
          "output_type": "stream",
          "text": [
            "Итоговая среднеквадратичная ошибка: 2.8424372853980047\n"
          ]
        }
      ],
      "source": [
        "# ваш код\n",
        "cost_SGD = costs[-1]\n",
        "print(f'Итоговая среднеквадратичная ошибка: {cost_SGD}')"
      ]
    },
    {
      "cell_type": "code",
      "execution_count": 560,
      "metadata": {},
      "outputs": [
        {
          "name": "stdout",
          "output_type": "stream",
          "text": [
            "Среднеквадратичная ошибка наивного прогноза: 27.09\n",
            "Среднеквадратичная ошибка координатного спуска: [2.78]\n",
            "Среднеквадратичная ошибка SGD: 2.84\n"
          ]
        }
      ],
      "source": [
        "# Дополнительная ячейка для сравнения моделей\n",
        "print('Среднеквадратичная ошибка наивного прогноза:', np.round(cost_Naive, 2))\n",
        "print('Среднеквадратичная ошибка координатного спуска:', np.round(cost_CD, 2))\n",
        "print('Среднеквадратичная ошибка SGD:', np.round(cost_SGD, 2))"
      ]
    },
    {
      "cell_type": "markdown",
      "metadata": {},
      "source": [
        "# Пара выводов:\n",
        "### Координатный спуск\n",
        "Метод показывает неплохую точность, и реализуется несколько проще SGD. Но, отсюда подозреваю, что шанс переобучения у него больше.\n",
        "\n",
        "### SGD\n",
        "1. По сравнению с наивным методом, ошибка после использования градиентного спуска уменьшилась в среднем примерно в 10 раз.\n",
        "2. К некоторым функциям прикрутил несколько дополнительных фишек (например, параметр info к основной функции sgd, так как возмножно буду использовать её для себя, а через этот параметр удобнее выводить информацию, чем через несколько строчек), надеюсь, это не повлияет на оценку (негативно).\n",
        "3. Поэкспериментировал с параметром скорости обучения, в функции использовал наиболее оптимальный. Если он отличается более, чем на 0.002, количество итераций начинает в среднем расти.\n",
        "\n",
        "В общем и целом ещё стоит отметить, что результат по методу координатного спуска воспроизводим, в отличие от SGD, так как последний каждый раз берет на вход признаки под случайным индексом. Эффективнее всех исходя из метрик работает Координатный спуск, но иногда, в зависимотси от сходимости, SGD бывает чуть лучше.\n",
        "\n",
        "MAE по требованию с сайта не выводил, так как для этого придётся заметно переписать предложенный в примерах код, иначе как это сделать не придумал. Если уж нужен будет, напишите в отзыве."
      ]
    }
  ],
  "metadata": {
    "colab": {
      "collapsed_sections": [],
      "name": "Практика_Оптимизация.ipynb",
      "provenance": [],
      "toc_visible": true
    },
    "kernelspec": {
      "display_name": "Python 3",
      "language": "python",
      "name": "python3"
    },
    "language_info": {
      "codemirror_mode": {
        "name": "ipython",
        "version": 3
      },
      "file_extension": ".py",
      "mimetype": "text/x-python",
      "name": "python",
      "nbconvert_exporter": "python",
      "pygments_lexer": "ipython3",
      "version": "3.12.3"
    }
  },
  "nbformat": 4,
  "nbformat_minor": 0
}
