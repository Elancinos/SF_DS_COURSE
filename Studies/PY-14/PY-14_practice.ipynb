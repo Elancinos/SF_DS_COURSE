{
 "cells": [
  {
   "cell_type": "code",
   "execution_count": 65,
   "metadata": {},
   "outputs": [],
   "source": [
    "#Импортируем библиотеки\n",
    "\n",
    "import pandas as pd\n",
    "import numpy as np\n",
    "import matplotlib.pyplot as plt\n",
    "import seaborn as sns\n",
    "import plotly.express as px"
   ]
  },
  {
   "cell_type": "code",
   "execution_count": 66,
   "metadata": {},
   "outputs": [
    {
     "data": {
      "text/html": [
       "<div>\n",
       "<style scoped>\n",
       "    .dataframe tbody tr th:only-of-type {\n",
       "        vertical-align: middle;\n",
       "    }\n",
       "\n",
       "    .dataframe tbody tr th {\n",
       "        vertical-align: top;\n",
       "    }\n",
       "\n",
       "    .dataframe thead th {\n",
       "        text-align: right;\n",
       "    }\n",
       "</style>\n",
       "<table border=\"1\" class=\"dataframe\">\n",
       "  <thead>\n",
       "    <tr style=\"text-align: right;\">\n",
       "      <th></th>\n",
       "      <th>Pregnancies</th>\n",
       "      <th>Glucose</th>\n",
       "      <th>BloodPressure</th>\n",
       "      <th>SkinThickness</th>\n",
       "      <th>Insulin</th>\n",
       "      <th>BMI</th>\n",
       "      <th>DiabetesPedigreeFunction</th>\n",
       "      <th>Age</th>\n",
       "      <th>Outcome</th>\n",
       "      <th>Gender</th>\n",
       "    </tr>\n",
       "  </thead>\n",
       "  <tbody>\n",
       "    <tr>\n",
       "      <th>0</th>\n",
       "      <td>6</td>\n",
       "      <td>98</td>\n",
       "      <td>58</td>\n",
       "      <td>33</td>\n",
       "      <td>190</td>\n",
       "      <td>34.0</td>\n",
       "      <td>0.430</td>\n",
       "      <td>43</td>\n",
       "      <td>0</td>\n",
       "      <td>Female</td>\n",
       "    </tr>\n",
       "    <tr>\n",
       "      <th>1</th>\n",
       "      <td>2</td>\n",
       "      <td>112</td>\n",
       "      <td>75</td>\n",
       "      <td>32</td>\n",
       "      <td>0</td>\n",
       "      <td>35.7</td>\n",
       "      <td>0.148</td>\n",
       "      <td>21</td>\n",
       "      <td>0</td>\n",
       "      <td>Female</td>\n",
       "    </tr>\n",
       "    <tr>\n",
       "      <th>2</th>\n",
       "      <td>2</td>\n",
       "      <td>108</td>\n",
       "      <td>64</td>\n",
       "      <td>0</td>\n",
       "      <td>0</td>\n",
       "      <td>30.8</td>\n",
       "      <td>0.158</td>\n",
       "      <td>21</td>\n",
       "      <td>0</td>\n",
       "      <td>Female</td>\n",
       "    </tr>\n",
       "    <tr>\n",
       "      <th>3</th>\n",
       "      <td>8</td>\n",
       "      <td>107</td>\n",
       "      <td>80</td>\n",
       "      <td>0</td>\n",
       "      <td>0</td>\n",
       "      <td>24.6</td>\n",
       "      <td>0.856</td>\n",
       "      <td>34</td>\n",
       "      <td>0</td>\n",
       "      <td>Female</td>\n",
       "    </tr>\n",
       "    <tr>\n",
       "      <th>4</th>\n",
       "      <td>7</td>\n",
       "      <td>136</td>\n",
       "      <td>90</td>\n",
       "      <td>0</td>\n",
       "      <td>0</td>\n",
       "      <td>29.9</td>\n",
       "      <td>0.210</td>\n",
       "      <td>50</td>\n",
       "      <td>0</td>\n",
       "      <td>Female</td>\n",
       "    </tr>\n",
       "  </tbody>\n",
       "</table>\n",
       "</div>"
      ],
      "text/plain": [
       "   Pregnancies  Glucose  BloodPressure  SkinThickness  Insulin   BMI  \\\n",
       "0            6       98             58             33      190  34.0   \n",
       "1            2      112             75             32        0  35.7   \n",
       "2            2      108             64              0        0  30.8   \n",
       "3            8      107             80              0        0  24.6   \n",
       "4            7      136             90              0        0  29.9   \n",
       "\n",
       "   DiabetesPedigreeFunction  Age  Outcome  Gender  \n",
       "0                     0.430   43        0  Female  \n",
       "1                     0.148   21        0  Female  \n",
       "2                     0.158   21        0  Female  \n",
       "3                     0.856   34        0  Female  \n",
       "4                     0.210   50        0  Female  "
      ]
     },
     "metadata": {},
     "output_type": "display_data"
    },
    {
     "data": {
      "text/plain": [
       "(778, 10)"
      ]
     },
     "metadata": {},
     "output_type": "display_data"
    }
   ],
   "source": [
    "#Прочитаем датасет\n",
    "\n",
    "diabetes = pd.read_csv('data/diabetes_data.csv')\n",
    "display(diabetes.head())\n",
    "display(diabetes.shape)"
   ]
  },
  {
   "cell_type": "code",
   "execution_count": 87,
   "metadata": {},
   "outputs": [
    {
     "name": "stdout",
     "output_type": "stream",
     "text": [
      "Число дубликатов: 10\n",
      "Результирующее число записей: 768\n",
      "\n",
      "Признак Gender: 100.0% одинаковых значений\n",
      "\n",
      "Оставшееся количество признаков: 9\n",
      "Результирующая доля пропущенных значений: 0.49\n"
     ]
    },
    {
     "data": {
      "text/plain": [
       "'Столбцы с пропусками:'"
      ]
     },
     "metadata": {},
     "output_type": "display_data"
    },
    {
     "data": {
      "text/plain": [
       "Insulin          48.697917\n",
       "SkinThickness    29.557292\n",
       "BloodPressure     4.557292\n",
       "BMI               1.432292\n",
       "Glucose           0.651042\n",
       "dtype: float64"
      ]
     },
     "metadata": {},
     "output_type": "display_data"
    },
    {
     "name": "stdout",
     "output_type": "stream",
     "text": [
      "Осталось столбцов: 8\n",
      "Осталось строк: 761\n",
      "Среднее значение SkinThickness: 29.1\n",
      "\n",
      "Всего значений признака: 761\n",
      "Число выбросов по методу Тьюки: 87\n",
      "Число значений после применения метода Тьюки: 674\n"
     ]
    },
    {
     "data": {
      "image/png": "[encoded data removed]",
      "text/plain": [
       "<Figure size 2000x400 with 2 Axes>"
      ]
     },
     "metadata": {},
     "output_type": "display_data"
    }
   ],
   "source": [
    "#Задание 8.1\n",
    "#Поиск дубликатов\n",
    "\n",
    "#Сделаю копию данных\n",
    "diabetes_copy = diabetes.copy()\n",
    "dupl_columns = list(diabetes.columns)\n",
    "mask = diabetes.duplicated(subset=dupl_columns)\n",
    "diabetes_duplicates = diabetes[mask]\n",
    "print(f'Число дубликатов: {diabetes_duplicates.shape[0]}')\n",
    "\n",
    "#Удаляем найденные дубликаты\n",
    "diabetes_copy = diabetes.drop_duplicates(subset=dupl_columns)\n",
    "print(f'Результирующее число записей: {diabetes_copy.shape[0]}')\n",
    "\n",
    "#Задание 8.2\n",
    "#Ищем дубликаты\n",
    "print('')\n",
    "low_information_cols = []\n",
    "\n",
    "for col in diabetes_copy.columns:\n",
    "    top_freq = diabetes_copy[col].value_counts(normalize=True).max()\n",
    "    nunique_ratio = diabetes_copy[col].nunique() / diabetes_copy[col].count()\n",
    "    if top_freq > 0.95:\n",
    "        low_information_cols.append(col)\n",
    "        print(f'Признак {col}: {round(100*top_freq, 2)}% одинаковых значений')\n",
    "    if nunique_ratio > 0.95:\n",
    "        low_information_cols.append(col)\n",
    "        print(f'Признак {col}: {round(100*nunique_ratio, 2)}% уникальных значений')\n",
    "\n",
    "#Удаляем неиформативные признаки\n",
    "diabetes_copy = diabetes_copy.drop(low_information_cols, axis=1)\n",
    "print('')\n",
    "print('Оставшееся количество признаков:', diabetes_copy.shape[1])\n",
    "\n",
    "#Задание 8.3: заменяем нули на NaN-значения\n",
    "#Создадим список и копию датасета из столбов для фильтрации:\n",
    "list_zero_to_nans = ['Glucose', 'BloodPressure', 'SkinThickness', 'Insulin', 'BMI']\n",
    "def zero_to_nan(x):\n",
    "    return np.nan if x==0 else x\n",
    "for col in diabetes_copy.columns:\n",
    "    if col in list_zero_to_nans:\n",
    "        diabetes_copy[col] = diabetes_copy[col].apply(zero_to_nan)\n",
    "print('Результирующая доля пропущенных значений:', \\\n",
    "    round(diabetes_copy['Insulin'].isnull().mean(), 2)) #0.49\n",
    "\n",
    "#Задание 8.4\n",
    "cols_null_percent = diabetes_copy.isnull().mean() * 100\n",
    "cols_with_null = cols_null_percent[cols_null_percent>0].sort_values(ascending=False)\n",
    "display('Столбцы с пропусками:', cols_with_null)\n",
    "thresh = diabetes_copy.shape[0] * 0.7\n",
    "diabetes_copy = diabetes_copy.dropna(thresh=thresh, axis=1)\n",
    "print('Осталось столбцов:', diabetes_copy.shape[1]) #8\n",
    "\n",
    "#Задание 8.5\n",
    "diabetes_copy = diabetes_copy.dropna\\\n",
    "    (thresh=diabetes_copy.shape[1]-2, axis=0)\n",
    "print('Осталось строк:', diabetes_copy.shape[0]) #761\n",
    "\n",
    "#Задание 8.6\n",
    "#Создаём словарь значений\n",
    "values = {\n",
    "    'BMI': diabetes_copy['BMI'].median(),\n",
    "    'SkinThickness': diabetes_copy['SkinThickness'].median(),\n",
    "    'BloodPressure': diabetes_copy['BloodPressure'].median(),\n",
    "    'Glucose': diabetes_copy['Glucose'].median()\n",
    "}\n",
    "#Заполняем записи константами из словаря values\n",
    "diabetes_copy = diabetes_copy.fillna(values)\n",
    "print('Среднее значение SkinThickness:', \\\n",
    "    round(diabetes_copy['SkinThickness'].mean(), 1))\n",
    "\n",
    "#Задание 8.7\n",
    "print('')\n",
    "def outliers_iqr_mod(data, feature, log_scale=False, left=1.5, right=1.5):\n",
    "    if log_scale:\n",
    "        x = np.log(data[feature])\n",
    "    else:\n",
    "        x = data[feature]\n",
    "    quartile_1, quartile_3 = x.quantile(0.25), x.quantile(0.75)\n",
    "    iqr = quartile_3 - quartile_1\n",
    "    lower_bound = quartile_1 - (iqr * left)\n",
    "    upper_bound = quartile_3 + (iqr * right)\n",
    "    outliners = data[(x < lower_bound)|(x > upper_bound)]\n",
    "    cleaned = data[(x >= lower_bound)&(x <= upper_bound)]\n",
    "    return outliners, cleaned\n",
    "\n",
    "outliners, cleaned = outliers_iqr_mod(diabetes_copy, 'SkinThickness')\n",
    "print('Всего значений признака:', diabetes_copy['SkinThickness'].shape[0])\n",
    "print(f'Число выбросов по методу Тьюки: {outliners.shape[0]}')\n",
    "print(f'Число значений после применения метода Тьюки: {cleaned.shape[0]}')\n",
    "\n",
    "fig, axes = plt.subplots(nrows=1, ncols=2, figsize=(20,4))\n",
    "histplot = sns.histplot(data=cleaned, x='SkinThickness', ax=axes[0]);\n",
    "histplot.set_title('Cleaned Skin Thickness Distribution');\n",
    "boxplot = sns.boxplot(data=cleaned, x='SkinThickness', ax=axes[1]);\n",
    "boxplot.set_title('Cleaned Skin Thickness Boxplot');\n",
    "#87"
   ]
  },
  {
   "cell_type": "code",
   "execution_count": 80,
   "metadata": {},
   "outputs": [
    {
     "name": "stdout",
     "output_type": "stream",
     "text": [
      "Число выбросов по методу z-отклонения: 4\n",
      "Число оставшихся строк: 761\n"
     ]
    },
    {
     "data": {
      "image/png": "[encoded data removed]",
      "text/plain": [
       "<Figure size 2000x400 with 1 Axes>"
      ]
     },
     "metadata": {},
     "output_type": "display_data"
    }
   ],
   "source": [
    "#Задание 8.8\n",
    "def outliers_z_score_mod(data, feature, log_scale=False,\n",
    "                         left=3, right=3):\n",
    "    if log_scale:\n",
    "        x = np.log(data[feature]+1)\n",
    "    else:\n",
    "        x = data[feature]\n",
    "    mu = x.mean()\n",
    "    sigma = x.std()\n",
    "    lower_bound = mu - left*sigma\n",
    "    upper_bound = mu + right*sigma\n",
    "    outliers = data[(x<lower_bound) | (x>upper_bound)]\n",
    "    cleaned = data[(x>lower_bound) & (x<upper_bound)]\n",
    "    return outliers, cleaned\n",
    "\n",
    "outliers, cleaned = outliers_z_score_mod(diabetes_copy, ['SkinThickness'])\n",
    "print('Число выбросов по методу z-отклонения:', np.sum(outliers.count()))\n",
    "print('Число оставшихся строк:', cleaned.shape[0])\n",
    "\n",
    "fig, ax = plt.subplots(1, 1, figsize=(20,4))\n",
    "histplot = sns.histplot(diabetes_copy['SkinThickness'], bins=50, ax=ax)\n",
    "histplot.axvline(diabetes_copy['SkinThickness'].mean(), color='k', lw=2)\n",
    "histplot.axvline(diabetes_copy['SkinThickness'].mean()+ 3 * diabetes_copy['SkinThickness'].std(), color='k', lw=2, ls='--')\n",
    "histplot.axvline(diabetes_copy['SkinThickness'].mean()- 3 * diabetes_copy['SkinThickness'].std(), color='k', lw=2, ls='--')\n",
    "histplot.set_title('Гистограмма столбца \"SkinThickness\" в логарифмическом виде');\n",
    "#4"
   ]
  },
  {
   "cell_type": "code",
   "execution_count": 88,
   "metadata": {},
   "outputs": [
    {
     "name": "stdout",
     "output_type": "stream",
     "text": [
      "Всего значений признака: 761\n",
      "Число выбросов по методу Тьюки: 29\n",
      "Число значений после применения метода Тьюки: 732\n",
      "\n",
      "Всего значений признака: 761\n",
      "Число выбросов по методу Тьюки: 0\n",
      "Число значений после применения метода Тьюки: 761\n",
      "Разница между нелогарифмированным столбцом и логарифмированным: 29\n"
     ]
    }
   ],
   "source": [
    "outliers_pedigree, cleaned_pedigree = outliers_iqr_mod(diabetes_copy, 'DiabetesPedigreeFunction')\n",
    "print('Всего значений признака:', diabetes_copy['SkinThickness'].shape[0])\n",
    "print(f'Число выбросов по методу Тьюки: {outliers_pedigree.shape[0]}')\n",
    "print(f'Число значений после применения метода Тьюки: {cleaned_pedigree.shape[0]}')\n",
    "print('')\n",
    "outliers_pedigree_log, cleaned_pedigree_log = outliers_iqr_mod(diabetes_copy, 'DiabetesPedigreeFunction', log_scale=True)\n",
    "print('Всего значений признака:', diabetes_copy['DiabetesPedigreeFunction'].shape[0])\n",
    "print(f'Число выбросов по методу Тьюки: {outliers_pedigree_log.shape[0]}')\n",
    "print(f'Число значений после применения метода Тьюки: {cleaned_pedigree_log.shape[0]}')\n",
    "\n",
    "print(f'Разница между нелогарифмированным столбцом и логарифмированным: \\\n",
    "{outliers_pedigree.shape[0]-outliers_pedigree_log.shape[0]}')"
   ]
  }
 ],
 "metadata": {
  "kernelspec": {
   "display_name": "Python 3",
   "language": "python",
   "name": "python3"
  },
  "language_info": {
   "codemirror_mode": {
    "name": "ipython",
    "version": 3
   },
   "file_extension": ".py",
   "mimetype": "text/x-python",
   "name": "python",
   "nbconvert_exporter": "python",
   "pygments_lexer": "ipython3",
   "version": "3.11.1"
  }
 },
 "nbformat": 4,
 "nbformat_minor": 2
}
