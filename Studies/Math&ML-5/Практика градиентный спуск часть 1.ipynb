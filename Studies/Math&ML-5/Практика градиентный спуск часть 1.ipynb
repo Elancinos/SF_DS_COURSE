{
 "cells": [
  {
   "cell_type": "code",
   "execution_count": 1,
   "metadata": {},
   "outputs": [],
   "source": [
    "def f(x, y):\n",
    "    return (1 - x) ** 2 + 100 * (y - x ** 2) ** 2\n",
    "def grad(x, y):\n",
    "    dx = 2 * x - 2 + 100 * (-4 * y * x + 4 * x ** 3)\n",
    "    dy = 100 * (2 * y - 2 * x ** 2)\n",
    "    return (dx, dy)"
   ]
  },
  {
   "cell_type": "code",
   "execution_count": 2,
   "metadata": {},
   "outputs": [
    {
     "name": "stdout",
     "output_type": "stream",
     "text": [
      "iter=1; x=(0.2000, 0.0000); f(x)=0.8000; grad f(x)=(1.6000, -8.0000)\n",
      "iter=2; x=(0.0400, 0.8000); f(x)=64.6659; grad f(x)=(-14.6944, 159.6800)\n",
      "iter=3; x=(1.5094, -15.1680); f(x)=30437.9786; grad f(x)=(10534.7420, -3489.2818)\n",
      "iter=4; x=(-1051.9648, 333.7602); f(x)=122389105819928.5312; grad f(x)=(-465513803530.6677, -221259218.7559)\n",
      "iter=5; x=(46551379301.1020, 22126255.6358); f(x)=469602298585082037579506354357288181763670016.0000; grad f(x)=(40351311229480141163259604374650880.0000, -433406182967009431519232.0000)\n",
      "iter=6; x=(-4035131122948014116325960437465088.0000, 43340618296700973350912.0000); f(x)=26511274553364140006344123691967438129060889357112486001204804225071624796417092309647960873271021194936228396991403743969439598031929344.0000; grad f(x)=(-26280459043913645498310141413360072579958822042946770910225581029210063949577271439317948874065283383296.0000, -3256456635876740259836304948942575389624312223259101324309298570854400.0000)\n"
     ]
    },
    {
     "ename": "OverflowError",
     "evalue": "(34, 'Result too large')",
     "output_type": "error",
     "traceback": [
      "\u001b[1;31m---------------------------------------------------------------------------\u001b[0m",
      "\u001b[1;31mOverflowError\u001b[0m                             Traceback (most recent call last)",
      "Cell \u001b[1;32mIn[2], line 14\u001b[0m\n\u001b[0;32m     12\u001b[0m     \u001b[38;5;28;01mbreak\u001b[39;00m\n\u001b[0;32m     13\u001b[0m x_cur \u001b[38;5;241m=\u001b[39m x_new\n\u001b[1;32m---> 14\u001b[0m vals\u001b[38;5;241m.\u001b[39mappend(\u001b[43mf\u001b[49m\u001b[43m(\u001b[49m\u001b[38;5;241;43m*\u001b[39;49m\u001b[43mx_cur\u001b[49m\u001b[43m)\u001b[49m)\n\u001b[0;32m     15\u001b[0m coords\u001b[38;5;241m.\u001b[39mappend(x_cur)\n\u001b[0;32m     16\u001b[0m i \u001b[38;5;241m+\u001b[39m\u001b[38;5;241m=\u001b[39m \u001b[38;5;241m1\u001b[39m\n",
      "Cell \u001b[1;32mIn[1], line 2\u001b[0m, in \u001b[0;36mf\u001b[1;34m(x, y)\u001b[0m\n\u001b[0;32m      1\u001b[0m \u001b[38;5;28;01mdef\u001b[39;00m \u001b[38;5;21mf\u001b[39m(x, y):\n\u001b[1;32m----> 2\u001b[0m     \u001b[38;5;28;01mreturn\u001b[39;00m (\u001b[38;5;241m1\u001b[39m \u001b[38;5;241m-\u001b[39m x) \u001b[38;5;241m*\u001b[39m\u001b[38;5;241m*\u001b[39m \u001b[38;5;241m2\u001b[39m \u001b[38;5;241m+\u001b[39m \u001b[38;5;241m100\u001b[39m \u001b[38;5;241m*\u001b[39m \u001b[43m(\u001b[49m\u001b[43my\u001b[49m\u001b[43m \u001b[49m\u001b[38;5;241;43m-\u001b[39;49m\u001b[43m \u001b[49m\u001b[43mx\u001b[49m\u001b[43m \u001b[49m\u001b[38;5;241;43m*\u001b[39;49m\u001b[38;5;241;43m*\u001b[39;49m\u001b[43m \u001b[49m\u001b[38;5;241;43m2\u001b[39;49m\u001b[43m)\u001b[49m\u001b[43m \u001b[49m\u001b[38;5;241;43m*\u001b[39;49m\u001b[38;5;241;43m*\u001b[39;49m\u001b[43m \u001b[49m\u001b[38;5;241;43m2\u001b[39;49m\n",
      "\u001b[1;31mOverflowError\u001b[0m: (34, 'Result too large')"
     ]
    }
   ],
   "source": [
    "x0 = (0, 0)\n",
    "gamma = 0.1\n",
    "x_cur = x0\n",
    "\n",
    "vals = []\n",
    "coords = []\n",
    "i = 0\n",
    "while True:\n",
    "    x_new = (x_cur[0] - gamma * grad(*x_cur)[0],\n",
    "            x_cur[1] - gamma * grad(*x_cur)[1])\n",
    "    if i > 50000:\n",
    "        break\n",
    "    x_cur = x_new\n",
    "    vals.append(f(*x_cur))\n",
    "    coords.append(x_cur)\n",
    "    i += 1\n",
    "    print(f\"iter={i}; x=({x_cur[0]:.4f}, {x_cur[1]:.4f});\"\n",
    "          f\" f(x)={f(*x_cur):.4f}; grad f(x)=({grad(*x_cur)[0]:.4f}, {grad(*x_cur)[1]:.4f})\")"
   ]
  },
  {
   "cell_type": "code",
   "execution_count": 3,
   "metadata": {},
   "outputs": [],
   "source": [
    "from scipy import optimize"
   ]
  },
  {
   "cell_type": "code",
   "execution_count": 4,
   "metadata": {},
   "outputs": [
    {
     "data": {
      "text/plain": [
       "  message: Optimization terminated successfully.\n",
       "  success: True\n",
       "   status: 0\n",
       "      fun: 2.8439081505337648e-11\n",
       "        x: [ 1.000e+00  1.000e+00]\n",
       "      nit: 19\n",
       "      jac: [ 3.987e-06 -2.844e-06]\n",
       " hess_inv: [[ 4.948e-01  9.896e-01]\n",
       "            [ 9.896e-01  1.984e+00]]\n",
       "     nfev: 72\n",
       "     njev: 24"
      ]
     },
     "execution_count": 4,
     "metadata": {},
     "output_type": "execute_result"
    }
   ],
   "source": [
    "optimize.minimize(lambda x: f(*x), x0=(0, 0)) "
   ]
  },
  {
   "cell_type": "code",
   "execution_count": null,
   "metadata": {},
   "outputs": [],
   "source": []
  }
 ],
 "metadata": {
  "kernelspec": {
   "display_name": "Python 3",
   "language": "python",
   "name": "python3"
  },
  "language_info": {
   "codemirror_mode": {
    "name": "ipython",
    "version": 3
   },
   "file_extension": ".py",
   "mimetype": "text/x-python",
   "name": "python",
   "nbconvert_exporter": "python",
   "pygments_lexer": "ipython3",
   "version": "3.12.3"
  }
 },
 "nbformat": 4,
 "nbformat_minor": 2
}
