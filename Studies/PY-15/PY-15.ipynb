{
 "cells": [
  {
   "cell_type": "markdown",
   "metadata": {},
   "source": [
    "# PYTHON-15. Принципы ООП в Python и отладка кода"
   ]
  },
  {
   "cell_type": "code",
   "execution_count": 4,
   "metadata": {},
   "outputs": [
    {
     "name": "stdout",
     "output_type": "stream",
     "text": [
      "Order price for max@gmail.com is 100\n",
      "Order price for lova@yandex.ru is 180.0\n",
      "Order price for german@sberbank.ru is 500\n",
      "Order price for german@sberbank.ru is 450.0\n"
     ]
    }
   ],
   "source": [
    "class Client():\n",
    "    #Базовые данные\n",
    "    def __init__(self, email, order_num, registration_year):\n",
    "        self.email = email\n",
    "        self.order_num = order_num\n",
    "        self.registration_year = registration_year\n",
    "        self.discount = 0\n",
    "        \n",
    "    def make_order(self, price):\n",
    "        self.update_discount()\n",
    "        self.order_num += 1\n",
    "        # здесь должно быть оформление заказа, но мы просто выведем цену\n",
    "        discounted_price = price * (1-self.discount)\n",
    "        print(f'Order price for {self.email} is {discounted_price}')\n",
    "        \n",
    "    def update_discount(self):\n",
    "        if self.registration_year < 2018 and self.order_num >= 5:\n",
    "            self.discount = 0.1\n",
    "            \n",
    "client_db = [   \n",
    "    Client(\"max@gmail.com\", 2, 2019),  \n",
    "    Client(\"lova@yandex.ru\", 10, 2015),  \n",
    "    Client(\"german@sberbank.ru\", 4, 2017)  \n",
    "]  \n",
    "  \n",
    "  \n",
    "# Сгенерируем заказы  \n",
    "client_db[0].make_order(100)  \n",
    "client_db[1].make_order(200)\n",
    "client_db[2].make_order(500)  \n",
    "client_db[2].make_order(500)"
   ]
  },
  {
   "cell_type": "code",
   "execution_count": 5,
   "metadata": {},
   "outputs": [
    {
     "name": "stdout",
     "output_type": "stream",
     "text": [
      "[1.0, 17.0, 4.0, 0.0, 8.0]\n",
      "6.892024376045111\n",
      "4.0\n"
     ]
    }
   ],
   "source": [
    "import statistics\n",
    "\n",
    "class DataFrame():  \n",
    "    def __init__(self, column, fill_value=0):  \n",
    "        # Инициализируем атрибуты  \n",
    "        self.column = column  \n",
    "        self.fill_value = fill_value  \n",
    "        # Заполним пропуски  \n",
    "        self.fill_missed()  \n",
    "        # Конвертируем все элементы в числа  \n",
    "        self.to_float()  \n",
    "          \n",
    "    def fill_missed(self):  \n",
    "        for i, value in enumerate(self.column):  \n",
    "            if value is None or value == '':  \n",
    "                self.column[i] = self.fill_value  \n",
    "                  \n",
    "    def to_float(self):  \n",
    "        self.column = [float(value) for value in self.column]  \n",
    "      \n",
    "    def median(self):  \n",
    "        return statistics.median(self.column)  \n",
    "      \n",
    "    def mean(self):  \n",
    "        return statistics.mean(self.column)  \n",
    "      \n",
    "    def deviation(self):  \n",
    "        return statistics.stdev(self.column)\n",
    "    \n",
    "\n",
    "df = DataFrame([\"1\", 17, 4, None, 8])  \n",
    "  \n",
    "print(df.column)  \n",
    "# => [1.0, 17.0, 4.0, 0.0, 8.0]  \n",
    "print(df.deviation())  \n",
    "# => 6.89  \n",
    "print(df.median())  \n",
    "# => 4.0"
   ]
  },
  {
   "cell_type": "code",
   "execution_count": 6,
   "metadata": {},
   "outputs": [
    {
     "name": "stdout",
     "output_type": "stream",
     "text": [
      "{'perfomance': [10, 20, 10], 'clients': {'Romashka': 10, 'Vector': 34}}\n"
     ]
    }
   ],
   "source": [
    "import pickle\n",
    "\n",
    "from datetime import datetime\n",
    "import os\n",
    "\n",
    "class Dumper():\n",
    "    def __init__(self, archive_dir='archive/'):\n",
    "        self.archive_dir = archive_dir\n",
    "        \n",
    "    def dump(self, data):\n",
    "        with open(self.get_file_name(), 'wb') as file:\n",
    "            pickle.dump(data, file)\n",
    "            \n",
    "    def load_for_day(self, day):\n",
    "        file_name = os.path.join(self.archive_dir, day + '.pkl')\n",
    "        with open(file_name, 'rb') as file:\n",
    "            sets = pickle.load(file)\n",
    "        return sets\n",
    "    \n",
    "    def get_file_name(self):\n",
    "        today = datetime.now().strftime(\"%y-%m-%d\")\n",
    "        return os.path.join(self.archive_dir, today+'.pkl')\n",
    "\n",
    "data = {  \n",
    "    'perfomance': [10, 20, 10],  \n",
    "    'clients': {\"Romashka\": 10, \"Vector\": 34}  \n",
    "}\n",
    "\n",
    "dumper = Dumper()  \n",
    "  \n",
    "# Сохраним данные  \n",
    "dumper.dump(data)  \n",
    "  \n",
    "# Восстановим для сегодняшней даты  \n",
    "file_name = datetime.now().strftime(\"%y-%m-%d\")\n",
    "restored_data = dumper.load_for_day(file_name)\n",
    "print(restored_data)  \n",
    "# => {'perfomance': [10, 20, 10], 'clients': {'Romashka': 10, 'Vector': 34}}"
   ]
  },
  {
   "cell_type": "markdown",
   "metadata": {},
   "source": [
    "## 7. Применение ООП для работы с файлами"
   ]
  },
  {
   "cell_type": "code",
   "execution_count": 7,
   "metadata": {},
   "outputs": [
    {
     "name": "stdout",
     "output_type": "stream",
     "text": [
      "d:\\IDE\\SF_DS_COURSE\\Studies\\PY-15\n"
     ]
    }
   ],
   "source": [
    "#Получаем текущий путь\n",
    "start_path = os.getcwd()\n",
    "print(start_path)"
   ]
  },
  {
   "cell_type": "code",
   "execution_count": 18,
   "metadata": {},
   "outputs": [
    {
     "name": "stdout",
     "output_type": "stream",
     "text": [
      "d:\\IDE\\SF_DS_COURSE\\Studies\n",
      "d:\\IDE\\SF_DS_COURSE\\Studies\\PY-15\n",
      "['archive', 'helpers', 'PY-15.ipynb']\n",
      "Файл \"tmp.py\" отсутствует в этой директории\n"
     ]
    }
   ],
   "source": [
    "#Поднимаемся на уровень выше и потом обратно\n",
    "os.chdir('..')\n",
    "print(os.getcwd())\n",
    "os.chdir(start_path)\n",
    "print(os.getcwd())\n",
    "#Получаем список файлов и директорий в папке\n",
    "print(os.listdir())\n",
    "file = 'tmp.py'\n",
    "if file  not in os.listdir():\n",
    "    print(f'Файл \"{file}\" отсутствует в этой директории')"
   ]
  },
  {
   "cell_type": "code",
   "execution_count": 19,
   "metadata": {},
   "outputs": [
    {
     "name": "stdout",
     "output_type": "stream",
     "text": [
      "d:\\IDE\\SF_DS_COURSE\\Studies\\PY-15\n",
      "d:\\IDE\\SF_DS_COURSE\\Studies\\PY-15\\test\n"
     ]
    }
   ],
   "source": [
    "#Соединяет пути с учётом особенностей операционной системы\n",
    "print(start_path)\n",
    "print(os.path.join(start_path, 'test'))"
   ]
  },
  {
   "cell_type": "code",
   "execution_count": 25,
   "metadata": {},
   "outputs": [
    {
     "name": "stdout",
     "output_type": "stream",
     "text": [
      "Введеная директория:  D:\\SteamLibrary\n",
      "Список файлов в директории:  ['libraryfolder.vdf', 'steam.dll', 'steamapps']\n"
     ]
    }
   ],
   "source": [
    "#Задание 7.3 (на самопроверку)\n",
    "#Мой вариант\n",
    "\n",
    "def folder_info(default_path=os.getcwd()):\n",
    "    user_path = input('Введите полный путь: ')\n",
    "    if user_path != '':\n",
    "        os.walk(user_path)\n",
    "        print('Введеная директория: ', user_path)\n",
    "        print('Список файлов в директории: ', os.listdir(user_path))\n",
    "    else:\n",
    "        print('Значение не введено. Выводим путь к текущей директории и список файлов в ней.')\n",
    "        print('Текущая директория: ', default_path)\n",
    "        print('Список файлов в директории: ', os.listdir(default_path))\n",
    "        \n",
    "folder_info()\n",
    "\n",
    "#Эталон\n",
    "\n",
    "def walk_desc(path=None):\n",
    "    start_path = path if path is not None else os.getcwd()\n",
    "\n",
    "    for root, dirs, files in os.walk(start_path):\n",
    "        print(\"Текущая директория\", root)\n",
    "        print(\"---\")\n",
    "\n",
    "        if dirs:\n",
    "            print(\"Список папок\", dirs)\n",
    "        else:\n",
    "            print(\"Папок нет\")\n",
    "        print(\"---\")\n",
    "\n",
    "        if files:\n",
    "            print(\"Список файлов\", files)\n",
    "        else:\n",
    "            print(\"Файлов нет\")\n",
    "        print(\"---\")\n",
    "\n",
    "        if files and dirs:\n",
    "            print(\"Все пути:\")\n",
    "        for f in files:\n",
    "            print(\"Файл \", os.path.join(root, f))\n",
    "        for d in dirs:\n",
    "            print(\"Папка \", os.path.join(root, d))\n",
    "        print(\"===\")"
   ]
  },
  {
   "cell_type": "code",
   "execution_count": 35,
   "metadata": {},
   "outputs": [
    {
     "name": "stdout",
     "output_type": "stream",
     "text": [
      "d:\\IDE\\SF_DS_COURSE\\Studies\\PY-15\n",
      "This is a \n",
      "test string\n",
      "This is a new string\n",
      "\n",
      "This is a test string\n",
      "\n",
      "This\n",
      " is a new string\n",
      "\n"
     ]
    }
   ],
   "source": [
    "#Выведем директорию для справки\n",
    "print(os.getcwd())\n",
    "\n",
    "f = open('test.txt', 'w', encoding='utf8')\n",
    "\n",
    "# Запишем в файл строку\n",
    "f.write(\"This is a test string\\n\")\n",
    "f.write(\"This is a new string\\n\")\n",
    "f.close()\n",
    "\n",
    "f = open('test.txt', 'r', encoding='utf8')\n",
    "#Прочитаем первые 10 символов\n",
    "print(f.read(10))\n",
    "#И до конца\n",
    "print(f.read())\n",
    "f.close()\n",
    "\n",
    "f = open('test.txt', 'r', encoding='utf8')\n",
    "\n",
    "print(f.readline())\n",
    "print(f.read(4))\n",
    "print(f.readline())\n",
    "f.close()"
   ]
  },
  {
   "cell_type": "code",
   "execution_count": 73,
   "metadata": {},
   "outputs": [
    {
     "name": "stdout",
     "output_type": "stream",
     "text": [
      "122121\n",
      "СЃРѕСЂРѕРє РїСЏС‚СЊ\n",
      "С‡РµС‚С‹СЂРµ\n",
      "РѕРІС†Р°\n",
      "Kek\n",
      "\n",
      "Summ of min and max in numbers file: 75.0\n",
      "\n",
      "Студентов с оценкой меньше 3: 4\n",
      "\n",
      "KekРѕРІС†Р°\n",
      "С‡РµС‚С‹СЂРµ\n",
      "СЃРѕСЂРѕРє РїСЏС‚СЊ\n",
      "122121\n",
      "\n"
     ]
    }
   ],
   "source": [
    "#Задания на самопроверку 7.4-7.7\n",
    "#7.4\n",
    "\n",
    "with open(\"input.txt\", \"r\") as input_file:\n",
    "    with open(\"output.txt\", \"w\") as output_file:\n",
    "        for line in input_file:\n",
    "            output_file.write(line)\n",
    "with open(\"output.txt\", 'r') as output_file:\n",
    "    print(output_file.read())\n",
    "print('')\n",
    "\n",
    "#7.5\n",
    "with open('numbers.txt') as numbers:\n",
    "    with open('output.txt', 'w') as output_file:\n",
    "        _min = _max = float(numbers.readline())\n",
    "        for number in numbers:\n",
    "            number = float(number)\n",
    "            if number > _max:\n",
    "                _max = number\n",
    "            if number < _min:\n",
    "                _min = number\n",
    "        output_file.write(f'Summ of min and max in numbers file: {str(_max+_min)}')\n",
    "\n",
    "with open(\"output.txt\", 'r') as output_file:\n",
    "    print(output_file.read())\n",
    "print('')\n",
    "\n",
    "#7.6\n",
    "\n",
    "stupid_students = 0\n",
    "for student in open('students.txt', 'r', encoding='utf8'):\n",
    "    mark = int(student.split()[-1])\n",
    "    if mark < 3:\n",
    "        stupid_students += 1\n",
    "print(f'Студентов с оценкой меньше 3:', stupid_students)\n",
    "print('')\n",
    "\n",
    "#7.7\n",
    "with open(\"input.txt\", \"r\") as input_file:\n",
    "    with open(\"output.txt\", \"w\") as output_file:\n",
    "        for line in reversed(input_file.readlines()):\n",
    "            output_file.write(line)\n",
    "\n",
    "with open('output.txt') as output_file:\n",
    "    print(output_file.read())"
   ]
  },
  {
   "cell_type": "code",
   "execution_count": 67,
   "metadata": {},
   "outputs": [
    {
     "name": "stdout",
     "output_type": "stream",
     "text": [
      "75.0\n",
      "\n",
      "4\n"
     ]
    }
   ],
   "source": [
    "#Эталон 7.5\n",
    "filename = 'numbers.txt'\n",
    "output = 'output.txt'\n",
    "\n",
    "with open(filename) as f:\n",
    "    min_ = max_ = float(f.readline())  # считали первое число\n",
    "    for line in f:\n",
    "        num =  float(line)\n",
    "        if num > max_:\n",
    "            max_ = num\n",
    "        elif num < min_:\n",
    "            min_ = num\n",
    "\n",
    "    sum_ = min_ + max_\n",
    "\n",
    "with open(output, 'w') as f:\n",
    "    f.write(str(sum_))\n",
    "    f.write('\\n')\n",
    "\n",
    "with open(output, 'r') as f:\n",
    "    print(f.read())\n",
    "    \n",
    "#Эталон 7.6\n",
    "count = 0\n",
    "for line in open(\"students.txt\", 'r', encoding='utf8'):\n",
    "    points = int(line.split()[-1])\n",
    "    if points < 3:\n",
    "        count += 1\n",
    "print(count)"
   ]
  },
  {
   "cell_type": "markdown",
   "metadata": {},
   "source": [
    "## 9. Тонкости обработки исключений. Создание собственных классов исключений"
   ]
  },
  {
   "cell_type": "code",
   "execution_count": 1,
   "metadata": {},
   "outputs": [
    {
     "name": "stdout",
     "output_type": "stream",
     "text": [
      "Hello from arithmetic error\n",
      "message\n",
      "Errors: error\n",
      "message\n"
     ]
    }
   ],
   "source": [
    "try:\n",
    "    raise ZeroDivisionError  # возбуждаем исключение ZeroDivisionError\n",
    "except ArithmeticError:  # ловим его родителя\n",
    "    print(\"Hello from arithmetic error\")\n",
    "    \n",
    "    \n",
    "\n",
    "class MyException(Exception):  # создаём пустой класс исключения \n",
    "    pass\n",
    " \n",
    "try:\n",
    "    raise MyException(\"message\")  # поднимаем наше исключение\n",
    "except MyException as e:  # ловим его\n",
    "    print(e)  # выводим информацию об исключении\n",
    "    \n",
    "    \n",
    "#Важно! Не забываем __init__\n",
    "class ParentException(Exception):\n",
    "    def __init__(self, message, error):  # допишем к нашему пустому классу конструктор, который будет печатать дополнительно в консоль информацию об ошибке.\n",
    "        super().__init__(message)  # помним про вызов конструктора родительского класса\n",
    "        print(f\"Errors: {error}\")  # печатаем ошибку\n",
    "\n",
    " \n",
    "class ChildException(ParentException): # создаём пустой класс исключения-потомка, наследуемся от ParentException\n",
    "    def __init__(self, message, error):\n",
    "        super().__init__(message, error)\n",
    " \n",
    " \n",
    "try:\n",
    "    raise ChildException(\"message\", \"error\")  # поднимаем исключение-потомок, передаём дополнительный аргумент\n",
    "except ParentException as e:\n",
    "    print(e)  # выводим информацию об исключении"
   ]
  },
  {
   "cell_type": "code",
   "execution_count": null,
   "metadata": {},
   "outputs": [],
   "source": [
    "#Задание 9.5\n",
    "class NonPositiveDigitException(ValueError):\n",
    "    pass\n",
    "\n",
    "class Square(Exception):\n",
    "    def _init__(self, a):\n",
    "        if a <= 0:\n",
    "            raise NonPositiveDigitException('Неправильно указана сторона фигуры')"
   ]
  }
 ],
 "metadata": {
  "kernelspec": {
   "display_name": "Python 3",
   "language": "python",
   "name": "python3"
  },
  "language_info": {
   "codemirror_mode": {
    "name": "ipython",
    "version": 3
   },
   "file_extension": ".py",
   "mimetype": "text/x-python",
   "name": "python",
   "nbconvert_exporter": "python",
   "pygments_lexer": "ipython3",
   "version": "3.11.1"
  }
 },
 "nbformat": 4,
 "nbformat_minor": 2
}
