{
 "cells": [
  {
   "cell_type": "markdown",
   "metadata": {},
   "source": [
    "# <center> ML-7. Оптимизация гиперпараметров модели"
   ]
  },
  {
   "cell_type": "code",
   "execution_count": 3,
   "metadata": {},
   "outputs": [],
   "source": [
    "#Импорты\n",
    "\n",
    "import pandas as pd\n",
    "import numpy as np\n",
    "import matplotlib.pyplot as plt\n",
    "import sklearn.metrics as metrics\n",
    "import sklearn.linear_model as linear_model"
   ]
  },
  {
   "cell_type": "code",
   "execution_count": 4,
   "metadata": {},
   "outputs": [
    {
     "ename": "NameError",
     "evalue": "name 'X_train_scaled_poly' is not defined",
     "output_type": "error",
     "traceback": [
      "\u001b[1;31m---------------------------------------------------------------------------\u001b[0m",
      "\u001b[1;31mNameError\u001b[0m                                 Traceback (most recent call last)",
      "Cell \u001b[1;32mIn[4], line 10\u001b[0m\n\u001b[0;32m      8\u001b[0m ridge_lr_poly \u001b[38;5;241m=\u001b[39m linear_model\u001b[38;5;241m.\u001b[39mRidge(alpha\u001b[38;5;241m=\u001b[39malpha, max_iter\u001b[38;5;241m=\u001b[39m\u001b[38;5;241m10000\u001b[39m)\n\u001b[0;32m      9\u001b[0m \u001b[38;5;66;03m#Обучаем модель предсказывать логарифм целевого признака\u001b[39;00m\n\u001b[1;32m---> 10\u001b[0m ridge_lr_poly\u001b[38;5;241m.\u001b[39mfit(\u001b[43mX_train_scaled_poly\u001b[49m, y_train_log)\n\u001b[0;32m     11\u001b[0m \u001b[38;5;66;03m#Делаем предсказание для каждой из выборок\u001b[39;00m\n\u001b[0;32m     12\u001b[0m \u001b[38;5;66;03m#Если обучили на логарифме, то от результата необходимо взять обратную функцию - экспоненту\u001b[39;00m\n\u001b[0;32m     13\u001b[0m y_train_predict_poly \u001b[38;5;241m=\u001b[39m np\u001b[38;5;241m.\u001b[39mexp(ridge_lr_poly\u001b[38;5;241m.\u001b[39mpredict(X_train_scaled_poly))\n",
      "\u001b[1;31mNameError\u001b[0m: name 'X_train_scaled_poly' is not defined"
     ]
    }
   ],
   "source": []
  }
 ],
 "metadata": {
  "kernelspec": {
   "display_name": "Python 3",
   "language": "python",
   "name": "python3"
  },
  "language_info": {
   "codemirror_mode": {
    "name": "ipython",
    "version": 3
   },
   "file_extension": ".py",
   "mimetype": "text/x-python",
   "name": "python",
   "nbconvert_exporter": "python",
   "pygments_lexer": "ipython3",
   "version": "3.12.3"
  }
 },
 "nbformat": 4,
 "nbformat_minor": 2
}
