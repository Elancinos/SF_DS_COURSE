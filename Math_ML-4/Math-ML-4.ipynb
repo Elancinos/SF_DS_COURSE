{
 "cells": [
  {
   "cell_type": "markdown",
   "id": "9bc02590",
   "metadata": {},
   "source": [
    "# <center> MATH&ML-4. Математический анализ в контексте задачи оптимизации. Часть I"
   ]
  },
  {
   "cell_type": "markdown",
   "id": "20079c00",
   "metadata": {},
   "source": [
    "### Юнит 2. Множества. Операции над множествами"
   ]
  },
  {
   "cell_type": "code",
   "execution_count": 12,
   "id": "49f2a74e",
   "metadata": {},
   "outputs": [],
   "source": [
    "#Импорты\n",
    "\n"
   ]
  },
  {
   "cell_type": "code",
   "execution_count": 13,
   "id": "5a02a3fc",
   "metadata": {},
   "outputs": [
    {
     "name": "stdout",
     "output_type": "stream",
     "text": [
      "Объединение множеств:\n",
      "{'ID27', 'ID501', 'ID312', 'ID41', 'ID453', 'ID7', 'ID91', 'ID124', 'ID3', 'ID920', 'ID36', 'ID500'}\n",
      "----------------------------------------\n",
      "Пересечение множеств:\n",
      "{'ID27', 'ID41', 'ID36'}\n",
      "----------------------------------------\n",
      "Разность множеств:\n",
      "{'ID312', 'ID453', 'ID3', 'ID920', 'ID500'}\n",
      "{'ID501', 'ID124', 'ID7', 'ID91'}\n",
      "----------------------------------------\n",
      "Симметричная разность:\n",
      "{'ID501', 'ID312', 'ID453', 'ID7', 'ID91', 'ID124', 'ID3', 'ID920', 'ID500'}\n"
     ]
    }
   ],
   "source": [
    "#Пользователи мобильного интернета\n",
    "A = {'ID453', 'ID312', 'ID41', 'ID3', 'ID500', 'ID920', 'ID36', 'ID27'}\n",
    "#Пользователи домашнего интернета\n",
    "B = {'ID41', 'ID36', 'ID27', 'ID124', 'ID7', 'ID501', 'ID91' }\n",
    "\n",
    "#Объединение множеств\n",
    "union_AB = A.union(B)  #A|B то же самое\n",
    "print('Объединение множеств:')\n",
    "print(union_AB)\n",
    "print('-'*40)\n",
    "\n",
    "#Пересечение множеств\n",
    "inter_AB = A.intersection(B)  #A&B то же самое\n",
    "print('Пересечение множеств:')\n",
    "print(inter_AB)\n",
    "print('-'*40)\n",
    "\n",
    "#Разность множеств\n",
    "diff_AB = A.difference(B)  #A-B то же самое\n",
    "print('Разность множеств:')\n",
    "print(diff_AB)\n",
    "diff_BA = B - A\n",
    "print(diff_BA)\n",
    "print('-'*40)\n",
    "\n",
    "#Симметричная разность\n",
    "symm_AB = A.symmetric_difference(B)  #A^B то же самое\n",
    "print('Симметричная разность:')\n",
    "print(symm_AB)"
   ]
  },
  {
   "cell_type": "code",
   "execution_count": 15,
   "id": "09a56d79",
   "metadata": {},
   "outputs": [
    {
     "name": "stdout",
     "output_type": "stream",
     "text": [
      "{1, 3, 7, 9, 10}\n",
      "----------------------------------------\n"
     ]
    },
    {
     "data": {
      "text/latex": [
       "$\\displaystyle \\left\\{x\\; \\middle|\\; x \\in \\left[2, 9\\right] \\wedge x^{2} - 5 x = 0 \\right\\}$"
      ],
      "text/plain": [
       "ConditionSet(x, Eq(x**2 - 5*x, 0), Interval(2, 9))"
      ]
     },
     "execution_count": 15,
     "metadata": {},
     "output_type": "execute_result"
    }
   ],
   "source": [
    "#Пример работы с SimPy\n",
    "from sympy import FiniteSet, Union\n",
    "l1 = [1, 3, 7, 10] \n",
    "l2 = [9, 7, 1] \n",
    "a = FiniteSet(*l1) \n",
    "b = FiniteSet(*l2) \n",
    "print(Union(a, b))\n",
    "\n",
    "print('-'*40)\n",
    "from sympy import ConditionSet, Eq, Symbol, Interval\n",
    "x=Symbol('x')\n",
    "s=ConditionSet(x, Eq(x**2-5*x,0), Interval(2,9))\n",
    "s"
   ]
  },
  {
   "cell_type": "code",
   "execution_count": 21,
   "id": "7cbee1f1",
   "metadata": {},
   "outputs": [
    {
     "name": "stdout",
     "output_type": "stream",
     "text": [
      "3\n",
      "10\n",
      "7\n"
     ]
    }
   ],
   "source": [
    "programming = {'bennet@xyz.com', 'darcy@abc.com', 'margaret@xyz.com', 'pa@hhh.com', 'marimari@xyz.com', 'mallika@yahoo.com', 'abc@xyz.com', '0071235@gmail.ru'}\n",
    "ml = {'marimari@xyz.com', 'darcy@abc.com', '0071235@gmail.ru', 'darcy@abc.com', 'petr44@xyz.com', 'katrin@ya.com'}\n",
    "\n",
    "#Задание 2.6\n",
    "print(len(programming&ml))\n",
    "#Задание 2.7\n",
    "print(len(programming|ml))\n",
    "#Задание 2.8\n",
    "print(len(programming^ml))"
   ]
  }
 ],
 "metadata": {
  "kernelspec": {
   "display_name": "Python 3",
   "language": "python",
   "name": "python3"
  },
  "language_info": {
   "codemirror_mode": {
    "name": "ipython",
    "version": 3
   },
   "file_extension": ".py",
   "mimetype": "text/x-python",
   "name": "python",
   "nbconvert_exporter": "python",
   "pygments_lexer": "ipython3",
   "version": "3.12.3"
  }
 },
 "nbformat": 4,
 "nbformat_minor": 5
}
