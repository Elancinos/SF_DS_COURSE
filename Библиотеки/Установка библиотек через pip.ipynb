{
 "cells": [
  {
   "cell_type": "code",
   "execution_count": 1,
   "metadata": {},
   "outputs": [
    {
     "name": "stdout",
     "output_type": "stream",
     "text": [
      "Requirement already satisfied: numpy in c:\\users\\telis\\appdata\\local\\programs\\python\\python312\\lib\\site-packages (1.26.4)\n"
     ]
    },
    {
     "name": "stderr",
     "output_type": "stream",
     "text": [
      "\n",
      "[notice] A new release of pip is available: 25.0 -> 25.1.1\n",
      "[notice] To update, run: python.exe -m pip install --upgrade pip\n"
     ]
    },
    {
     "name": "stdout",
     "output_type": "stream",
     "text": [
      "Requirement already satisfied: pandas in c:\\users\\telis\\appdata\\local\\programs\\python\\python312\\lib\\site-packages (2.2.2)\n",
      "Requirement already satisfied: numpy>=1.26.0 in c:\\users\\telis\\appdata\\local\\programs\\python\\python312\\lib\\site-packages (from pandas) (1.26.4)\n",
      "Requirement already satisfied: python-dateutil>=2.8.2 in c:\\users\\telis\\appdata\\roaming\\python\\python312\\site-packages (from pandas) (2.9.0.post0)\n",
      "Requirement already satisfied: pytz>=2020.1 in c:\\users\\telis\\appdata\\local\\programs\\python\\python312\\lib\\site-packages (from pandas) (2024.1)\n",
      "Requirement already satisfied: tzdata>=2022.7 in c:\\users\\telis\\appdata\\local\\programs\\python\\python312\\lib\\site-packages (from pandas) (2024.1)\n",
      "Requirement already satisfied: six>=1.5 in c:\\users\\telis\\appdata\\roaming\\python\\python312\\site-packages (from python-dateutil>=2.8.2->pandas) (1.16.0)\n"
     ]
    },
    {
     "name": "stderr",
     "output_type": "stream",
     "text": [
      "\n",
      "[notice] A new release of pip is available: 25.0 -> 25.1.1\n",
      "[notice] To update, run: python.exe -m pip install --upgrade pip\n"
     ]
    },
    {
     "name": "stdout",
     "output_type": "stream",
     "text": [
      "Requirement already satisfied: plotly in c:\\users\\telis\\appdata\\local\\programs\\python\\python312\\lib\\site-packages (5.22.0)\n",
      "Requirement already satisfied: tenacity>=6.2.0 in c:\\users\\telis\\appdata\\local\\programs\\python\\python312\\lib\\site-packages (from plotly) (8.2.3)\n",
      "Requirement already satisfied: packaging in c:\\users\\telis\\appdata\\roaming\\python\\python312\\site-packages (from plotly) (24.0)\n"
     ]
    },
    {
     "name": "stderr",
     "output_type": "stream",
     "text": [
      "\n",
      "[notice] A new release of pip is available: 25.0 -> 25.1.1\n",
      "[notice] To update, run: python.exe -m pip install --upgrade pip\n"
     ]
    },
    {
     "name": "stdout",
     "output_type": "stream",
     "text": [
      "Requirement already satisfied: seaborn in c:\\users\\telis\\appdata\\local\\programs\\python\\python312\\lib\\site-packages (0.13.2)\n",
      "Requirement already satisfied: numpy!=1.24.0,>=1.20 in c:\\users\\telis\\appdata\\local\\programs\\python\\python312\\lib\\site-packages (from seaborn) (1.26.4)\n",
      "Requirement already satisfied: pandas>=1.2 in c:\\users\\telis\\appdata\\local\\programs\\python\\python312\\lib\\site-packages (from seaborn) (2.2.2)\n",
      "Requirement already satisfied: matplotlib!=3.6.1,>=3.4 in c:\\users\\telis\\appdata\\local\\programs\\python\\python312\\lib\\site-packages (from seaborn) (3.8.4)\n",
      "Requirement already satisfied: contourpy>=1.0.1 in c:\\users\\telis\\appdata\\local\\programs\\python\\python312\\lib\\site-packages (from matplotlib!=3.6.1,>=3.4->seaborn) (1.2.1)\n",
      "Requirement already satisfied: cycler>=0.10 in c:\\users\\telis\\appdata\\local\\programs\\python\\python312\\lib\\site-packages (from matplotlib!=3.6.1,>=3.4->seaborn) (0.12.1)\n",
      "Requirement already satisfied: fonttools>=4.22.0 in c:\\users\\telis\\appdata\\local\\programs\\python\\python312\\lib\\site-packages (from matplotlib!=3.6.1,>=3.4->seaborn) (4.51.0)\n",
      "Requirement already satisfied: kiwisolver>=1.3.1 in c:\\users\\telis\\appdata\\local\\programs\\python\\python312\\lib\\site-packages (from matplotlib!=3.6.1,>=3.4->seaborn) (1.4.5)\n",
      "Requirement already satisfied: packaging>=20.0 in c:\\users\\telis\\appdata\\roaming\\python\\python312\\site-packages (from matplotlib!=3.6.1,>=3.4->seaborn) (24.0)\n",
      "Requirement already satisfied: pillow>=8 in c:\\users\\telis\\appdata\\local\\programs\\python\\python312\\lib\\site-packages (from matplotlib!=3.6.1,>=3.4->seaborn) (10.3.0)\n",
      "Requirement already satisfied: pyparsing>=2.3.1 in c:\\users\\telis\\appdata\\local\\programs\\python\\python312\\lib\\site-packages (from matplotlib!=3.6.1,>=3.4->seaborn) (3.1.2)\n",
      "Requirement already satisfied: python-dateutil>=2.7 in c:\\users\\telis\\appdata\\roaming\\python\\python312\\site-packages (from matplotlib!=3.6.1,>=3.4->seaborn) (2.9.0.post0)\n",
      "Requirement already satisfied: pytz>=2020.1 in c:\\users\\telis\\appdata\\local\\programs\\python\\python312\\lib\\site-packages (from pandas>=1.2->seaborn) (2024.1)\n",
      "Requirement already satisfied: tzdata>=2022.7 in c:\\users\\telis\\appdata\\local\\programs\\python\\python312\\lib\\site-packages (from pandas>=1.2->seaborn) (2024.1)\n",
      "Requirement already satisfied: six>=1.5 in c:\\users\\telis\\appdata\\roaming\\python\\python312\\site-packages (from python-dateutil>=2.7->matplotlib!=3.6.1,>=3.4->seaborn) (1.16.0)\n"
     ]
    },
    {
     "name": "stderr",
     "output_type": "stream",
     "text": [
      "\n",
      "[notice] A new release of pip is available: 25.0 -> 25.1.1\n",
      "[notice] To update, run: python.exe -m pip install --upgrade pip\n"
     ]
    },
    {
     "name": "stdout",
     "output_type": "stream",
     "text": [
      "Requirement already satisfied: matplotlib in c:\\users\\telis\\appdata\\local\\programs\\python\\python312\\lib\\site-packages (3.8.4)\n",
      "Requirement already satisfied: contourpy>=1.0.1 in c:\\users\\telis\\appdata\\local\\programs\\python\\python312\\lib\\site-packages (from matplotlib) (1.2.1)\n",
      "Requirement already satisfied: cycler>=0.10 in c:\\users\\telis\\appdata\\local\\programs\\python\\python312\\lib\\site-packages (from matplotlib) (0.12.1)\n",
      "Requirement already satisfied: fonttools>=4.22.0 in c:\\users\\telis\\appdata\\local\\programs\\python\\python312\\lib\\site-packages (from matplotlib) (4.51.0)\n",
      "Requirement already satisfied: kiwisolver>=1.3.1 in c:\\users\\telis\\appdata\\local\\programs\\python\\python312\\lib\\site-packages (from matplotlib) (1.4.5)\n",
      "Requirement already satisfied: numpy>=1.21 in c:\\users\\telis\\appdata\\local\\programs\\python\\python312\\lib\\site-packages (from matplotlib) (1.26.4)\n",
      "Requirement already satisfied: packaging>=20.0 in c:\\users\\telis\\appdata\\roaming\\python\\python312\\site-packages (from matplotlib) (24.0)\n",
      "Requirement already satisfied: pillow>=8 in c:\\users\\telis\\appdata\\local\\programs\\python\\python312\\lib\\site-packages (from matplotlib) (10.3.0)\n",
      "Requirement already satisfied: pyparsing>=2.3.1 in c:\\users\\telis\\appdata\\local\\programs\\python\\python312\\lib\\site-packages (from matplotlib) (3.1.2)\n",
      "Requirement already satisfied: python-dateutil>=2.7 in c:\\users\\telis\\appdata\\roaming\\python\\python312\\site-packages (from matplotlib) (2.9.0.post0)\n",
      "Requirement already satisfied: six>=1.5 in c:\\users\\telis\\appdata\\roaming\\python\\python312\\site-packages (from python-dateutil>=2.7->matplotlib) (1.16.0)\n"
     ]
    },
    {
     "name": "stderr",
     "output_type": "stream",
     "text": [
      "\n",
      "[notice] A new release of pip is available: 25.0 -> 25.1.1\n",
      "[notice] To update, run: python.exe -m pip install --upgrade pip\n"
     ]
    },
    {
     "name": "stdout",
     "output_type": "stream",
     "text": [
      "Requirement already satisfied: beautifulsoup4 in c:\\users\\telis\\appdata\\local\\programs\\python\\python312\\lib\\site-packages (4.12.3)\n",
      "Requirement already satisfied: soupsieve>1.2 in c:\\users\\telis\\appdata\\local\\programs\\python\\python312\\lib\\site-packages (from beautifulsoup4) (2.5)\n"
     ]
    },
    {
     "name": "stderr",
     "output_type": "stream",
     "text": [
      "\n",
      "[notice] A new release of pip is available: 25.0 -> 25.1.1\n",
      "[notice] To update, run: python.exe -m pip install --upgrade pip\n"
     ]
    },
    {
     "name": "stdout",
     "output_type": "stream",
     "text": [
      "Requirement already satisfied: requests in c:\\users\\telis\\appdata\\local\\programs\\python\\python312\\lib\\site-packages (2.31.0)\n",
      "Requirement already satisfied: charset-normalizer<4,>=2 in c:\\users\\telis\\appdata\\local\\programs\\python\\python312\\lib\\site-packages (from requests) (3.3.2)\n",
      "Requirement already satisfied: idna<4,>=2.5 in c:\\users\\telis\\appdata\\local\\programs\\python\\python312\\lib\\site-packages (from requests) (3.7)\n",
      "Requirement already satisfied: urllib3<3,>=1.21.1 in c:\\users\\telis\\appdata\\local\\programs\\python\\python312\\lib\\site-packages (from requests) (2.2.1)\n",
      "Requirement already satisfied: certifi>=2017.4.17 in c:\\users\\telis\\appdata\\local\\programs\\python\\python312\\lib\\site-packages (from requests) (2024.2.2)\n"
     ]
    },
    {
     "name": "stderr",
     "output_type": "stream",
     "text": [
      "\n",
      "[notice] A new release of pip is available: 25.0 -> 25.1.1\n",
      "[notice] To update, run: python.exe -m pip install --upgrade pip\n",
      "ERROR: Could not find a version that satisfies the requirement json (from versions: none)\n",
      "\n",
      "[notice] A new release of pip is available: 25.0 -> 25.1.1\n",
      "[notice] To update, run: python.exe -m pip install --upgrade pip\n",
      "ERROR: No matching distribution found for json\n"
     ]
    },
    {
     "name": "stdout",
     "output_type": "stream",
     "text": [
      "Requirement already satisfied: chardet in c:\\users\\telis\\appdata\\local\\programs\\python\\python312\\lib\\site-packages (5.2.0)\n"
     ]
    },
    {
     "name": "stderr",
     "output_type": "stream",
     "text": [
      "\n",
      "[notice] A new release of pip is available: 25.0 -> 25.1.1\n",
      "[notice] To update, run: python.exe -m pip install --upgrade pip\n"
     ]
    },
    {
     "name": "stdout",
     "output_type": "stream",
     "text": [
      "Requirement already satisfied: schedule in c:\\users\\telis\\appdata\\local\\programs\\python\\python312\\lib\\site-packages (1.2.1)\n"
     ]
    },
    {
     "name": "stderr",
     "output_type": "stream",
     "text": [
      "\n",
      "[notice] A new release of pip is available: 25.0 -> 25.1.1\n",
      "[notice] To update, run: python.exe -m pip install --upgrade pip\n"
     ]
    },
    {
     "name": "stdout",
     "output_type": "stream",
     "text": [
      "Requirement already satisfied: psycopg2 in c:\\users\\telis\\appdata\\local\\programs\\python\\python312\\lib\\site-packages (2.9.9)\n"
     ]
    },
    {
     "name": "stderr",
     "output_type": "stream",
     "text": [
      "\n",
      "[notice] A new release of pip is available: 25.0 -> 25.1.1\n",
      "[notice] To update, run: python.exe -m pip install --upgrade pip\n"
     ]
    },
    {
     "name": "stdout",
     "output_type": "stream",
     "text": [
      "Requirement already satisfied: nbformat in c:\\users\\telis\\appdata\\local\\programs\\python\\python312\\lib\\site-packages (5.10.4)\n",
      "Requirement already satisfied: fastjsonschema>=2.15 in c:\\users\\telis\\appdata\\local\\programs\\python\\python312\\lib\\site-packages (from nbformat) (2.19.1)\n",
      "Requirement already satisfied: jsonschema>=2.6 in c:\\users\\telis\\appdata\\local\\programs\\python\\python312\\lib\\site-packages (from nbformat) (4.22.0)\n",
      "Requirement already satisfied: jupyter-core!=5.0.*,>=4.12 in c:\\users\\telis\\appdata\\roaming\\python\\python312\\site-packages (from nbformat) (5.7.2)\n",
      "Requirement already satisfied: traitlets>=5.1 in c:\\users\\telis\\appdata\\roaming\\python\\python312\\site-packages (from nbformat) (5.14.3)\n",
      "Requirement already satisfied: attrs>=22.2.0 in c:\\users\\telis\\appdata\\local\\programs\\python\\python312\\lib\\site-packages (from jsonschema>=2.6->nbformat) (23.2.0)\n",
      "Requirement already satisfied: jsonschema-specifications>=2023.03.6 in c:\\users\\telis\\appdata\\local\\programs\\python\\python312\\lib\\site-packages (from jsonschema>=2.6->nbformat) (2023.12.1)\n",
      "Requirement already satisfied: referencing>=0.28.4 in c:\\users\\telis\\appdata\\local\\programs\\python\\python312\\lib\\site-packages (from jsonschema>=2.6->nbformat) (0.35.1)\n",
      "Requirement already satisfied: rpds-py>=0.7.1 in c:\\users\\telis\\appdata\\local\\programs\\python\\python312\\lib\\site-packages (from jsonschema>=2.6->nbformat) (0.18.1)\n",
      "Requirement already satisfied: platformdirs>=2.5 in c:\\users\\telis\\appdata\\roaming\\python\\python312\\site-packages (from jupyter-core!=5.0.*,>=4.12->nbformat) (4.2.1)\n",
      "Requirement already satisfied: pywin32>=300 in c:\\users\\telis\\appdata\\roaming\\python\\python312\\site-packages (from jupyter-core!=5.0.*,>=4.12->nbformat) (306)\n"
     ]
    },
    {
     "name": "stderr",
     "output_type": "stream",
     "text": [
      "\n",
      "[notice] A new release of pip is available: 25.0 -> 25.1.1\n",
      "[notice] To update, run: python.exe -m pip install --upgrade pip\n"
     ]
    },
    {
     "name": "stdout",
     "output_type": "stream",
     "text": [
      "Requirement already satisfied: setuptools in c:\\users\\telis\\appdata\\local\\programs\\python\\python312\\lib\\site-packages (75.8.0)\n",
      "Collecting setuptools\n",
      "  Downloading setuptools-80.7.1-py3-none-any.whl.metadata (6.6 kB)\n",
      "Downloading setuptools-80.7.1-py3-none-any.whl (1.2 MB)\n",
      "   ---------------------------------------- 0.0/1.2 MB ? eta -:--:--\n",
      "   -------------------------- ------------- 0.8/1.2 MB 11.2 MB/s eta 0:00:01\n",
      "   ---------------------------------------- 1.2/1.2 MB 10.0 MB/s eta 0:00:00\n",
      "Installing collected packages: setuptools\n",
      "  Attempting uninstall: setuptools\n",
      "    Found existing installation: setuptools 75.8.0\n",
      "    Uninstalling setuptools-75.8.0:\n",
      "      Successfully uninstalled setuptools-75.8.0\n",
      "Successfully installed setuptools-80.7.1\n"
     ]
    },
    {
     "name": "stderr",
     "output_type": "stream",
     "text": [
      "\n",
      "[notice] A new release of pip is available: 25.0 -> 25.1.1\n",
      "[notice] To update, run: python.exe -m pip install --upgrade pip\n"
     ]
    },
    {
     "name": "stdout",
     "output_type": "stream",
     "text": [
      "Requirement already satisfied: ydata-profiling in c:\\users\\telis\\appdata\\local\\programs\\python\\python312\\lib\\site-packages (4.12.2)\n",
      "Collecting ydata-profiling\n",
      "  Downloading ydata_profiling-4.16.1-py2.py3-none-any.whl.metadata (22 kB)\n",
      "Requirement already satisfied: scipy<1.16,>=1.4.1 in c:\\users\\telis\\appdata\\local\\programs\\python\\python312\\lib\\site-packages (from ydata-profiling) (1.13.1)\n",
      "Requirement already satisfied: pandas!=1.4.0,<3.0,>1.1 in c:\\users\\telis\\appdata\\local\\programs\\python\\python312\\lib\\site-packages (from ydata-profiling) (2.2.2)\n",
      "Requirement already satisfied: matplotlib<=3.10,>=3.5 in c:\\users\\telis\\appdata\\local\\programs\\python\\python312\\lib\\site-packages (from ydata-profiling) (3.8.4)\n",
      "Requirement already satisfied: pydantic>=2 in c:\\users\\telis\\appdata\\local\\programs\\python\\python312\\lib\\site-packages (from ydata-profiling) (2.7.4)\n",
      "Requirement already satisfied: PyYAML<6.1,>=5.0.0 in c:\\users\\telis\\appdata\\local\\programs\\python\\python312\\lib\\site-packages (from ydata-profiling) (6.0.1)\n",
      "Requirement already satisfied: jinja2<3.2,>=2.11.1 in c:\\users\\telis\\appdata\\local\\programs\\python\\python312\\lib\\site-packages (from ydata-profiling) (3.1.4)\n",
      "Requirement already satisfied: visions<0.8.2,>=0.7.5 in c:\\users\\telis\\appdata\\local\\programs\\python\\python312\\lib\\site-packages (from visions[type_image_path]<0.8.2,>=0.7.5->ydata-profiling) (0.7.6)\n",
      "Requirement already satisfied: numpy<2.2,>=1.16.0 in c:\\users\\telis\\appdata\\local\\programs\\python\\python312\\lib\\site-packages (from ydata-profiling) (1.26.4)\n",
      "Requirement already satisfied: htmlmin==0.1.12 in c:\\users\\telis\\appdata\\local\\programs\\python\\python312\\lib\\site-packages (from ydata-profiling) (0.1.12)\n",
      "Requirement already satisfied: phik<0.13,>=0.11.1 in c:\\users\\telis\\appdata\\local\\programs\\python\\python312\\lib\\site-packages (from ydata-profiling) (0.12.4)\n",
      "Requirement already satisfied: requests<3,>=2.24.0 in c:\\users\\telis\\appdata\\local\\programs\\python\\python312\\lib\\site-packages (from ydata-profiling) (2.31.0)\n",
      "Requirement already satisfied: tqdm<5,>=4.48.2 in c:\\users\\telis\\appdata\\local\\programs\\python\\python312\\lib\\site-packages (from ydata-profiling) (4.66.4)\n",
      "Requirement already satisfied: seaborn<0.14,>=0.10.1 in c:\\users\\telis\\appdata\\local\\programs\\python\\python312\\lib\\site-packages (from ydata-profiling) (0.13.2)\n",
      "Requirement already satisfied: multimethod<2,>=1.4 in c:\\users\\telis\\appdata\\local\\programs\\python\\python312\\lib\\site-packages (from ydata-profiling) (1.11.2)\n",
      "Requirement already satisfied: statsmodels<1,>=0.13.2 in c:\\users\\telis\\appdata\\local\\programs\\python\\python312\\lib\\site-packages (from ydata-profiling) (0.14.2)\n",
      "Requirement already satisfied: typeguard<5,>=3 in c:\\users\\telis\\appdata\\local\\programs\\python\\python312\\lib\\site-packages (from ydata-profiling) (4.3.0)\n",
      "Requirement already satisfied: imagehash==4.3.1 in c:\\users\\telis\\appdata\\local\\programs\\python\\python312\\lib\\site-packages (from ydata-profiling) (4.3.1)\n",
      "Requirement already satisfied: wordcloud>=1.9.3 in c:\\users\\telis\\appdata\\local\\programs\\python\\python312\\lib\\site-packages (from ydata-profiling) (1.9.3)\n",
      "Requirement already satisfied: dacite>=1.8 in c:\\users\\telis\\appdata\\local\\programs\\python\\python312\\lib\\site-packages (from ydata-profiling) (1.8.1)\n",
      "Requirement already satisfied: numba<=0.61,>=0.56.0 in c:\\users\\telis\\appdata\\local\\programs\\python\\python312\\lib\\site-packages (from ydata-profiling) (0.60.0)\n",
      "Requirement already satisfied: PyWavelets in c:\\users\\telis\\appdata\\local\\programs\\python\\python312\\lib\\site-packages (from imagehash==4.3.1->ydata-profiling) (1.6.0)\n",
      "Requirement already satisfied: pillow in c:\\users\\telis\\appdata\\local\\programs\\python\\python312\\lib\\site-packages (from imagehash==4.3.1->ydata-profiling) (10.3.0)\n",
      "Requirement already satisfied: MarkupSafe>=2.0 in c:\\users\\telis\\appdata\\local\\programs\\python\\python312\\lib\\site-packages (from jinja2<3.2,>=2.11.1->ydata-profiling) (2.1.5)\n",
      "Requirement already satisfied: contourpy>=1.0.1 in c:\\users\\telis\\appdata\\local\\programs\\python\\python312\\lib\\site-packages (from matplotlib<=3.10,>=3.5->ydata-profiling) (1.2.1)\n",
      "Requirement already satisfied: cycler>=0.10 in c:\\users\\telis\\appdata\\local\\programs\\python\\python312\\lib\\site-packages (from matplotlib<=3.10,>=3.5->ydata-profiling) (0.12.1)\n",
      "Requirement already satisfied: fonttools>=4.22.0 in c:\\users\\telis\\appdata\\local\\programs\\python\\python312\\lib\\site-packages (from matplotlib<=3.10,>=3.5->ydata-profiling) (4.51.0)\n",
      "Requirement already satisfied: kiwisolver>=1.3.1 in c:\\users\\telis\\appdata\\local\\programs\\python\\python312\\lib\\site-packages (from matplotlib<=3.10,>=3.5->ydata-profiling) (1.4.5)\n",
      "Requirement already satisfied: packaging>=20.0 in c:\\users\\telis\\appdata\\roaming\\python\\python312\\site-packages (from matplotlib<=3.10,>=3.5->ydata-profiling) (24.0)\n",
      "Requirement already satisfied: pyparsing>=2.3.1 in c:\\users\\telis\\appdata\\local\\programs\\python\\python312\\lib\\site-packages (from matplotlib<=3.10,>=3.5->ydata-profiling) (3.1.2)\n",
      "Requirement already satisfied: python-dateutil>=2.7 in c:\\users\\telis\\appdata\\roaming\\python\\python312\\site-packages (from matplotlib<=3.10,>=3.5->ydata-profiling) (2.9.0.post0)\n",
      "Requirement already satisfied: llvmlite<0.44,>=0.43.0dev0 in c:\\users\\telis\\appdata\\local\\programs\\python\\python312\\lib\\site-packages (from numba<=0.61,>=0.56.0->ydata-profiling) (0.43.0)\n",
      "Requirement already satisfied: pytz>=2020.1 in c:\\users\\telis\\appdata\\local\\programs\\python\\python312\\lib\\site-packages (from pandas!=1.4.0,<3.0,>1.1->ydata-profiling) (2024.1)\n",
      "Requirement already satisfied: tzdata>=2022.7 in c:\\users\\telis\\appdata\\local\\programs\\python\\python312\\lib\\site-packages (from pandas!=1.4.0,<3.0,>1.1->ydata-profiling) (2024.1)\n",
      "Requirement already satisfied: joblib>=0.14.1 in c:\\users\\telis\\appdata\\local\\programs\\python\\python312\\lib\\site-packages (from phik<0.13,>=0.11.1->ydata-profiling) (1.4.2)\n",
      "Requirement already satisfied: annotated-types>=0.4.0 in c:\\users\\telis\\appdata\\local\\programs\\python\\python312\\lib\\site-packages (from pydantic>=2->ydata-profiling) (0.7.0)\n",
      "Requirement already satisfied: pydantic-core==2.18.4 in c:\\users\\telis\\appdata\\local\\programs\\python\\python312\\lib\\site-packages (from pydantic>=2->ydata-profiling) (2.18.4)\n",
      "Requirement already satisfied: typing-extensions>=4.6.1 in c:\\users\\telis\\appdata\\local\\programs\\python\\python312\\lib\\site-packages (from pydantic>=2->ydata-profiling) (4.12.2)\n",
      "Requirement already satisfied: charset-normalizer<4,>=2 in c:\\users\\telis\\appdata\\local\\programs\\python\\python312\\lib\\site-packages (from requests<3,>=2.24.0->ydata-profiling) (3.3.2)\n",
      "Requirement already satisfied: idna<4,>=2.5 in c:\\users\\telis\\appdata\\local\\programs\\python\\python312\\lib\\site-packages (from requests<3,>=2.24.0->ydata-profiling) (3.7)\n",
      "Requirement already satisfied: urllib3<3,>=1.21.1 in c:\\users\\telis\\appdata\\local\\programs\\python\\python312\\lib\\site-packages (from requests<3,>=2.24.0->ydata-profiling) (2.2.1)\n",
      "Requirement already satisfied: certifi>=2017.4.17 in c:\\users\\telis\\appdata\\local\\programs\\python\\python312\\lib\\site-packages (from requests<3,>=2.24.0->ydata-profiling) (2024.2.2)\n",
      "Requirement already satisfied: patsy>=0.5.6 in c:\\users\\telis\\appdata\\local\\programs\\python\\python312\\lib\\site-packages (from statsmodels<1,>=0.13.2->ydata-profiling) (0.5.6)\n",
      "Requirement already satisfied: colorama in c:\\users\\telis\\appdata\\roaming\\python\\python312\\site-packages (from tqdm<5,>=4.48.2->ydata-profiling) (0.4.6)\n",
      "Requirement already satisfied: attrs>=19.3.0 in c:\\users\\telis\\appdata\\local\\programs\\python\\python312\\lib\\site-packages (from visions<0.8.2,>=0.7.5->visions[type_image_path]<0.8.2,>=0.7.5->ydata-profiling) (23.2.0)\n",
      "Requirement already satisfied: networkx>=2.4 in c:\\users\\telis\\appdata\\local\\programs\\python\\python312\\lib\\site-packages (from visions<0.8.2,>=0.7.5->visions[type_image_path]<0.8.2,>=0.7.5->ydata-profiling) (3.3)\n",
      "Requirement already satisfied: six in c:\\users\\telis\\appdata\\roaming\\python\\python312\\site-packages (from patsy>=0.5.6->statsmodels<1,>=0.13.2->ydata-profiling) (1.16.0)\n",
      "Downloading ydata_profiling-4.16.1-py2.py3-none-any.whl (400 kB)\n",
      "Installing collected packages: ydata-profiling\n",
      "  Attempting uninstall: ydata-profiling\n",
      "    Found existing installation: ydata-profiling 4.12.2\n",
      "    Uninstalling ydata-profiling-4.12.2:\n",
      "      Successfully uninstalled ydata-profiling-4.12.2\n",
      "Successfully installed ydata-profiling-4.16.1\n"
     ]
    },
    {
     "name": "stderr",
     "output_type": "stream",
     "text": [
      "\n",
      "[notice] A new release of pip is available: 25.0 -> 25.1.1\n",
      "[notice] To update, run: python.exe -m pip install --upgrade pip\n"
     ]
    },
    {
     "name": "stdout",
     "output_type": "stream",
     "text": [
      "Requirement already satisfied: ipywidgets in c:\\users\\telis\\appdata\\local\\programs\\python\\python312\\lib\\site-packages (8.1.3)\n",
      "Requirement already satisfied: comm>=0.1.3 in c:\\users\\telis\\appdata\\roaming\\python\\python312\\site-packages (from ipywidgets) (0.2.2)\n",
      "Requirement already satisfied: ipython>=6.1.0 in c:\\users\\telis\\appdata\\roaming\\python\\python312\\site-packages (from ipywidgets) (8.24.0)\n",
      "Requirement already satisfied: traitlets>=4.3.1 in c:\\users\\telis\\appdata\\roaming\\python\\python312\\site-packages (from ipywidgets) (5.14.3)\n",
      "Requirement already satisfied: widgetsnbextension~=4.0.11 in c:\\users\\telis\\appdata\\local\\programs\\python\\python312\\lib\\site-packages (from ipywidgets) (4.0.11)\n",
      "Requirement already satisfied: jupyterlab-widgets~=3.0.11 in c:\\users\\telis\\appdata\\local\\programs\\python\\python312\\lib\\site-packages (from ipywidgets) (3.0.11)\n",
      "Requirement already satisfied: decorator in c:\\users\\telis\\appdata\\roaming\\python\\python312\\site-packages (from ipython>=6.1.0->ipywidgets) (5.1.1)\n",
      "Requirement already satisfied: jedi>=0.16 in c:\\users\\telis\\appdata\\roaming\\python\\python312\\site-packages (from ipython>=6.1.0->ipywidgets) (0.19.1)\n",
      "Requirement already satisfied: matplotlib-inline in c:\\users\\telis\\appdata\\roaming\\python\\python312\\site-packages (from ipython>=6.1.0->ipywidgets) (0.1.7)\n",
      "Requirement already satisfied: prompt-toolkit<3.1.0,>=3.0.41 in c:\\users\\telis\\appdata\\roaming\\python\\python312\\site-packages (from ipython>=6.1.0->ipywidgets) (3.0.43)\n",
      "Requirement already satisfied: pygments>=2.4.0 in c:\\users\\telis\\appdata\\roaming\\python\\python312\\site-packages (from ipython>=6.1.0->ipywidgets) (2.18.0)\n",
      "Requirement already satisfied: stack-data in c:\\users\\telis\\appdata\\roaming\\python\\python312\\site-packages (from ipython>=6.1.0->ipywidgets) (0.6.3)\n",
      "Requirement already satisfied: colorama in c:\\users\\telis\\appdata\\roaming\\python\\python312\\site-packages (from ipython>=6.1.0->ipywidgets) (0.4.6)\n",
      "Requirement already satisfied: parso<0.9.0,>=0.8.3 in c:\\users\\telis\\appdata\\roaming\\python\\python312\\site-packages (from jedi>=0.16->ipython>=6.1.0->ipywidgets) (0.8.4)\n",
      "Requirement already satisfied: wcwidth in c:\\users\\telis\\appdata\\roaming\\python\\python312\\site-packages (from prompt-toolkit<3.1.0,>=3.0.41->ipython>=6.1.0->ipywidgets) (0.2.13)\n",
      "Requirement already satisfied: executing>=1.2.0 in c:\\users\\telis\\appdata\\roaming\\python\\python312\\site-packages (from stack-data->ipython>=6.1.0->ipywidgets) (2.0.1)\n",
      "Requirement already satisfied: asttokens>=2.1.0 in c:\\users\\telis\\appdata\\roaming\\python\\python312\\site-packages (from stack-data->ipython>=6.1.0->ipywidgets) (2.4.1)\n",
      "Requirement already satisfied: pure-eval in c:\\users\\telis\\appdata\\roaming\\python\\python312\\site-packages (from stack-data->ipython>=6.1.0->ipywidgets) (0.2.2)\n",
      "Requirement already satisfied: six>=1.12.0 in c:\\users\\telis\\appdata\\roaming\\python\\python312\\site-packages (from asttokens>=2.1.0->stack-data->ipython>=6.1.0->ipywidgets) (1.16.0)\n"
     ]
    },
    {
     "name": "stderr",
     "output_type": "stream",
     "text": [
      "\n",
      "[notice] A new release of pip is available: 25.0 -> 25.1.1\n",
      "[notice] To update, run: python.exe -m pip install --upgrade pip\n"
     ]
    },
    {
     "name": "stdout",
     "output_type": "stream",
     "text": [
      "Requirement already satisfied: sweetviz in c:\\users\\telis\\appdata\\local\\programs\\python\\python312\\lib\\site-packages (2.3.1)\n",
      "Requirement already satisfied: pandas!=1.0.0,!=1.0.1,!=1.0.2,>=0.25.3 in c:\\users\\telis\\appdata\\local\\programs\\python\\python312\\lib\\site-packages (from sweetviz) (2.2.2)\n",
      "Requirement already satisfied: numpy>=1.16.0 in c:\\users\\telis\\appdata\\local\\programs\\python\\python312\\lib\\site-packages (from sweetviz) (1.26.4)\n",
      "Requirement already satisfied: matplotlib>=3.1.3 in c:\\users\\telis\\appdata\\local\\programs\\python\\python312\\lib\\site-packages (from sweetviz) (3.8.4)\n",
      "Requirement already satisfied: tqdm>=4.43.0 in c:\\users\\telis\\appdata\\local\\programs\\python\\python312\\lib\\site-packages (from sweetviz) (4.66.4)\n",
      "Requirement already satisfied: scipy>=1.3.2 in c:\\users\\telis\\appdata\\local\\programs\\python\\python312\\lib\\site-packages (from sweetviz) (1.13.1)\n",
      "Requirement already satisfied: jinja2>=2.11.1 in c:\\users\\telis\\appdata\\local\\programs\\python\\python312\\lib\\site-packages (from sweetviz) (3.1.4)\n",
      "Requirement already satisfied: importlib-resources>=1.2.0 in c:\\users\\telis\\appdata\\local\\programs\\python\\python312\\lib\\site-packages (from sweetviz) (6.4.0)\n",
      "Requirement already satisfied: MarkupSafe>=2.0 in c:\\users\\telis\\appdata\\local\\programs\\python\\python312\\lib\\site-packages (from jinja2>=2.11.1->sweetviz) (2.1.5)\n",
      "Requirement already satisfied: contourpy>=1.0.1 in c:\\users\\telis\\appdata\\local\\programs\\python\\python312\\lib\\site-packages (from matplotlib>=3.1.3->sweetviz) (1.2.1)\n",
      "Requirement already satisfied: cycler>=0.10 in c:\\users\\telis\\appdata\\local\\programs\\python\\python312\\lib\\site-packages (from matplotlib>=3.1.3->sweetviz) (0.12.1)\n",
      "Requirement already satisfied: fonttools>=4.22.0 in c:\\users\\telis\\appdata\\local\\programs\\python\\python312\\lib\\site-packages (from matplotlib>=3.1.3->sweetviz) (4.51.0)\n",
      "Requirement already satisfied: kiwisolver>=1.3.1 in c:\\users\\telis\\appdata\\local\\programs\\python\\python312\\lib\\site-packages (from matplotlib>=3.1.3->sweetviz) (1.4.5)\n",
      "Requirement already satisfied: packaging>=20.0 in c:\\users\\telis\\appdata\\roaming\\python\\python312\\site-packages (from matplotlib>=3.1.3->sweetviz) (24.0)\n",
      "Requirement already satisfied: pillow>=8 in c:\\users\\telis\\appdata\\local\\programs\\python\\python312\\lib\\site-packages (from matplotlib>=3.1.3->sweetviz) (10.3.0)\n",
      "Requirement already satisfied: pyparsing>=2.3.1 in c:\\users\\telis\\appdata\\local\\programs\\python\\python312\\lib\\site-packages (from matplotlib>=3.1.3->sweetviz) (3.1.2)\n",
      "Requirement already satisfied: python-dateutil>=2.7 in c:\\users\\telis\\appdata\\roaming\\python\\python312\\site-packages (from matplotlib>=3.1.3->sweetviz) (2.9.0.post0)\n",
      "Requirement already satisfied: pytz>=2020.1 in c:\\users\\telis\\appdata\\local\\programs\\python\\python312\\lib\\site-packages (from pandas!=1.0.0,!=1.0.1,!=1.0.2,>=0.25.3->sweetviz) (2024.1)\n",
      "Requirement already satisfied: tzdata>=2022.7 in c:\\users\\telis\\appdata\\local\\programs\\python\\python312\\lib\\site-packages (from pandas!=1.0.0,!=1.0.1,!=1.0.2,>=0.25.3->sweetviz) (2024.1)\n",
      "Requirement already satisfied: colorama in c:\\users\\telis\\appdata\\roaming\\python\\python312\\site-packages (from tqdm>=4.43.0->sweetviz) (0.4.6)\n",
      "Requirement already satisfied: six>=1.5 in c:\\users\\telis\\appdata\\roaming\\python\\python312\\site-packages (from python-dateutil>=2.7->matplotlib>=3.1.3->sweetviz) (1.16.0)\n"
     ]
    },
    {
     "name": "stderr",
     "output_type": "stream",
     "text": [
      "\n",
      "[notice] A new release of pip is available: 25.0 -> 25.1.1\n",
      "[notice] To update, run: python.exe -m pip install --upgrade pip\n"
     ]
    },
    {
     "name": "stdout",
     "output_type": "stream",
     "text": [
      "Requirement already satisfied: dtale in c:\\users\\telis\\appdata\\local\\programs\\python\\python312\\lib\\site-packages (3.12.0)\n",
      "Requirement already satisfied: dash-colorscales in c:\\users\\telis\\appdata\\local\\programs\\python\\python312\\lib\\site-packages (from dtale) (0.0.4)\n",
      "Requirement already satisfied: dash-daq in c:\\users\\telis\\appdata\\local\\programs\\python\\python312\\lib\\site-packages (from dtale) (0.5.0)\n",
      "Requirement already satisfied: Flask-Compress in c:\\users\\telis\\appdata\\local\\programs\\python\\python312\\lib\\site-packages (from dtale) (1.15)\n",
      "Requirement already satisfied: future>=0.14.0 in c:\\users\\telis\\appdata\\local\\programs\\python\\python312\\lib\\site-packages (from dtale) (1.0.0)\n",
      "Requirement already satisfied: kaleido in c:\\users\\telis\\appdata\\local\\programs\\python\\python312\\lib\\site-packages (from dtale) (0.2.1)\n",
      "Requirement already satisfied: missingno in c:\\users\\telis\\appdata\\local\\programs\\python\\python312\\lib\\site-packages (from dtale) (0.5.2)\n",
      "Requirement already satisfied: pandas in c:\\users\\telis\\appdata\\local\\programs\\python\\python312\\lib\\site-packages (from dtale) (2.2.2)\n",
      "Requirement already satisfied: squarify in c:\\users\\telis\\appdata\\local\\programs\\python\\python312\\lib\\site-packages (from dtale) (0.4.3)\n",
      "Requirement already satisfied: strsimpy in c:\\users\\telis\\appdata\\local\\programs\\python\\python312\\lib\\site-packages (from dtale) (0.2.1)\n",
      "Requirement already satisfied: six in c:\\users\\telis\\appdata\\roaming\\python\\python312\\site-packages (from dtale) (1.16.0)\n",
      "Requirement already satisfied: xlrd in c:\\users\\telis\\appdata\\local\\programs\\python\\python312\\lib\\site-packages (from dtale) (2.0.1)\n",
      "Requirement already satisfied: beautifulsoup4!=4.13.0b2 in c:\\users\\telis\\appdata\\local\\programs\\python\\python312\\lib\\site-packages (from dtale) (4.12.3)\n",
      "Requirement already satisfied: certifi in c:\\users\\telis\\appdata\\local\\programs\\python\\python312\\lib\\site-packages (from dtale) (2024.2.2)\n",
      "Requirement already satisfied: flask-ngrok in c:\\users\\telis\\appdata\\local\\programs\\python\\python312\\lib\\site-packages (from dtale) (0.0.25)\n",
      "Requirement already satisfied: lz4 in c:\\users\\telis\\appdata\\local\\programs\\python\\python312\\lib\\site-packages (from dtale) (4.3.3)\n",
      "Requirement already satisfied: cycler in c:\\users\\telis\\appdata\\local\\programs\\python\\python312\\lib\\site-packages (from dtale) (0.12.1)\n",
      "Requirement already satisfied: dash-bootstrap-components<=1.3.1 in c:\\users\\telis\\appdata\\local\\programs\\python\\python312\\lib\\site-packages (from dtale) (1.3.1)\n",
      "Requirement already satisfied: dash in c:\\users\\telis\\appdata\\local\\programs\\python\\python312\\lib\\site-packages (from dtale) (2.17.1)\n",
      "Requirement already satisfied: seaborn in c:\\users\\telis\\appdata\\local\\programs\\python\\python312\\lib\\site-packages (from dtale) (0.13.2)\n",
      "Requirement already satisfied: werkzeug in c:\\users\\telis\\appdata\\local\\programs\\python\\python312\\lib\\site-packages (from dtale) (3.0.3)\n",
      "Requirement already satisfied: scikit-learn in c:\\users\\telis\\appdata\\local\\programs\\python\\python312\\lib\\site-packages (from dtale) (1.5.2)\n",
      "Requirement already satisfied: statsmodels in c:\\users\\telis\\appdata\\local\\programs\\python\\python312\\lib\\site-packages (from dtale) (0.14.2)\n",
      "Requirement already satisfied: networkx in c:\\users\\telis\\appdata\\local\\programs\\python\\python312\\lib\\site-packages (from dtale) (3.3)\n",
      "Requirement already satisfied: numpy in c:\\users\\telis\\appdata\\local\\programs\\python\\python312\\lib\\site-packages (from dtale) (1.26.4)\n",
      "Requirement already satisfied: openpyxl!=3.2.0b1 in c:\\users\\telis\\appdata\\local\\programs\\python\\python312\\lib\\site-packages (from dtale) (3.1.4)\n",
      "Requirement already satisfied: xarray in c:\\users\\telis\\appdata\\local\\programs\\python\\python312\\lib\\site-packages (from dtale) (2024.6.0)\n",
      "Requirement already satisfied: et-xmlfile in c:\\users\\telis\\appdata\\local\\programs\\python\\python312\\lib\\site-packages (from dtale) (1.1.0)\n",
      "Requirement already satisfied: plotly in c:\\users\\telis\\appdata\\local\\programs\\python\\python312\\lib\\site-packages (from dtale) (5.22.0)\n",
      "Requirement already satisfied: Flask<2.3 in c:\\users\\telis\\appdata\\local\\programs\\python\\python312\\lib\\site-packages (from dtale) (2.2.5)\n",
      "Requirement already satisfied: requests in c:\\users\\telis\\appdata\\local\\programs\\python\\python312\\lib\\site-packages (from dtale) (2.31.0)\n",
      "Requirement already satisfied: itsdangerous in c:\\users\\telis\\appdata\\local\\programs\\python\\python312\\lib\\site-packages (from dtale) (2.2.0)\n",
      "Requirement already satisfied: contourpy in c:\\users\\telis\\appdata\\local\\programs\\python\\python312\\lib\\site-packages (from dtale) (1.2.1)\n",
      "Requirement already satisfied: matplotlib in c:\\users\\telis\\appdata\\local\\programs\\python\\python312\\lib\\site-packages (from dtale) (3.8.4)\n",
      "Requirement already satisfied: scipy!=1.12.0rc1 in c:\\users\\telis\\appdata\\local\\programs\\python\\python312\\lib\\site-packages (from dtale) (1.13.1)\n",
      "Requirement already satisfied: soupsieve>1.2 in c:\\users\\telis\\appdata\\local\\programs\\python\\python312\\lib\\site-packages (from beautifulsoup4!=4.13.0b2->dtale) (2.5)\n",
      "Requirement already satisfied: dash-html-components==2.0.0 in c:\\users\\telis\\appdata\\local\\programs\\python\\python312\\lib\\site-packages (from dash->dtale) (2.0.0)\n",
      "Requirement already satisfied: dash-core-components==2.0.0 in c:\\users\\telis\\appdata\\local\\programs\\python\\python312\\lib\\site-packages (from dash->dtale) (2.0.0)\n",
      "Requirement already satisfied: dash-table==5.0.0 in c:\\users\\telis\\appdata\\local\\programs\\python\\python312\\lib\\site-packages (from dash->dtale) (5.0.0)\n",
      "Requirement already satisfied: importlib-metadata in c:\\users\\telis\\appdata\\local\\programs\\python\\python312\\lib\\site-packages (from dash->dtale) (7.2.1)\n",
      "Requirement already satisfied: typing-extensions>=4.1.1 in c:\\users\\telis\\appdata\\local\\programs\\python\\python312\\lib\\site-packages (from dash->dtale) (4.12.2)\n",
      "Requirement already satisfied: retrying in c:\\users\\telis\\appdata\\local\\programs\\python\\python312\\lib\\site-packages (from dash->dtale) (1.3.4)\n",
      "Requirement already satisfied: nest-asyncio in c:\\users\\telis\\appdata\\roaming\\python\\python312\\site-packages (from dash->dtale) (1.6.0)\n",
      "Requirement already satisfied: setuptools in c:\\users\\telis\\appdata\\local\\programs\\python\\python312\\lib\\site-packages (from dash->dtale) (80.7.1)\n",
      "Requirement already satisfied: Jinja2>=3.0 in c:\\users\\telis\\appdata\\local\\programs\\python\\python312\\lib\\site-packages (from Flask<2.3->dtale) (3.1.4)\n",
      "Requirement already satisfied: click>=8.0 in c:\\users\\telis\\appdata\\local\\programs\\python\\python312\\lib\\site-packages (from Flask<2.3->dtale) (8.1.7)\n",
      "Requirement already satisfied: tenacity>=6.2.0 in c:\\users\\telis\\appdata\\local\\programs\\python\\python312\\lib\\site-packages (from plotly->dtale) (8.2.3)\n",
      "Requirement already satisfied: packaging in c:\\users\\telis\\appdata\\roaming\\python\\python312\\site-packages (from plotly->dtale) (24.0)\n",
      "Requirement already satisfied: MarkupSafe>=2.1.1 in c:\\users\\telis\\appdata\\local\\programs\\python\\python312\\lib\\site-packages (from werkzeug->dtale) (2.1.5)\n",
      "Requirement already satisfied: brotli in c:\\users\\telis\\appdata\\local\\programs\\python\\python312\\lib\\site-packages (from Flask-Compress->dtale) (1.1.0)\n",
      "Requirement already satisfied: zstandard in c:\\users\\telis\\appdata\\local\\programs\\python\\python312\\lib\\site-packages (from Flask-Compress->dtale) (0.22.0)\n",
      "Requirement already satisfied: fonttools>=4.22.0 in c:\\users\\telis\\appdata\\local\\programs\\python\\python312\\lib\\site-packages (from matplotlib->dtale) (4.51.0)\n",
      "Requirement already satisfied: kiwisolver>=1.3.1 in c:\\users\\telis\\appdata\\local\\programs\\python\\python312\\lib\\site-packages (from matplotlib->dtale) (1.4.5)\n",
      "Requirement already satisfied: pillow>=8 in c:\\users\\telis\\appdata\\local\\programs\\python\\python312\\lib\\site-packages (from matplotlib->dtale) (10.3.0)\n",
      "Requirement already satisfied: pyparsing>=2.3.1 in c:\\users\\telis\\appdata\\local\\programs\\python\\python312\\lib\\site-packages (from matplotlib->dtale) (3.1.2)\n",
      "Requirement already satisfied: python-dateutil>=2.7 in c:\\users\\telis\\appdata\\roaming\\python\\python312\\site-packages (from matplotlib->dtale) (2.9.0.post0)\n",
      "Requirement already satisfied: pytz>=2020.1 in c:\\users\\telis\\appdata\\local\\programs\\python\\python312\\lib\\site-packages (from pandas->dtale) (2024.1)\n",
      "Requirement already satisfied: tzdata>=2022.7 in c:\\users\\telis\\appdata\\local\\programs\\python\\python312\\lib\\site-packages (from pandas->dtale) (2024.1)\n",
      "Requirement already satisfied: charset-normalizer<4,>=2 in c:\\users\\telis\\appdata\\local\\programs\\python\\python312\\lib\\site-packages (from requests->dtale) (3.3.2)\n",
      "Requirement already satisfied: idna<4,>=2.5 in c:\\users\\telis\\appdata\\local\\programs\\python\\python312\\lib\\site-packages (from requests->dtale) (3.7)\n",
      "Requirement already satisfied: urllib3<3,>=1.21.1 in c:\\users\\telis\\appdata\\local\\programs\\python\\python312\\lib\\site-packages (from requests->dtale) (2.2.1)\n",
      "Requirement already satisfied: joblib>=1.2.0 in c:\\users\\telis\\appdata\\local\\programs\\python\\python312\\lib\\site-packages (from scikit-learn->dtale) (1.4.2)\n",
      "Requirement already satisfied: threadpoolctl>=3.1.0 in c:\\users\\telis\\appdata\\local\\programs\\python\\python312\\lib\\site-packages (from scikit-learn->dtale) (3.5.0)\n",
      "Requirement already satisfied: patsy>=0.5.6 in c:\\users\\telis\\appdata\\local\\programs\\python\\python312\\lib\\site-packages (from statsmodels->dtale) (0.5.6)\n",
      "Requirement already satisfied: colorama in c:\\users\\telis\\appdata\\roaming\\python\\python312\\site-packages (from click>=8.0->Flask<2.3->dtale) (0.4.6)\n",
      "Requirement already satisfied: zipp>=0.5 in c:\\users\\telis\\appdata\\local\\programs\\python\\python312\\lib\\site-packages (from importlib-metadata->dash->dtale) (3.19.2)\n"
     ]
    },
    {
     "name": "stderr",
     "output_type": "stream",
     "text": [
      "\n",
      "[notice] A new release of pip is available: 25.0 -> 25.1.1\n",
      "[notice] To update, run: python.exe -m pip install --upgrade pip\n"
     ]
    },
    {
     "name": "stdout",
     "output_type": "stream",
     "text": [
      "Requirement already satisfied: statistics in c:\\users\\telis\\appdata\\local\\programs\\python\\python312\\lib\\site-packages (1.0.3.5)\n",
      "Requirement already satisfied: docutils>=0.3 in c:\\users\\telis\\appdata\\local\\programs\\python\\python312\\lib\\site-packages (from statistics) (0.21.2)\n"
     ]
    },
    {
     "name": "stderr",
     "output_type": "stream",
     "text": [
      "\n",
      "[notice] A new release of pip is available: 25.0 -> 25.1.1\n",
      "[notice] To update, run: python.exe -m pip install --upgrade pip\n"
     ]
    },
    {
     "name": "stdout",
     "output_type": "stream",
     "text": [
      "Requirement already satisfied: scikit-learn in c:\\users\\telis\\appdata\\local\\programs\\python\\python312\\lib\\site-packages (1.5.2)\n",
      "Requirement already satisfied: numpy>=1.19.5 in c:\\users\\telis\\appdata\\local\\programs\\python\\python312\\lib\\site-packages (from scikit-learn) (1.26.4)\n",
      "Requirement already satisfied: scipy>=1.6.0 in c:\\users\\telis\\appdata\\local\\programs\\python\\python312\\lib\\site-packages (from scikit-learn) (1.13.1)\n",
      "Requirement already satisfied: joblib>=1.2.0 in c:\\users\\telis\\appdata\\local\\programs\\python\\python312\\lib\\site-packages (from scikit-learn) (1.4.2)\n",
      "Requirement already satisfied: threadpoolctl>=3.1.0 in c:\\users\\telis\\appdata\\local\\programs\\python\\python312\\lib\\site-packages (from scikit-learn) (3.5.0)\n"
     ]
    },
    {
     "name": "stderr",
     "output_type": "stream",
     "text": [
      "\n",
      "[notice] A new release of pip is available: 25.0 -> 25.1.1\n",
      "[notice] To update, run: python.exe -m pip install --upgrade pip\n"
     ]
    },
    {
     "name": "stdout",
     "output_type": "stream",
     "text": [
      "Requirement already satisfied: category_encoders in c:\\users\\telis\\appdata\\local\\programs\\python\\python312\\lib\\site-packages (2.6.3)\n",
      "Requirement already satisfied: numpy>=1.14.0 in c:\\users\\telis\\appdata\\local\\programs\\python\\python312\\lib\\site-packages (from category_encoders) (1.26.4)\n",
      "Requirement already satisfied: scikit-learn>=0.20.0 in c:\\users\\telis\\appdata\\local\\programs\\python\\python312\\lib\\site-packages (from category_encoders) (1.5.2)\n",
      "Requirement already satisfied: scipy>=1.0.0 in c:\\users\\telis\\appdata\\local\\programs\\python\\python312\\lib\\site-packages (from category_encoders) (1.13.1)\n",
      "Requirement already satisfied: statsmodels>=0.9.0 in c:\\users\\telis\\appdata\\local\\programs\\python\\python312\\lib\\site-packages (from category_encoders) (0.14.2)\n",
      "Requirement already satisfied: pandas>=1.0.5 in c:\\users\\telis\\appdata\\local\\programs\\python\\python312\\lib\\site-packages (from category_encoders) (2.2.2)\n",
      "Requirement already satisfied: patsy>=0.5.1 in c:\\users\\telis\\appdata\\local\\programs\\python\\python312\\lib\\site-packages (from category_encoders) (0.5.6)\n",
      "Requirement already satisfied: python-dateutil>=2.8.2 in c:\\users\\telis\\appdata\\roaming\\python\\python312\\site-packages (from pandas>=1.0.5->category_encoders) (2.9.0.post0)\n",
      "Requirement already satisfied: pytz>=2020.1 in c:\\users\\telis\\appdata\\local\\programs\\python\\python312\\lib\\site-packages (from pandas>=1.0.5->category_encoders) (2024.1)\n",
      "Requirement already satisfied: tzdata>=2022.7 in c:\\users\\telis\\appdata\\local\\programs\\python\\python312\\lib\\site-packages (from pandas>=1.0.5->category_encoders) (2024.1)\n",
      "Requirement already satisfied: six in c:\\users\\telis\\appdata\\roaming\\python\\python312\\site-packages (from patsy>=0.5.1->category_encoders) (1.16.0)\n",
      "Requirement already satisfied: joblib>=1.2.0 in c:\\users\\telis\\appdata\\local\\programs\\python\\python312\\lib\\site-packages (from scikit-learn>=0.20.0->category_encoders) (1.4.2)\n",
      "Requirement already satisfied: threadpoolctl>=3.1.0 in c:\\users\\telis\\appdata\\local\\programs\\python\\python312\\lib\\site-packages (from scikit-learn>=0.20.0->category_encoders) (3.5.0)\n",
      "Requirement already satisfied: packaging>=21.3 in c:\\users\\telis\\appdata\\roaming\\python\\python312\\site-packages (from statsmodels>=0.9.0->category_encoders) (24.0)\n"
     ]
    },
    {
     "name": "stderr",
     "output_type": "stream",
     "text": [
      "\n",
      "[notice] A new release of pip is available: 25.0 -> 25.1.1\n",
      "[notice] To update, run: python.exe -m pip install --upgrade pip\n"
     ]
    },
    {
     "name": "stdout",
     "output_type": "stream",
     "text": [
      "Requirement already satisfied: scipy in c:\\users\\telis\\appdata\\local\\programs\\python\\python312\\lib\\site-packages (1.13.1)\n",
      "Requirement already satisfied: numpy<2.3,>=1.22.4 in c:\\users\\telis\\appdata\\local\\programs\\python\\python312\\lib\\site-packages (from scipy) (1.26.4)\n"
     ]
    },
    {
     "name": "stderr",
     "output_type": "stream",
     "text": [
      "\n",
      "[notice] A new release of pip is available: 25.0 -> 25.1.1\n",
      "[notice] To update, run: python.exe -m pip install --upgrade pip\n"
     ]
    },
    {
     "name": "stdout",
     "output_type": "stream",
     "text": [
      "Requirement already satisfied: statsmodels in c:\\users\\telis\\appdata\\local\\programs\\python\\python312\\lib\\site-packages (0.14.2)\n",
      "Requirement already satisfied: numpy>=1.22.3 in c:\\users\\telis\\appdata\\local\\programs\\python\\python312\\lib\\site-packages (from statsmodels) (1.26.4)\n",
      "Requirement already satisfied: scipy!=1.9.2,>=1.8 in c:\\users\\telis\\appdata\\local\\programs\\python\\python312\\lib\\site-packages (from statsmodels) (1.13.1)\n",
      "Requirement already satisfied: pandas!=2.1.0,>=1.4 in c:\\users\\telis\\appdata\\local\\programs\\python\\python312\\lib\\site-packages (from statsmodels) (2.2.2)\n",
      "Requirement already satisfied: patsy>=0.5.6 in c:\\users\\telis\\appdata\\local\\programs\\python\\python312\\lib\\site-packages (from statsmodels) (0.5.6)\n",
      "Requirement already satisfied: packaging>=21.3 in c:\\users\\telis\\appdata\\roaming\\python\\python312\\site-packages (from statsmodels) (24.0)\n",
      "Requirement already satisfied: python-dateutil>=2.8.2 in c:\\users\\telis\\appdata\\roaming\\python\\python312\\site-packages (from pandas!=2.1.0,>=1.4->statsmodels) (2.9.0.post0)\n",
      "Requirement already satisfied: pytz>=2020.1 in c:\\users\\telis\\appdata\\local\\programs\\python\\python312\\lib\\site-packages (from pandas!=2.1.0,>=1.4->statsmodels) (2024.1)\n",
      "Requirement already satisfied: tzdata>=2022.7 in c:\\users\\telis\\appdata\\local\\programs\\python\\python312\\lib\\site-packages (from pandas!=2.1.0,>=1.4->statsmodels) (2024.1)\n",
      "Requirement already satisfied: six in c:\\users\\telis\\appdata\\roaming\\python\\python312\\site-packages (from patsy>=0.5.6->statsmodels) (1.16.0)\n"
     ]
    },
    {
     "name": "stderr",
     "output_type": "stream",
     "text": [
      "\n",
      "[notice] A new release of pip is available: 25.0 -> 25.1.1\n",
      "[notice] To update, run: python.exe -m pip install --upgrade pip\n"
     ]
    },
    {
     "name": "stdout",
     "output_type": "stream",
     "text": [
      "Requirement already satisfied: comet_ml in c:\\users\\telis\\appdata\\local\\programs\\python\\python312\\lib\\site-packages (3.45.0)\n",
      "Requirement already satisfied: everett<3.2.0,>=1.0.1 in c:\\users\\telis\\appdata\\local\\programs\\python\\python312\\lib\\site-packages (from everett[ini]<3.2.0,>=1.0.1->comet_ml) (3.1.0)\n",
      "Requirement already satisfied: jsonschema!=3.1.0,>=2.6.0 in c:\\users\\telis\\appdata\\local\\programs\\python\\python312\\lib\\site-packages (from comet_ml) (4.22.0)\n",
      "Requirement already satisfied: psutil>=5.6.3 in c:\\users\\telis\\appdata\\roaming\\python\\python312\\site-packages (from comet_ml) (5.9.8)\n",
      "Requirement already satisfied: python-box<7.0.0 in c:\\users\\telis\\appdata\\local\\programs\\python\\python312\\lib\\site-packages (from comet_ml) (6.1.0)\n",
      "Requirement already satisfied: requests-toolbelt>=0.8.0 in c:\\users\\telis\\appdata\\local\\programs\\python\\python312\\lib\\site-packages (from comet_ml) (1.0.0)\n",
      "Requirement already satisfied: requests>=2.18.4 in c:\\users\\telis\\appdata\\local\\programs\\python\\python312\\lib\\site-packages (from comet_ml) (2.31.0)\n",
      "Requirement already satisfied: semantic-version>=2.8.0 in c:\\users\\telis\\appdata\\local\\programs\\python\\python312\\lib\\site-packages (from comet_ml) (2.10.0)\n",
      "Requirement already satisfied: sentry-sdk>=1.1.0 in c:\\users\\telis\\appdata\\local\\programs\\python\\python312\\lib\\site-packages (from comet_ml) (2.14.0)\n",
      "Requirement already satisfied: simplejson in c:\\users\\telis\\appdata\\local\\programs\\python\\python312\\lib\\site-packages (from comet_ml) (3.19.3)\n",
      "Requirement already satisfied: urllib3>=1.21.1 in c:\\users\\telis\\appdata\\local\\programs\\python\\python312\\lib\\site-packages (from comet_ml) (2.2.1)\n",
      "Requirement already satisfied: wrapt>=1.11.2 in c:\\users\\telis\\appdata\\local\\programs\\python\\python312\\lib\\site-packages (from comet_ml) (1.16.0)\n",
      "Requirement already satisfied: wurlitzer>=1.0.2 in c:\\users\\telis\\appdata\\local\\programs\\python\\python312\\lib\\site-packages (from comet_ml) (3.1.1)\n",
      "Requirement already satisfied: dulwich!=0.20.33,>=0.20.6 in c:\\users\\telis\\appdata\\local\\programs\\python\\python312\\lib\\site-packages (from comet_ml) (0.22.1)\n",
      "Requirement already satisfied: setuptools in c:\\users\\telis\\appdata\\local\\programs\\python\\python312\\lib\\site-packages (from comet_ml) (80.7.1)\n",
      "Requirement already satisfied: rich>=13.3.2 in c:\\users\\telis\\appdata\\local\\programs\\python\\python312\\lib\\site-packages (from comet_ml) (13.8.0)\n",
      "Requirement already satisfied: configobj in c:\\users\\telis\\appdata\\local\\programs\\python\\python312\\lib\\site-packages (from everett[ini]<3.2.0,>=1.0.1->comet_ml) (5.0.8)\n",
      "Requirement already satisfied: attrs>=22.2.0 in c:\\users\\telis\\appdata\\local\\programs\\python\\python312\\lib\\site-packages (from jsonschema!=3.1.0,>=2.6.0->comet_ml) (23.2.0)\n",
      "Requirement already satisfied: jsonschema-specifications>=2023.03.6 in c:\\users\\telis\\appdata\\local\\programs\\python\\python312\\lib\\site-packages (from jsonschema!=3.1.0,>=2.6.0->comet_ml) (2023.12.1)\n",
      "Requirement already satisfied: referencing>=0.28.4 in c:\\users\\telis\\appdata\\local\\programs\\python\\python312\\lib\\site-packages (from jsonschema!=3.1.0,>=2.6.0->comet_ml) (0.35.1)\n",
      "Requirement already satisfied: rpds-py>=0.7.1 in c:\\users\\telis\\appdata\\local\\programs\\python\\python312\\lib\\site-packages (from jsonschema!=3.1.0,>=2.6.0->comet_ml) (0.18.1)\n",
      "Requirement already satisfied: charset-normalizer<4,>=2 in c:\\users\\telis\\appdata\\local\\programs\\python\\python312\\lib\\site-packages (from requests>=2.18.4->comet_ml) (3.3.2)\n",
      "Requirement already satisfied: idna<4,>=2.5 in c:\\users\\telis\\appdata\\local\\programs\\python\\python312\\lib\\site-packages (from requests>=2.18.4->comet_ml) (3.7)\n",
      "Requirement already satisfied: certifi>=2017.4.17 in c:\\users\\telis\\appdata\\local\\programs\\python\\python312\\lib\\site-packages (from requests>=2.18.4->comet_ml) (2024.2.2)\n",
      "Requirement already satisfied: markdown-it-py>=2.2.0 in c:\\users\\telis\\appdata\\local\\programs\\python\\python312\\lib\\site-packages (from rich>=13.3.2->comet_ml) (3.0.0)\n",
      "Requirement already satisfied: pygments<3.0.0,>=2.13.0 in c:\\users\\telis\\appdata\\roaming\\python\\python312\\site-packages (from rich>=13.3.2->comet_ml) (2.18.0)\n",
      "Requirement already satisfied: mdurl~=0.1 in c:\\users\\telis\\appdata\\local\\programs\\python\\python312\\lib\\site-packages (from markdown-it-py>=2.2.0->rich>=13.3.2->comet_ml) (0.1.2)\n",
      "Requirement already satisfied: six in c:\\users\\telis\\appdata\\roaming\\python\\python312\\site-packages (from configobj->everett[ini]<3.2.0,>=1.0.1->comet_ml) (1.16.0)\n"
     ]
    },
    {
     "name": "stderr",
     "output_type": "stream",
     "text": [
      "\n",
      "[notice] A new release of pip is available: 25.0 -> 25.1.1\n",
      "[notice] To update, run: python.exe -m pip install --upgrade pip\n"
     ]
    },
    {
     "name": "stdout",
     "output_type": "stream",
     "text": [
      "Requirement already satisfied: nltk in c:\\users\\telis\\appdata\\local\\programs\\python\\python312\\lib\\site-packages (3.9.1)\n",
      "Requirement already satisfied: click in c:\\users\\telis\\appdata\\local\\programs\\python\\python312\\lib\\site-packages (from nltk) (8.1.7)\n",
      "Requirement already satisfied: joblib in c:\\users\\telis\\appdata\\local\\programs\\python\\python312\\lib\\site-packages (from nltk) (1.4.2)\n",
      "Requirement already satisfied: regex>=2021.8.3 in c:\\users\\telis\\appdata\\local\\programs\\python\\python312\\lib\\site-packages (from nltk) (2024.9.11)\n",
      "Requirement already satisfied: tqdm in c:\\users\\telis\\appdata\\local\\programs\\python\\python312\\lib\\site-packages (from nltk) (4.66.4)\n",
      "Requirement already satisfied: colorama in c:\\users\\telis\\appdata\\roaming\\python\\python312\\site-packages (from click->nltk) (0.4.6)\n"
     ]
    },
    {
     "name": "stderr",
     "output_type": "stream",
     "text": [
      "\n",
      "[notice] A new release of pip is available: 25.0 -> 25.1.1\n",
      "[notice] To update, run: python.exe -m pip install --upgrade pip\n"
     ]
    },
    {
     "name": "stdout",
     "output_type": "stream",
     "text": [
      "Requirement already satisfied: xgboost in c:\\users\\telis\\appdata\\local\\programs\\python\\python312\\lib\\site-packages (2.1.1)\n",
      "Requirement already satisfied: numpy in c:\\users\\telis\\appdata\\local\\programs\\python\\python312\\lib\\site-packages (from xgboost) (1.26.4)\n",
      "Requirement already satisfied: scipy in c:\\users\\telis\\appdata\\local\\programs\\python\\python312\\lib\\site-packages (from xgboost) (1.13.1)\n"
     ]
    },
    {
     "name": "stderr",
     "output_type": "stream",
     "text": [
      "\n",
      "[notice] A new release of pip is available: 25.0 -> 25.1.1\n",
      "[notice] To update, run: python.exe -m pip install --upgrade pip\n"
     ]
    },
    {
     "name": "stdout",
     "output_type": "stream",
     "text": [
      "Requirement already satisfied: textblob in c:\\users\\telis\\appdata\\local\\programs\\python\\python312\\lib\\site-packages (0.18.0.post0)\n",
      "Requirement already satisfied: nltk>=3.8 in c:\\users\\telis\\appdata\\local\\programs\\python\\python312\\lib\\site-packages (from textblob) (3.9.1)\n",
      "Requirement already satisfied: click in c:\\users\\telis\\appdata\\local\\programs\\python\\python312\\lib\\site-packages (from nltk>=3.8->textblob) (8.1.7)\n",
      "Requirement already satisfied: joblib in c:\\users\\telis\\appdata\\local\\programs\\python\\python312\\lib\\site-packages (from nltk>=3.8->textblob) (1.4.2)\n",
      "Requirement already satisfied: regex>=2021.8.3 in c:\\users\\telis\\appdata\\local\\programs\\python\\python312\\lib\\site-packages (from nltk>=3.8->textblob) (2024.9.11)\n",
      "Requirement already satisfied: tqdm in c:\\users\\telis\\appdata\\local\\programs\\python\\python312\\lib\\site-packages (from nltk>=3.8->textblob) (4.66.4)\n",
      "Requirement already satisfied: colorama in c:\\users\\telis\\appdata\\roaming\\python\\python312\\site-packages (from click->nltk>=3.8->textblob) (0.4.6)\n"
     ]
    },
    {
     "name": "stderr",
     "output_type": "stream",
     "text": [
      "\n",
      "[notice] A new release of pip is available: 25.0 -> 25.1.1\n",
      "[notice] To update, run: python.exe -m pip install --upgrade pip\n"
     ]
    },
    {
     "name": "stdout",
     "output_type": "stream",
     "text": [
      "Requirement already satisfied: clustergram in c:\\users\\telis\\appdata\\local\\programs\\python\\python312\\lib\\site-packages (0.8.1)\n",
      "Requirement already satisfied: pandas in c:\\users\\telis\\appdata\\local\\programs\\python\\python312\\lib\\site-packages (from clustergram) (2.2.2)\n",
      "Requirement already satisfied: numpy in c:\\users\\telis\\appdata\\local\\programs\\python\\python312\\lib\\site-packages (from clustergram) (1.26.4)\n",
      "Requirement already satisfied: matplotlib in c:\\users\\telis\\appdata\\local\\programs\\python\\python312\\lib\\site-packages (from clustergram) (3.8.4)\n",
      "Requirement already satisfied: contourpy>=1.0.1 in c:\\users\\telis\\appdata\\local\\programs\\python\\python312\\lib\\site-packages (from matplotlib->clustergram) (1.2.1)\n",
      "Requirement already satisfied: cycler>=0.10 in c:\\users\\telis\\appdata\\local\\programs\\python\\python312\\lib\\site-packages (from matplotlib->clustergram) (0.12.1)\n",
      "Requirement already satisfied: fonttools>=4.22.0 in c:\\users\\telis\\appdata\\local\\programs\\python\\python312\\lib\\site-packages (from matplotlib->clustergram) (4.51.0)\n",
      "Requirement already satisfied: kiwisolver>=1.3.1 in c:\\users\\telis\\appdata\\local\\programs\\python\\python312\\lib\\site-packages (from matplotlib->clustergram) (1.4.5)\n",
      "Requirement already satisfied: packaging>=20.0 in c:\\users\\telis\\appdata\\roaming\\python\\python312\\site-packages (from matplotlib->clustergram) (24.0)\n",
      "Requirement already satisfied: pillow>=8 in c:\\users\\telis\\appdata\\local\\programs\\python\\python312\\lib\\site-packages (from matplotlib->clustergram) (10.3.0)\n",
      "Requirement already satisfied: pyparsing>=2.3.1 in c:\\users\\telis\\appdata\\local\\programs\\python\\python312\\lib\\site-packages (from matplotlib->clustergram) (3.1.2)\n",
      "Requirement already satisfied: python-dateutil>=2.7 in c:\\users\\telis\\appdata\\roaming\\python\\python312\\site-packages (from matplotlib->clustergram) (2.9.0.post0)\n",
      "Requirement already satisfied: pytz>=2020.1 in c:\\users\\telis\\appdata\\local\\programs\\python\\python312\\lib\\site-packages (from pandas->clustergram) (2024.1)\n",
      "Requirement already satisfied: tzdata>=2022.7 in c:\\users\\telis\\appdata\\local\\programs\\python\\python312\\lib\\site-packages (from pandas->clustergram) (2024.1)\n",
      "Requirement already satisfied: six>=1.5 in c:\\users\\telis\\appdata\\roaming\\python\\python312\\site-packages (from python-dateutil>=2.7->matplotlib->clustergram) (1.16.0)\n"
     ]
    },
    {
     "name": "stderr",
     "output_type": "stream",
     "text": [
      "\n",
      "[notice] A new release of pip is available: 25.0 -> 25.1.1\n",
      "[notice] To update, run: python.exe -m pip install --upgrade pip\n"
     ]
    },
    {
     "name": "stdout",
     "output_type": "stream",
     "text": [
      "Requirement already satisfied: imbalanced-learn in c:\\users\\telis\\appdata\\local\\programs\\python\\python312\\lib\\site-packages (0.12.4)\n",
      "Requirement already satisfied: numpy>=1.17.3 in c:\\users\\telis\\appdata\\local\\programs\\python\\python312\\lib\\site-packages (from imbalanced-learn) (1.26.4)\n",
      "Requirement already satisfied: scipy>=1.5.0 in c:\\users\\telis\\appdata\\local\\programs\\python\\python312\\lib\\site-packages (from imbalanced-learn) (1.13.1)\n",
      "Requirement already satisfied: scikit-learn>=1.0.2 in c:\\users\\telis\\appdata\\local\\programs\\python\\python312\\lib\\site-packages (from imbalanced-learn) (1.5.2)\n",
      "Requirement already satisfied: joblib>=1.1.1 in c:\\users\\telis\\appdata\\local\\programs\\python\\python312\\lib\\site-packages (from imbalanced-learn) (1.4.2)\n",
      "Requirement already satisfied: threadpoolctl>=2.0.0 in c:\\users\\telis\\appdata\\local\\programs\\python\\python312\\lib\\site-packages (from imbalanced-learn) (3.5.0)\n"
     ]
    },
    {
     "name": "stderr",
     "output_type": "stream",
     "text": [
      "\n",
      "[notice] A new release of pip is available: 25.0 -> 25.1.1\n",
      "[notice] To update, run: python.exe -m pip install --upgrade pip\n"
     ]
    },
    {
     "name": "stdout",
     "output_type": "stream",
     "text": [
      "Requirement already satisfied: langdetect in c:\\users\\telis\\appdata\\local\\programs\\python\\python312\\lib\\site-packages (1.0.9)\n",
      "Requirement already satisfied: six in c:\\users\\telis\\appdata\\roaming\\python\\python312\\site-packages (from langdetect) (1.16.0)\n"
     ]
    },
    {
     "name": "stderr",
     "output_type": "stream",
     "text": [
      "\n",
      "[notice] A new release of pip is available: 25.0 -> 25.1.1\n",
      "[notice] To update, run: python.exe -m pip install --upgrade pip\n"
     ]
    },
    {
     "name": "stdout",
     "output_type": "stream",
     "text": [
      "Requirement already satisfied: tensorflow in c:\\users\\telis\\appdata\\local\\programs\\python\\python312\\lib\\site-packages (2.18.0)\n",
      "Requirement already satisfied: tensorflow-intel==2.18.0 in c:\\users\\telis\\appdata\\local\\programs\\python\\python312\\lib\\site-packages (from tensorflow) (2.18.0)\n",
      "Requirement already satisfied: absl-py>=1.0.0 in c:\\users\\telis\\appdata\\local\\programs\\python\\python312\\lib\\site-packages (from tensorflow-intel==2.18.0->tensorflow) (2.1.0)\n",
      "Requirement already satisfied: astunparse>=1.6.0 in c:\\users\\telis\\appdata\\local\\programs\\python\\python312\\lib\\site-packages (from tensorflow-intel==2.18.0->tensorflow) (1.6.3)\n",
      "Requirement already satisfied: flatbuffers>=24.3.25 in c:\\users\\telis\\appdata\\local\\programs\\python\\python312\\lib\\site-packages (from tensorflow-intel==2.18.0->tensorflow) (25.1.21)\n",
      "Requirement already satisfied: gast!=0.5.0,!=0.5.1,!=0.5.2,>=0.2.1 in c:\\users\\telis\\appdata\\local\\programs\\python\\python312\\lib\\site-packages (from tensorflow-intel==2.18.0->tensorflow) (0.6.0)\n",
      "Requirement already satisfied: google-pasta>=0.1.1 in c:\\users\\telis\\appdata\\local\\programs\\python\\python312\\lib\\site-packages (from tensorflow-intel==2.18.0->tensorflow) (0.2.0)\n",
      "Requirement already satisfied: libclang>=13.0.0 in c:\\users\\telis\\appdata\\local\\programs\\python\\python312\\lib\\site-packages (from tensorflow-intel==2.18.0->tensorflow) (18.1.1)\n",
      "Requirement already satisfied: opt-einsum>=2.3.2 in c:\\users\\telis\\appdata\\local\\programs\\python\\python312\\lib\\site-packages (from tensorflow-intel==2.18.0->tensorflow) (3.4.0)\n",
      "Requirement already satisfied: packaging in c:\\users\\telis\\appdata\\roaming\\python\\python312\\site-packages (from tensorflow-intel==2.18.0->tensorflow) (24.0)\n",
      "Requirement already satisfied: protobuf!=4.21.0,!=4.21.1,!=4.21.2,!=4.21.3,!=4.21.4,!=4.21.5,<6.0.0dev,>=3.20.3 in c:\\users\\telis\\appdata\\local\\programs\\python\\python312\\lib\\site-packages (from tensorflow-intel==2.18.0->tensorflow) (5.29.3)\n",
      "Requirement already satisfied: requests<3,>=2.21.0 in c:\\users\\telis\\appdata\\local\\programs\\python\\python312\\lib\\site-packages (from tensorflow-intel==2.18.0->tensorflow) (2.31.0)\n",
      "Requirement already satisfied: setuptools in c:\\users\\telis\\appdata\\local\\programs\\python\\python312\\lib\\site-packages (from tensorflow-intel==2.18.0->tensorflow) (80.7.1)\n",
      "Requirement already satisfied: six>=1.12.0 in c:\\users\\telis\\appdata\\roaming\\python\\python312\\site-packages (from tensorflow-intel==2.18.0->tensorflow) (1.16.0)\n",
      "Requirement already satisfied: termcolor>=1.1.0 in c:\\users\\telis\\appdata\\local\\programs\\python\\python312\\lib\\site-packages (from tensorflow-intel==2.18.0->tensorflow) (2.5.0)\n",
      "Requirement already satisfied: typing-extensions>=3.6.6 in c:\\users\\telis\\appdata\\local\\programs\\python\\python312\\lib\\site-packages (from tensorflow-intel==2.18.0->tensorflow) (4.12.2)\n",
      "Requirement already satisfied: wrapt>=1.11.0 in c:\\users\\telis\\appdata\\local\\programs\\python\\python312\\lib\\site-packages (from tensorflow-intel==2.18.0->tensorflow) (1.16.0)\n",
      "Requirement already satisfied: grpcio<2.0,>=1.24.3 in c:\\users\\telis\\appdata\\local\\programs\\python\\python312\\lib\\site-packages (from tensorflow-intel==2.18.0->tensorflow) (1.70.0)\n",
      "Requirement already satisfied: tensorboard<2.19,>=2.18 in c:\\users\\telis\\appdata\\local\\programs\\python\\python312\\lib\\site-packages (from tensorflow-intel==2.18.0->tensorflow) (2.18.0)\n",
      "Requirement already satisfied: keras>=3.5.0 in c:\\users\\telis\\appdata\\local\\programs\\python\\python312\\lib\\site-packages (from tensorflow-intel==2.18.0->tensorflow) (3.8.0)\n",
      "Requirement already satisfied: numpy<2.1.0,>=1.26.0 in c:\\users\\telis\\appdata\\local\\programs\\python\\python312\\lib\\site-packages (from tensorflow-intel==2.18.0->tensorflow) (1.26.4)\n",
      "Requirement already satisfied: h5py>=3.11.0 in c:\\users\\telis\\appdata\\local\\programs\\python\\python312\\lib\\site-packages (from tensorflow-intel==2.18.0->tensorflow) (3.12.1)\n",
      "Requirement already satisfied: ml-dtypes<0.5.0,>=0.4.0 in c:\\users\\telis\\appdata\\local\\programs\\python\\python312\\lib\\site-packages (from tensorflow-intel==2.18.0->tensorflow) (0.4.1)\n",
      "Requirement already satisfied: wheel<1.0,>=0.23.0 in c:\\users\\telis\\appdata\\local\\programs\\python\\python312\\lib\\site-packages (from astunparse>=1.6.0->tensorflow-intel==2.18.0->tensorflow) (0.45.1)\n",
      "Requirement already satisfied: rich in c:\\users\\telis\\appdata\\local\\programs\\python\\python312\\lib\\site-packages (from keras>=3.5.0->tensorflow-intel==2.18.0->tensorflow) (13.8.0)\n",
      "Requirement already satisfied: namex in c:\\users\\telis\\appdata\\local\\programs\\python\\python312\\lib\\site-packages (from keras>=3.5.0->tensorflow-intel==2.18.0->tensorflow) (0.0.8)\n",
      "Requirement already satisfied: optree in c:\\users\\telis\\appdata\\local\\programs\\python\\python312\\lib\\site-packages (from keras>=3.5.0->tensorflow-intel==2.18.0->tensorflow) (0.14.0)\n",
      "Requirement already satisfied: charset-normalizer<4,>=2 in c:\\users\\telis\\appdata\\local\\programs\\python\\python312\\lib\\site-packages (from requests<3,>=2.21.0->tensorflow-intel==2.18.0->tensorflow) (3.3.2)\n",
      "Requirement already satisfied: idna<4,>=2.5 in c:\\users\\telis\\appdata\\local\\programs\\python\\python312\\lib\\site-packages (from requests<3,>=2.21.0->tensorflow-intel==2.18.0->tensorflow) (3.7)\n",
      "Requirement already satisfied: urllib3<3,>=1.21.1 in c:\\users\\telis\\appdata\\local\\programs\\python\\python312\\lib\\site-packages (from requests<3,>=2.21.0->tensorflow-intel==2.18.0->tensorflow) (2.2.1)\n",
      "Requirement already satisfied: certifi>=2017.4.17 in c:\\users\\telis\\appdata\\local\\programs\\python\\python312\\lib\\site-packages (from requests<3,>=2.21.0->tensorflow-intel==2.18.0->tensorflow) (2024.2.2)\n",
      "Requirement already satisfied: markdown>=2.6.8 in c:\\users\\telis\\appdata\\local\\programs\\python\\python312\\lib\\site-packages (from tensorboard<2.19,>=2.18->tensorflow-intel==2.18.0->tensorflow) (3.7)\n",
      "Requirement already satisfied: tensorboard-data-server<0.8.0,>=0.7.0 in c:\\users\\telis\\appdata\\local\\programs\\python\\python312\\lib\\site-packages (from tensorboard<2.19,>=2.18->tensorflow-intel==2.18.0->tensorflow) (0.7.2)\n",
      "Requirement already satisfied: werkzeug>=1.0.1 in c:\\users\\telis\\appdata\\local\\programs\\python\\python312\\lib\\site-packages (from tensorboard<2.19,>=2.18->tensorflow-intel==2.18.0->tensorflow) (3.0.3)\n",
      "Requirement already satisfied: MarkupSafe>=2.1.1 in c:\\users\\telis\\appdata\\local\\programs\\python\\python312\\lib\\site-packages (from werkzeug>=1.0.1->tensorboard<2.19,>=2.18->tensorflow-intel==2.18.0->tensorflow) (2.1.5)\n",
      "Requirement already satisfied: markdown-it-py>=2.2.0 in c:\\users\\telis\\appdata\\local\\programs\\python\\python312\\lib\\site-packages (from rich->keras>=3.5.0->tensorflow-intel==2.18.0->tensorflow) (3.0.0)\n",
      "Requirement already satisfied: pygments<3.0.0,>=2.13.0 in c:\\users\\telis\\appdata\\roaming\\python\\python312\\site-packages (from rich->keras>=3.5.0->tensorflow-intel==2.18.0->tensorflow) (2.18.0)\n",
      "Requirement already satisfied: mdurl~=0.1 in c:\\users\\telis\\appdata\\local\\programs\\python\\python312\\lib\\site-packages (from markdown-it-py>=2.2.0->rich->keras>=3.5.0->tensorflow-intel==2.18.0->tensorflow) (0.1.2)\n"
     ]
    },
    {
     "name": "stderr",
     "output_type": "stream",
     "text": [
      "\n",
      "[notice] A new release of pip is available: 25.0 -> 25.1.1\n",
      "[notice] To update, run: python.exe -m pip install --upgrade pip\n"
     ]
    },
    {
     "name": "stdout",
     "output_type": "stream",
     "text": [
      "Requirement already satisfied: geopy in c:\\users\\telis\\appdata\\local\\programs\\python\\python312\\lib\\site-packages (2.4.1)\n",
      "Requirement already satisfied: geographiclib<3,>=1.52 in c:\\users\\telis\\appdata\\local\\programs\\python\\python312\\lib\\site-packages (from geopy) (2.0)\n"
     ]
    },
    {
     "name": "stderr",
     "output_type": "stream",
     "text": [
      "\n",
      "[notice] A new release of pip is available: 25.0 -> 25.1.1\n",
      "[notice] To update, run: python.exe -m pip install --upgrade pip\n"
     ]
    },
    {
     "name": "stdout",
     "output_type": "stream",
     "text": [
      "Requirement already satisfied: geopandas in c:\\users\\telis\\appdata\\local\\programs\\python\\python312\\lib\\site-packages (1.0.1)\n",
      "Requirement already satisfied: numpy>=1.22 in c:\\users\\telis\\appdata\\local\\programs\\python\\python312\\lib\\site-packages (from geopandas) (1.26.4)\n",
      "Requirement already satisfied: pyogrio>=0.7.2 in c:\\users\\telis\\appdata\\local\\programs\\python\\python312\\lib\\site-packages (from geopandas) (0.10.0)\n",
      "Requirement already satisfied: packaging in c:\\users\\telis\\appdata\\roaming\\python\\python312\\site-packages (from geopandas) (24.0)\n",
      "Requirement already satisfied: pandas>=1.4.0 in c:\\users\\telis\\appdata\\local\\programs\\python\\python312\\lib\\site-packages (from geopandas) (2.2.2)\n",
      "Requirement already satisfied: pyproj>=3.3.0 in c:\\users\\telis\\appdata\\local\\programs\\python\\python312\\lib\\site-packages (from geopandas) (3.7.0)\n",
      "Requirement already satisfied: shapely>=2.0.0 in c:\\users\\telis\\appdata\\local\\programs\\python\\python312\\lib\\site-packages (from geopandas) (2.0.7)\n",
      "Requirement already satisfied: python-dateutil>=2.8.2 in c:\\users\\telis\\appdata\\roaming\\python\\python312\\site-packages (from pandas>=1.4.0->geopandas) (2.9.0.post0)\n",
      "Requirement already satisfied: pytz>=2020.1 in c:\\users\\telis\\appdata\\local\\programs\\python\\python312\\lib\\site-packages (from pandas>=1.4.0->geopandas) (2024.1)\n",
      "Requirement already satisfied: tzdata>=2022.7 in c:\\users\\telis\\appdata\\local\\programs\\python\\python312\\lib\\site-packages (from pandas>=1.4.0->geopandas) (2024.1)\n",
      "Requirement already satisfied: certifi in c:\\users\\telis\\appdata\\local\\programs\\python\\python312\\lib\\site-packages (from pyogrio>=0.7.2->geopandas) (2024.2.2)\n",
      "Requirement already satisfied: six>=1.5 in c:\\users\\telis\\appdata\\roaming\\python\\python312\\site-packages (from python-dateutil>=2.8.2->pandas>=1.4.0->geopandas) (1.16.0)\n"
     ]
    },
    {
     "name": "stderr",
     "output_type": "stream",
     "text": [
      "\n",
      "[notice] A new release of pip is available: 25.0 -> 25.1.1\n",
      "[notice] To update, run: python.exe -m pip install --upgrade pip\n"
     ]
    },
    {
     "name": "stdout",
     "output_type": "stream",
     "text": [
      "Requirement already satisfied: shapely in c:\\users\\telis\\appdata\\local\\programs\\python\\python312\\lib\\site-packages (2.0.7)\n",
      "Requirement already satisfied: numpy<3,>=1.14 in c:\\users\\telis\\appdata\\local\\programs\\python\\python312\\lib\\site-packages (from shapely) (1.26.4)\n"
     ]
    },
    {
     "name": "stderr",
     "output_type": "stream",
     "text": [
      "\n",
      "[notice] A new release of pip is available: 25.0 -> 25.1.1\n",
      "[notice] To update, run: python.exe -m pip install --upgrade pip\n"
     ]
    },
    {
     "name": "stdout",
     "output_type": "stream",
     "text": [
      "Requirement already satisfied: hyperopt in c:\\users\\telis\\appdata\\local\\programs\\python\\python312\\lib\\site-packages (0.2.7)\n",
      "Requirement already satisfied: numpy in c:\\users\\telis\\appdata\\local\\programs\\python\\python312\\lib\\site-packages (from hyperopt) (1.26.4)\n",
      "Requirement already satisfied: scipy in c:\\users\\telis\\appdata\\local\\programs\\python\\python312\\lib\\site-packages (from hyperopt) (1.13.1)\n",
      "Requirement already satisfied: six in c:\\users\\telis\\appdata\\roaming\\python\\python312\\site-packages (from hyperopt) (1.16.0)\n",
      "Requirement already satisfied: networkx>=2.2 in c:\\users\\telis\\appdata\\local\\programs\\python\\python312\\lib\\site-packages (from hyperopt) (3.3)\n",
      "Requirement already satisfied: future in c:\\users\\telis\\appdata\\local\\programs\\python\\python312\\lib\\site-packages (from hyperopt) (1.0.0)\n",
      "Requirement already satisfied: tqdm in c:\\users\\telis\\appdata\\local\\programs\\python\\python312\\lib\\site-packages (from hyperopt) (4.66.4)\n",
      "Requirement already satisfied: cloudpickle in c:\\users\\telis\\appdata\\local\\programs\\python\\python312\\lib\\site-packages (from hyperopt) (3.1.1)\n",
      "Requirement already satisfied: py4j in c:\\users\\telis\\appdata\\local\\programs\\python\\python312\\lib\\site-packages (from hyperopt) (0.10.9.9)\n",
      "Requirement already satisfied: colorama in c:\\users\\telis\\appdata\\roaming\\python\\python312\\site-packages (from tqdm->hyperopt) (0.4.6)\n"
     ]
    },
    {
     "name": "stderr",
     "output_type": "stream",
     "text": [
      "\n",
      "[notice] A new release of pip is available: 25.0 -> 25.1.1\n",
      "[notice] To update, run: python.exe -m pip install --upgrade pip\n"
     ]
    },
    {
     "name": "stdout",
     "output_type": "stream",
     "text": [
      "Requirement already satisfied: optuna in c:\\users\\telis\\appdata\\local\\programs\\python\\python312\\lib\\site-packages (4.2.0)\n",
      "Requirement already satisfied: alembic>=1.5.0 in c:\\users\\telis\\appdata\\local\\programs\\python\\python312\\lib\\site-packages (from optuna) (1.14.1)\n",
      "Requirement already satisfied: colorlog in c:\\users\\telis\\appdata\\local\\programs\\python\\python312\\lib\\site-packages (from optuna) (6.9.0)\n",
      "Requirement already satisfied: numpy in c:\\users\\telis\\appdata\\local\\programs\\python\\python312\\lib\\site-packages (from optuna) (1.26.4)\n",
      "Requirement already satisfied: packaging>=20.0 in c:\\users\\telis\\appdata\\roaming\\python\\python312\\site-packages (from optuna) (24.0)\n",
      "Requirement already satisfied: sqlalchemy>=1.4.2 in c:\\users\\telis\\appdata\\local\\programs\\python\\python312\\lib\\site-packages (from optuna) (2.0.37)\n",
      "Requirement already satisfied: tqdm in c:\\users\\telis\\appdata\\local\\programs\\python\\python312\\lib\\site-packages (from optuna) (4.66.4)\n",
      "Requirement already satisfied: PyYAML in c:\\users\\telis\\appdata\\local\\programs\\python\\python312\\lib\\site-packages (from optuna) (6.0.1)\n",
      "Requirement already satisfied: Mako in c:\\users\\telis\\appdata\\local\\programs\\python\\python312\\lib\\site-packages (from alembic>=1.5.0->optuna) (1.3.8)\n",
      "Requirement already satisfied: typing-extensions>=4 in c:\\users\\telis\\appdata\\local\\programs\\python\\python312\\lib\\site-packages (from alembic>=1.5.0->optuna) (4.12.2)\n",
      "Requirement already satisfied: greenlet!=0.4.17 in c:\\users\\telis\\appdata\\local\\programs\\python\\python312\\lib\\site-packages (from sqlalchemy>=1.4.2->optuna) (3.1.1)\n",
      "Requirement already satisfied: colorama in c:\\users\\telis\\appdata\\roaming\\python\\python312\\site-packages (from colorlog->optuna) (0.4.6)\n",
      "Requirement already satisfied: MarkupSafe>=0.9.2 in c:\\users\\telis\\appdata\\local\\programs\\python\\python312\\lib\\site-packages (from Mako->alembic>=1.5.0->optuna) (2.1.5)\n"
     ]
    },
    {
     "name": "stderr",
     "output_type": "stream",
     "text": [
      "\n",
      "[notice] A new release of pip is available: 25.0 -> 25.1.1\n",
      "[notice] To update, run: python.exe -m pip install --upgrade pip\n"
     ]
    },
    {
     "name": "stdout",
     "output_type": "stream",
     "text": [
      "Requirement already satisfied: joblib in c:\\users\\telis\\appdata\\local\\programs\\python\\python312\\lib\\site-packages (1.4.2)\n"
     ]
    },
    {
     "name": "stderr",
     "output_type": "stream",
     "text": [
      "\n",
      "[notice] A new release of pip is available: 25.0 -> 25.1.1\n",
      "[notice] To update, run: python.exe -m pip install --upgrade pip\n"
     ]
    },
    {
     "name": "stdout",
     "output_type": "stream",
     "text": [
      "Requirement already satisfied: yellowbrick in c:\\users\\telis\\appdata\\local\\programs\\python\\python312\\lib\\site-packages (1.5)\n",
      "Requirement already satisfied: matplotlib!=3.0.0,>=2.0.2 in c:\\users\\telis\\appdata\\local\\programs\\python\\python312\\lib\\site-packages (from yellowbrick) (3.8.4)\n",
      "Requirement already satisfied: scipy>=1.0.0 in c:\\users\\telis\\appdata\\local\\programs\\python\\python312\\lib\\site-packages (from yellowbrick) (1.13.1)\n",
      "Requirement already satisfied: scikit-learn>=1.0.0 in c:\\users\\telis\\appdata\\local\\programs\\python\\python312\\lib\\site-packages (from yellowbrick) (1.5.2)\n",
      "Requirement already satisfied: numpy>=1.16.0 in c:\\users\\telis\\appdata\\local\\programs\\python\\python312\\lib\\site-packages (from yellowbrick) (1.26.4)\n",
      "Requirement already satisfied: cycler>=0.10.0 in c:\\users\\telis\\appdata\\local\\programs\\python\\python312\\lib\\site-packages (from yellowbrick) (0.12.1)\n",
      "Requirement already satisfied: contourpy>=1.0.1 in c:\\users\\telis\\appdata\\local\\programs\\python\\python312\\lib\\site-packages (from matplotlib!=3.0.0,>=2.0.2->yellowbrick) (1.2.1)\n",
      "Requirement already satisfied: fonttools>=4.22.0 in c:\\users\\telis\\appdata\\local\\programs\\python\\python312\\lib\\site-packages (from matplotlib!=3.0.0,>=2.0.2->yellowbrick) (4.51.0)\n",
      "Requirement already satisfied: kiwisolver>=1.3.1 in c:\\users\\telis\\appdata\\local\\programs\\python\\python312\\lib\\site-packages (from matplotlib!=3.0.0,>=2.0.2->yellowbrick) (1.4.5)\n",
      "Requirement already satisfied: packaging>=20.0 in c:\\users\\telis\\appdata\\roaming\\python\\python312\\site-packages (from matplotlib!=3.0.0,>=2.0.2->yellowbrick) (24.0)\n",
      "Requirement already satisfied: pillow>=8 in c:\\users\\telis\\appdata\\local\\programs\\python\\python312\\lib\\site-packages (from matplotlib!=3.0.0,>=2.0.2->yellowbrick) (10.3.0)\n",
      "Requirement already satisfied: pyparsing>=2.3.1 in c:\\users\\telis\\appdata\\local\\programs\\python\\python312\\lib\\site-packages (from matplotlib!=3.0.0,>=2.0.2->yellowbrick) (3.1.2)\n",
      "Requirement already satisfied: python-dateutil>=2.7 in c:\\users\\telis\\appdata\\roaming\\python\\python312\\site-packages (from matplotlib!=3.0.0,>=2.0.2->yellowbrick) (2.9.0.post0)\n",
      "Requirement already satisfied: joblib>=1.2.0 in c:\\users\\telis\\appdata\\local\\programs\\python\\python312\\lib\\site-packages (from scikit-learn>=1.0.0->yellowbrick) (1.4.2)\n",
      "Requirement already satisfied: threadpoolctl>=3.1.0 in c:\\users\\telis\\appdata\\local\\programs\\python\\python312\\lib\\site-packages (from scikit-learn>=1.0.0->yellowbrick) (3.5.0)\n",
      "Requirement already satisfied: six>=1.5 in c:\\users\\telis\\appdata\\roaming\\python\\python312\\site-packages (from python-dateutil>=2.7->matplotlib!=3.0.0,>=2.0.2->yellowbrick) (1.16.0)\n"
     ]
    },
    {
     "name": "stderr",
     "output_type": "stream",
     "text": [
      "\n",
      "[notice] A new release of pip is available: 25.0 -> 25.1.1\n",
      "[notice] To update, run: python.exe -m pip install --upgrade pip\n"
     ]
    },
    {
     "name": "stdout",
     "output_type": "stream",
     "text": [
      "Collecting simpy\n",
      "  Downloading simpy-4.1.1-py3-none-any.whl.metadata (6.1 kB)\n",
      "Downloading simpy-4.1.1-py3-none-any.whl (27 kB)\n",
      "Installing collected packages: simpy\n",
      "Successfully installed simpy-4.1.1\n"
     ]
    },
    {
     "name": "stderr",
     "output_type": "stream",
     "text": [
      "\n",
      "[notice] A new release of pip is available: 25.0 -> 25.1.1\n",
      "[notice] To update, run: python.exe -m pip install --upgrade pip\n"
     ]
    }
   ],
   "source": [
    "\n",
    "!pip install numpy\n",
    "!pip install pandas\n",
    "!pip install plotly\n",
    "!pip install seaborn\n",
    "!pip install matplotlib\n",
    "!pip install beautifulsoup4\n",
    "!pip install requests\n",
    "!pip install json\n",
    "!pip install chardet\n",
    "!pip install schedule\n",
    "!pip install psycopg2\n",
    "!pip install --upgrade nbformat\n",
    "!pip install --upgrade setuptools\n",
    "!pip install -U ydata-profiling\n",
    "!pip install ipywidgets\n",
    "!pip install sweetviz\n",
    "!pip install dtale\n",
    "!pip install statistics\n",
    "!pip install scikit-learn\n",
    "!pip install category_encoders\n",
    "!pip install scipy\n",
    "!pip install statsmodels\n",
    "!pip install comet_ml\n",
    "!pip install nltk\n",
    "!pip install xgboost\n",
    "!pip install textblob\n",
    "!pip install clustergram\n",
    "!pip install imbalanced-learn\n",
    "!pip install langdetect\n",
    "!pip install tensorflow\n",
    "# !pip3 install torch torchvision torchaudio --index-url https://download.pytorch.org/whl/cu124\n",
    "!pip install geopy\n",
    "!pip install geopandas\n",
    "!pip install shapely\n",
    "!pip install hyperopt\n",
    "!pip install optuna\n",
    "!pip install joblib\n",
    "!pip install yellowbrick\n",
    "!pip install sympy"
   ]
  },
  {
   "cell_type": "code",
   "execution_count": null,
   "metadata": {},
   "outputs": [],
   "source": []
  }
 ],
 "metadata": {
  "kernelspec": {
   "display_name": "Python 3",
   "language": "python",
   "name": "python3"
  },
  "language_info": {
   "codemirror_mode": {
    "name": "ipython",
    "version": 3
   },
   "file_extension": ".py",
   "mimetype": "text/x-python",
   "name": "python",
   "nbconvert_exporter": "python",
   "pygments_lexer": "ipython3",
   "version": "3.12.5"
  }
 },
 "nbformat": 4,
 "nbformat_minor": 2
}
