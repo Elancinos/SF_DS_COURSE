{
 "cells": [
  {
   "cell_type": "code",
   "execution_count": 26,
   "metadata": {},
   "outputs": [],
   "source": [
    "import pandas as pd\n",
    "import numpy as np\n",
    "from sklearn import preprocessing as pp\n",
    "import category_encoders as ce\n",
    "import seaborn as sns\n",
    "import matplotlib.pyplot as plt\n",
    "import scipy.stats as stats"
   ]
  },
  {
   "cell_type": "code",
   "execution_count": 27,
   "metadata": {},
   "outputs": [
    {
     "data": {
      "text/html": [
       "<div>\n",
       "<style scoped>\n",
       "    .dataframe tbody tr th:only-of-type {\n",
       "        vertical-align: middle;\n",
       "    }\n",
       "\n",
       "    .dataframe tbody tr th {\n",
       "        vertical-align: top;\n",
       "    }\n",
       "\n",
       "    .dataframe thead th {\n",
       "        text-align: right;\n",
       "    }\n",
       "</style>\n",
       "<table border=\"1\" class=\"dataframe\">\n",
       "  <thead>\n",
       "    <tr style=\"text-align: right;\">\n",
       "      <th></th>\n",
       "      <th>day</th>\n",
       "      <th>population</th>\n",
       "    </tr>\n",
       "  </thead>\n",
       "  <tbody>\n",
       "    <tr>\n",
       "      <th>0</th>\n",
       "      <td>1</td>\n",
       "      <td>30</td>\n",
       "    </tr>\n",
       "    <tr>\n",
       "      <th>1</th>\n",
       "      <td>2</td>\n",
       "      <td>40</td>\n",
       "    </tr>\n",
       "    <tr>\n",
       "      <th>2</th>\n",
       "      <td>3</td>\n",
       "      <td>35</td>\n",
       "    </tr>\n",
       "    <tr>\n",
       "      <th>3</th>\n",
       "      <td>4</td>\n",
       "      <td>57</td>\n",
       "    </tr>\n",
       "    <tr>\n",
       "      <th>4</th>\n",
       "      <td>5</td>\n",
       "      <td>15</td>\n",
       "    </tr>\n",
       "  </tbody>\n",
       "</table>\n",
       "</div>"
      ],
      "text/plain": [
       "   day  population\n",
       "0    1          30\n",
       "1    2          40\n",
       "2    3          35\n",
       "3    4          57\n",
       "4    5          15"
      ]
     },
     "metadata": {},
     "output_type": "display_data"
    },
    {
     "name": "stdout",
     "output_type": "stream",
     "text": [
      "   population\n",
      "0        -0.5\n",
      "1         0.5\n",
      "2         0.0\n",
      "3         2.2\n",
      "4        -2.0\n"
     ]
    }
   ],
   "source": [
    "data_1 = pd.DataFrame({'day':[1,2,3,4,5], 'population':[30,40,35,57,15]})\n",
    "display(data_1)\n",
    "\n",
    "normalizer = pp.RobustScaler()\n",
    "df_temp = normalizer.fit_transform(pd.DataFrame(data_1['population']))\n",
    "df_temp = pd.DataFrame(df_temp, columns=['population'])\n",
    "print(df_temp)"
   ]
  },
  {
   "cell_type": "code",
   "execution_count": 28,
   "metadata": {},
   "outputs": [
    {
     "data": {
      "text/html": [
       "<div>\n",
       "<style scoped>\n",
       "    .dataframe tbody tr th:only-of-type {\n",
       "        vertical-align: middle;\n",
       "    }\n",
       "\n",
       "    .dataframe tbody tr th {\n",
       "        vertical-align: top;\n",
       "    }\n",
       "\n",
       "    .dataframe thead th {\n",
       "        text-align: right;\n",
       "    }\n",
       "</style>\n",
       "<table border=\"1\" class=\"dataframe\">\n",
       "  <thead>\n",
       "    <tr style=\"text-align: right;\">\n",
       "      <th></th>\n",
       "      <th>site</th>\n",
       "      <th>dwell-time</th>\n",
       "    </tr>\n",
       "  </thead>\n",
       "  <tbody>\n",
       "    <tr>\n",
       "      <th>0</th>\n",
       "      <td>0</td>\n",
       "      <td>2</td>\n",
       "    </tr>\n",
       "    <tr>\n",
       "      <th>1</th>\n",
       "      <td>1</td>\n",
       "      <td>48</td>\n",
       "    </tr>\n",
       "    <tr>\n",
       "      <th>2</th>\n",
       "      <td>0</td>\n",
       "      <td>15</td>\n",
       "    </tr>\n",
       "    <tr>\n",
       "      <th>3</th>\n",
       "      <td>1</td>\n",
       "      <td>16</td>\n",
       "    </tr>\n",
       "    <tr>\n",
       "      <th>4</th>\n",
       "      <td>0</td>\n",
       "      <td>38</td>\n",
       "    </tr>\n",
       "    <tr>\n",
       "      <th>...</th>\n",
       "      <td>...</td>\n",
       "      <td>...</td>\n",
       "    </tr>\n",
       "    <tr>\n",
       "      <th>295</th>\n",
       "      <td>0</td>\n",
       "      <td>22</td>\n",
       "    </tr>\n",
       "    <tr>\n",
       "      <th>296</th>\n",
       "      <td>0</td>\n",
       "      <td>7</td>\n",
       "    </tr>\n",
       "    <tr>\n",
       "      <th>297</th>\n",
       "      <td>1</td>\n",
       "      <td>144</td>\n",
       "    </tr>\n",
       "    <tr>\n",
       "      <th>298</th>\n",
       "      <td>0</td>\n",
       "      <td>89</td>\n",
       "    </tr>\n",
       "    <tr>\n",
       "      <th>299</th>\n",
       "      <td>0</td>\n",
       "      <td>138</td>\n",
       "    </tr>\n",
       "  </tbody>\n",
       "</table>\n",
       "<p>300 rows × 2 columns</p>\n",
       "</div>"
      ],
      "text/plain": [
       "     site  dwell-time\n",
       "0       0           2\n",
       "1       1          48\n",
       "2       0          15\n",
       "3       1          16\n",
       "4       0          38\n",
       "..    ...         ...\n",
       "295     0          22\n",
       "296     0           7\n",
       "297     1         144\n",
       "298     0          89\n",
       "299     0         138\n",
       "\n",
       "[300 rows x 2 columns]"
      ]
     },
     "metadata": {},
     "output_type": "display_data"
    },
    {
     "data": {
      "text/plain": [
       "16898"
      ]
     },
     "metadata": {},
     "output_type": "display_data"
    },
    {
     "data": {
      "text/plain": [
       "10032"
      ]
     },
     "metadata": {},
     "output_type": "display_data"
    },
    {
     "data": {
      "text/plain": [
       "91"
      ]
     },
     "metadata": {},
     "output_type": "display_data"
    },
    {
     "data": {
      "text/plain": [
       "88"
      ]
     },
     "metadata": {},
     "output_type": "display_data"
    }
   ],
   "source": [
    "new_site = pd.read_csv('data/new-site.csv', sep='\\t')\n",
    "display(new_site)\n",
    "\n",
    "display(new_site[new_site['site']==0]['dwell-time'].sum())\n",
    "display(new_site[new_site['site']==1]['dwell-time'].sum())\n",
    "\n",
    "display(round(new_site[new_site['site']==0]['dwell-time'].mean()))\n",
    "display(round(new_site[new_site['site']==1]['dwell-time'].mean()))"
   ]
  },
  {
   "cell_type": "code",
   "execution_count": 29,
   "metadata": {},
   "outputs": [
    {
     "name": "stdout",
     "output_type": "stream",
     "text": [
      "p-value = 0.000\n",
      "Распределение не нормальное\n",
      "p-value = 0.000\n",
      "Распределение не нормальное\n"
     ]
    },
    {
     "data": {
      "text/plain": [
       "0        2\n",
       "2       15\n",
       "4       38\n",
       "6      571\n",
       "8      233\n",
       "      ... \n",
       "294     39\n",
       "295     22\n",
       "296      7\n",
       "298     89\n",
       "299    138\n",
       "Name: dwell-time, Length: 186, dtype: int64"
      ]
     },
     "execution_count": 29,
     "metadata": {},
     "output_type": "execute_result"
    }
   ],
   "source": [
    "group_1_time = new_site[new_site['site']==0]['dwell-time']\n",
    "group_2_time = new_site[new_site['site']==1]['dwell-time']\n",
    "\n",
    "# Статистический тест Шапиро-Уилка\n",
    "# задаём уровень значимости\n",
    "alpha = 0.05 \n",
    "\n",
    "# проводим тест Шапиро — Уилка\n",
    "# Первая переменная - данные о статистике теста. Она тут не рассматривается\n",
    "_, p = stats.shapiro(group_1_time)\n",
    "\n",
    "print('p-value = %.3f' % (p))\n",
    "\n",
    "# интерпретируем результат\n",
    "if p <= alpha:\n",
    "    print('Распределение не нормальное')\n",
    "else:\n",
    "    print('Распределение нормальное')\n",
    "    \n",
    "    # Статистический тест Шапиро-Уилка\n",
    "# задаём уровень значимости\n",
    "alpha = 0.05 \n",
    "\n",
    "# проводим тест Шапиро — Уилка\n",
    "# Первая переменная - данные о статистике теста. Она тут не рассматривается\n",
    "_, p = stats.shapiro(group_2_time)\n",
    "\n",
    "print('p-value = %.3f' % (p))\n",
    "\n",
    "# интерпретируем результат\n",
    "if p <= alpha:\n",
    "    print('Распределение не нормальное')\n",
    "else:\n",
    "    print('Распределение нормальное')\n",
    "    \n",
    "group_1_time"
   ]
  },
  {
   "cell_type": "code",
   "execution_count": 30,
   "metadata": {},
   "outputs": [
    {
     "name": "stdout",
     "output_type": "stream",
     "text": [
      "p-value = 0.896\n",
      "p-значение больше, чем заданный уровень значимости 0.05. У нас нет оснований отвергнуть нулевую гипотезу.\n"
     ]
    }
   ],
   "source": [
    "# U-критерий Манна-Уитни\n",
    "\n",
    "alpha = 0.05\n",
    "\n",
    "# Проводим тест\n",
    "_, p = stats.mannwhitneyu(group_1_time, group_2_time)\n",
    "\n",
    "print(f'p-value = {round(p, 3)}')\n",
    "\n",
    "# Интрепретируем результат\n",
    "if p <= alpha:\n",
    "    print(f'p-значение меньше, чем заданный уровень значимости {alpha}. Отвергаем нулевую гипотезу.')\n",
    "else:\n",
    "    print(f'p-значение больше, чем заданный уровень значимости {alpha}. У нас нет оснований отвергнуть нулевую гипотезу.')"
   ]
  }
 ],
 "metadata": {
  "kernelspec": {
   "display_name": "Python 3",
   "language": "python",
   "name": "python3"
  },
  "language_info": {
   "codemirror_mode": {
    "name": "ipython",
    "version": 3
   },
   "file_extension": ".py",
   "mimetype": "text/x-python",
   "name": "python",
   "nbconvert_exporter": "python",
   "pygments_lexer": "ipython3",
   "version": "3.12.3"
  }
 },
 "nbformat": 4,
 "nbformat_minor": 2
}
